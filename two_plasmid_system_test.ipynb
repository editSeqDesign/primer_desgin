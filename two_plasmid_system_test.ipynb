{
 "cells": [
  {
   "cell_type": "code",
   "execution_count": 1,
   "id": "41a58674",
   "metadata": {},
   "outputs": [],
   "source": [
    "import pandas as pd\n",
    "from Bio import SeqIO \n",
    "import os,sys\n",
    "import sgRNA_utils.sgRNA_primer_util as su\n",
    "import module.sequencing_primer as sr\n",
    "import module.from_gbFile_to_seq as fq\n",
    "import module.parser_input_to_df as pf\n",
    "import module.product_and_decorate_editingSeq as p_d_seq\n",
    "import module.order as order\n",
    "import warnings   \n",
    "warnings.filterwarnings('ignore')  \n",
    "import configparser\n",
    "from Bio import SeqIO\n",
    "from Bio.Seq import Seq\n",
    "from Bio.SeqRecord import SeqRecord\n",
    "import json\n",
    "from sgRNA_utils.sgRNA_primer_config import config \n",
    "from loguru import logger\n",
    "input_path = '/home/yanghe/program/edit_sequence_design/input/config.json'"
   ]
  },
  {
   "cell_type": "code",
   "execution_count": 2,
   "id": "c5e85204",
   "metadata": {},
   "outputs": [],
   "source": [
    "#uha_dha_primer\n",
    "def extract_uha_dha_primer(info_input_df, sgRNA):\n",
    "\n",
    "    primer_template_for_u_d_ha_df = p_d_seq.create_primer_template(info_input_df,sgRNA)\n",
    "    uha_dha_primer_df = p_d_seq.design_primer(primer_template_for_u_d_ha_df,'Name_Region','primer_template','u_d')\n",
    "    uha_dha_primer_df = uha_dha_primer_df.rename(columns={'Region':'id'})\n",
    "    uha_dha_primer_df = uha_dha_primer_df.join(uha_dha_primer_df.id.str.split(';',expand=True).rename(columns = {0:'Name',1:'Region',2:'Type'})).drop(columns='id')\n",
    "    \n",
    "    return uha_dha_primer_df\n",
    "\n",
    "#uha_dha\n",
    "def extract_uha_dha(info_input_df,uha_dha_primer_df,sgRNA):\n",
    "    #整合进突变信息\n",
    "    info_df = info_input_df[['name','region','seq_altered','type','ref','strand']].rename(columns={'name':'Name','region':'Region'})\n",
    "    info_df.seq_altered.fillna('',inplace=True)\n",
    "    uha_dha_info_primer_df = pd.merge(info_df,uha_dha_primer_df,on=['Name','Region'])\n",
    "\n",
    "    #提取源生同源臂\n",
    "    uha_dha_df = p_d_seq.create_uha_dha_df(uha_dha_primer_df) \n",
    "    #合并突变信息\n",
    "    uha_dha_df = pd.merge(uha_dha_df,info_df,on=['Name','Region'])\n",
    "    uha_dha_sgRNA_df = pd.merge(uha_dha_df,sgRNA,on=['Name','Region'],how='inner')\n",
    "\n",
    "    return uha_dha_info_primer_df, uha_dha_df, uha_dha_sgRNA_df,info_df\n",
    "def two_plasmid_system_n20_enzyme_cut_seq(no_ccdb_uha_dha_sgRNA_df,promoter_seq,enzyme_df,enzyme_name):\n",
    "\n",
    "    sgRNA_enzyme_df = enzyme_df[enzyme_df['name']==enzyme_name]\n",
    "    cut_seq_len = sgRNA_enzyme_df.loc[0,'cut_seq_len']\n",
    "  \n",
    "\n",
    "    #N20片段引物退火获得\n",
    "    temp_sgRNA_df = no_ccdb_uha_dha_sgRNA_df[['Name', 'Region','Target sequence', 'promoter_N20_terminator']]\n",
    "    temp_sgRNA_df['Region'] = temp_sgRNA_df['Name'] +';'+ temp_sgRNA_df['Region']\n",
    "    temp_sgRNA_df.drop(columns='Name',inplace=True)\n",
    "    enzymeCutSeq_and_N20_df = p_d_seq.create_enzymeCutSeq_and_N20(temp_sgRNA_df, promoter_seq, enzyme_cut_len=cut_seq_len)\n",
    "    #取出重要列\n",
    "    enzymeCutSeq_and_N20_df = enzymeCutSeq_and_N20_df.rename(columns = {\"Region\":\"ID\"})\n",
    "    enzymeCutSeq_and_N20_df = enzymeCutSeq_and_N20_df[[ \"ID\",\"Target sequence\",\"enzymeCutSeq_and_N20\"  ]]\n",
    "\n",
    "    return enzymeCutSeq_and_N20_df\n",
    "\n",
    "def region_2_distance(sgRNA_plasmid_seq_len, sgRNA_region_json, first_primer_start_position):\n",
    "\n",
    "    distance_dict = {}\n",
    "    for k,v in sgRNA_region_json.items():\n",
    "        arr = v.split(',')\n",
    "        first = int(arr[0])\n",
    "        last = int(arr[1])\n",
    "        if first  > first_primer_start_position:\n",
    "            distance = first - first_primer_start_position\n",
    "        else:\n",
    "            distance = sgRNA_plasmid_seq_len - first_primer_start_position + first\n",
    "        distance_dict.update({distance:v})\n",
    "    sorted_distance = sorted(distance_dict.keys())\n",
    "\n",
    "    last_distance_dict = {}\n",
    "    for i in range(len(sorted_distance)):\n",
    "        v = distance_dict[sorted_distance[i]]\n",
    "        arr = v.split(',')\n",
    "        first = int(arr[0])\n",
    "        last = int(arr[1])\n",
    "        new_len = last - first\n",
    "\n",
    "        if i != 0:\n",
    "            v = distance_dict[sorted_distance[i-1]]\n",
    "            arr = v.split(',')\n",
    "            first = int(arr[0])\n",
    "            last = int(arr[1])\n",
    "            old_len = last - first\n",
    "            min_distance = sorted_distance[i] - sorted_distance[i-1] -old_len\n",
    "        else:\n",
    "            min_distance = sorted_distance[i]  \n",
    "\n",
    "        max_distance = min_distance + new_len\n",
    "\n",
    "        last_distance_dict.update({f'primer{i+1}':(min_distance, max_distance)})\n",
    "\n",
    "    print(last_distance_dict)\n",
    "\n",
    "    return last_distance_dict\n",
    "\n",
    "def read_chopchopInput_add_uha_dha(genome_path,chopchop_input,uha_dha_params):\n",
    "    max_left_arm_seq_length = uha_dha_params['max_left_arm_seq_length']\n",
    "    max_right_arm_seq_length = uha_dha_params['max_right_arm_seq_length']\n",
    "\n",
    "    info_input_df = su.del_Unnamed(pd.read_csv(chopchop_input))\n",
    "\n",
    "    def work(mun_id,geneid, mutation_pos_index):\n",
    "        if mutation_pos_index - max_left_arm_seq_length < 0:\n",
    "            error_message = \"The length of upstream sequence of manipulation site of \" + mun_id + \" must be larger than sum of 'Max Length of UHA' and 'Max Length of UIS'.\"\n",
    "            return error_message,error_message,error_message,error_message\n",
    "\n",
    "        record = su.extract_seq_from_genome(genome_path,geneid)\n",
    "\n",
    "        seq_uha_max_whole = str(record[\n",
    "                        mutation_pos_index - max_left_arm_seq_length : mutation_pos_index\n",
    "                        ])\n",
    "        seq_dha_max_whole = str(record[\n",
    "                                mutation_pos_index : mutation_pos_index + max_right_arm_seq_length\n",
    "                                ])\n",
    "\n",
    "\n",
    "        uha_upstream = str(  \n",
    "                        record[\n",
    "                            mutation_pos_index - max_left_arm_seq_length - 100 : mutation_pos_index - max_left_arm_seq_length\n",
    "                        ]\n",
    "                    )\n",
    "        dha_downstream=str(\n",
    "                        record[\n",
    "                            mutation_pos_index + max_right_arm_seq_length  : mutation_pos_index + max_right_arm_seq_length  + 100\n",
    "                        ]\n",
    "                    )\n",
    "        return  uha_upstream, dha_downstream, seq_uha_max_whole, seq_dha_max_whole\n",
    "\n",
    "    info_df = su.lambda2cols(info_input_df,lambdaf=work,in_coln=['id','geneid','mutation_pos_index'],to_colns=['uha_upstream','dha_downstream','seq_uha_max_whole','seq_dha_max_whole'])\n",
    "\n",
    "    return info_df\n",
    "\n",
    "\n",
    "\n",
    "def sort_compose_primer(sgRNA_promoter_terminator_start,\n",
    "                        primer_json,\n",
    "                        primer_position_json,\n",
    "                        gb_path,\n",
    "                        sgRNA_plasmid_backbone,\n",
    "                        n_20_label='N20',\n",
    "                        ccdb_label='ccdB',\n",
    "                        promoter_terminator_label = 'gRNA'):\n",
    "    \n",
    "    \n",
    "    position = list(primer_position_json.values())\n",
    "    first_list =  sorted([i for i in position if i > sgRNA_promoter_terminator_start])\n",
    "    second_list =  sorted([i for i in position if i < sgRNA_promoter_terminator_start])\n",
    "    first_list.extend(second_list)\n",
    "    position_primer_json = {value: key for key, value in primer_position_json.items()}\n",
    "    \n",
    "    #引物数量\n",
    "    primers_sum = len(first_list)*2 + 2\n",
    "    primer_dict = {}\n",
    "    i = 1\n",
    "\n",
    "    first_last_primer_dict = first_left_last_right_primer_design(\n",
    "                                        gb_path,\n",
    "                                        ccdb_label,\n",
    "                                        promoter_terminator_label,\n",
    "                                        n_20_label,\n",
    "                                        last_primer_num = int(primers_sum/2))\n",
    "\n",
    "    primer_dict.update(first_last_primer_dict)\n",
    "    #在质粒上取引物,同时设计引物\n",
    "    for item in first_list:\n",
    "        left_primer = primer_json[position_primer_json[item]]\n",
    "        if item < 40:\n",
    "            template = sgRNA_plasmid_backbone[-100:]+sgRNA_plasmid_backbone[:item]\n",
    "        else:\n",
    "            template = sgRNA_plasmid_backbone[:item]\n",
    "        primer_result =  su.primer_design(seqId=item,seqTemplate=template,stype='right')\n",
    "        if len(primer_result)<10:\n",
    "            pass\n",
    "        else:\n",
    "            right_primer = primer_result['PRIMER_RIGHT_0_SEQUENCE']\n",
    "            primer_dict.update({f\"primer_r_seq_(5'-3')_{i}\":right_primer})\n",
    "            i = i + 1\n",
    "            primer_dict.update({f\"primer_f_seq_(5'-3')_{i}\":left_primer})\n",
    "    \n",
    "    primer_dict_df = pd.DataFrame([primer_dict])\n",
    "    \n",
    "    return primer_dict_df,primers_sum"
   ]
  },
  {
   "cell_type": "markdown",
   "id": "30b0a843",
   "metadata": {},
   "source": [
    "# 数据预处理"
   ]
  },
  {
   "cell_type": "code",
   "execution_count": 3,
   "id": "a2dcfc2e",
   "metadata": {},
   "outputs": [],
   "source": [
    "data = {\n",
    "\n",
    "        \"chopchop_input\": \"/home/yanghe/tmp/data_preprocessing/output/info_input.csv\",   \n",
    "        \"sgRNA_result_path\": \"/home/yanghe/tmp/chopchop/output/sgRNA.csv\",\n",
    "        \"edit_sequence_design_workdir\":\"/home/yanghe/tmp/edit_sequence_design/output/\",\n",
    "        \"ref_genome\":\"/home/yanghe/program/data_preprocessing/input/GCA_000011325.1_ASM1132v1_genomic.fna\",\n",
    "\n",
    "        \"one_plasmid_file_path\": \"/home/yanghe/program/edit_sequence_design/input/pXMJ19-Cas9A-gRNA-crtYEb-Ts - ori.gb\",\n",
    "        \"no_ccdb_plasmid\":\"/home/yanghe/program/edit_sequence_design/input/no-ccdb-pXMJ19-Cas9A-gRNA-crtYEb-Ts - ori.gb\",\n",
    "        \"no_sgRNA_plasmid\":\"/home/yanghe/program/edit_sequence_design/input/no-sgRNA-pXMJ19-Cas9A-gRNA-crtYEb-Ts - ori.gb\",\n",
    "\n",
    "        \"uha_dha_config\": {\n",
    "            \"max_right_arm_seq_length\": 1050,\n",
    "            \"max_left_arm_seq_length\": 1050,\n",
    "            \"min_left_arm_seq_length\": 1000,   \n",
    "            \"min_right_arm_seq_length\": 1000\n",
    "        },\n",
    "\n",
    "        \n",
    "        \"plasmid_label\":{\n",
    "            \"ccdb_label\":\"ccdB\",\n",
    "            \"promoter_terminator_label\":\"gRNA\",\n",
    "            \"n_20_label\":\"N20\"\n",
    "        },\n",
    "        \n",
    "        \"sgRNA_primer_json\":{\n",
    "            \"primer3\":\"AACTATTTATCCAGTTGGTACAAAC\"\n",
    "        },\n",
    "        \"ccdb_primer_json\":{\n",
    "            \"primer3\":\"AACTGATTCAGTCTGATTTCGCGGT\"\n",
    "        },\n",
    "    \n",
    "        \"sgRNA_region_json\":{\n",
    "            \"region1\":\"tgtgtggaattgtgagcggataacaatttcacacaggaaacagaatt\"\n",
    "        },\n",
    "        \n",
    "        \"ccdb_region_json\":{\n",
    "            \"region1\":\"ATTGTGAGCGGATAACAATTTCACACAGGAAACAGAATTAATTAAGCTTAAAGGAGTTGAGAATGGATAAGAAATACTCAATAGGCTTAGATATCGGCACAAATAGCGTCGGATGGGCGGTGATC\"\n",
    "        },\n",
    "        \n",
    "        \"enzyme\":{\n",
    "            \"enzyme_name\":\"BsaI\",\n",
    "            \"gap_sequence\":\"A\",\n",
    "            \"protection_sequence\":\"CCA\"\n",
    "        },\n",
    "        \n",
    "        \"UHA_ARGS\":{\n",
    "            \"PRIMER_OPT_TM\": 65,\n",
    "            \"PRIMER_MIN_TM\": 55,\n",
    "            \"PRIMER_MAX_TM\": 75,\n",
    "            \"PRIMER_MIN_GC\": 20,\n",
    "            \"PRIMER_MAX_GC\": 80\n",
    "        },\n",
    "        \"SEQ_ALTERED_ARGS\":{\n",
    "            \"PRIMER_OPT_TM\": 65,\n",
    "            \"PRIMER_MIN_TM\": 55,\n",
    "            \"PRIMER_MAX_TM\": 75,  \n",
    "            \"PRIMER_MIN_GC\": 20,\n",
    "            \"PRIMER_MAX_GC\": 80\n",
    "        },\n",
    "        \"DHA_ARGS\":{\n",
    "            \"PRIMER_OPT_TM\": 65,\n",
    "            \"PRIMER_MIN_TM\": 55,\n",
    "            \"PRIMER_MAX_TM\": 75,\n",
    "            \"PRIMER_MIN_GC\": 20,\n",
    "            \"PRIMER_MAX_GC\": 80\n",
    "        },\n",
    "        \"UP_SGRNA_ARGS\":{\n",
    "            \"PRIMER_OPT_TM\": 65,\n",
    "            \"PRIMER_MIN_TM\": 55,\n",
    "            \"PRIMER_MAX_TM\": 75,\n",
    "            \"PRIMER_MIN_GC\": 20,\n",
    "            \"PRIMER_MAX_GC\": 80\n",
    "        },\n",
    "        \"DOWN_SGRNA_ARGS\": {\n",
    "            \"PRIMER_OPT_TM\": 65,\n",
    "            \"PRIMER_MIN_TM\": 55,\n",
    "            \"PRIMER_MAX_TM\": 75,\n",
    "            \"PRIMER_MIN_GC\": 20,\n",
    "            \"PRIMER_MAX_GC\": 80\n",
    "        },\n",
    "\n",
    "        \"PLASMID_Q_ARGS\":{\n",
    "            \"PRIMER_OPT_TM\": 65,\n",
    "            \"PRIMER_MIN_TM\": 55,  \n",
    "            \"PRIMER_MAX_TM\": 75,    \n",
    "            \"PRIMER_MIN_GC\": 20,\n",
    "            \"PRIMER_MAX_GC\": 80\n",
    "        },\n",
    "        \"GENOME_Q_ARGS\":{\n",
    "            \"PRIMER_OPT_TM\": 65,\n",
    "            \"PRIMER_MIN_TM\": 55,  \n",
    "            \"PRIMER_MAX_TM\": 75,    \n",
    "            \"PRIMER_MIN_GC\": 20,\n",
    "            \"PRIMER_MAX_GC\": 80\n",
    "        }\n",
    "       \n",
    "    }"
   ]
  },
  {
   "cell_type": "code",
   "execution_count": 4,
   "id": "4e5a375b",
   "metadata": {},
   "outputs": [],
   "source": [
    "    chopchop_input = data['chopchop_input']\n",
    "\n",
    "    #uha_dha参数\n",
    "    uha_dha_params = data['uha_dha_config']\n",
    "    \n",
    "    # enzyme_path = parent_base_path +'/'+ data['enzyme_path']\n",
    "    \n",
    "    sgRNA_result_path = data['sgRNA_result_path']\n",
    "    one_plasmid_file_path = data['one_plasmid_file_path']\n",
    "    no_ccdb_plasmid = data['no_ccdb_plasmid']\n",
    "    no_sgRNA_plasmid = data['no_sgRNA_plasmid']\n",
    "    \n",
    "    #plasmid label\n",
    "    ccdb_label = data['plasmid_label']['ccdb_label']\n",
    "    promoter_terminator_label = data['plasmid_label']['promoter_terminator_label']\n",
    "    n_20_label = data['plasmid_label']['n_20_label']   \n",
    " \n",
    "    #primer\n",
    "    sgRNA_primer_json = data['sgRNA_primer_json']\n",
    "    ccdb_primer_json = data['ccdb_primer_json']\n",
    "    \n",
    "    sgRNA_region_seq_json = data['sgRNA_region_json']\n",
    "    ccdb_region_seq_json =  data['ccdb_region_json']\n",
    "    \n",
    "    #基因组\n",
    "    genome_path = data['ref_genome']\n",
    "\n",
    "    #配置引物参数\n",
    "    # config.S_GLOBAL_ARGS = data['S_GLOBAL_ARGS']\n",
    "    # config.Q_ARGS = data['Q_ARGS']\n",
    "    config.UHA_ARGS = data['UHA_ARGS']\n",
    "    config.SEQ_ALTERED_ARGS = data['SEQ_ALTERED_ARGS']\n",
    "    config.DHA_ARGS = data['DHA_ARGS']\n",
    "    config.UP_SGRNA_ARGS = data['UP_SGRNA_ARGS']\n",
    "    config.DOWN_SGRNA_ARGS = data['DOWN_SGRNA_ARGS']\n",
    "\n",
    "    config.PLASMID_Q_ARGS = data['PLASMID_Q_ARGS']\n",
    "    config.GENOME_Q_ARGS = data['GENOME_Q_ARGS']   \n",
    "    \n",
    "    #配置输出参数\n",
    "    output = data['edit_sequence_design_workdir']\n",
    "    if not os.path.exists(output):\n",
    "        os.makedirs(output)\n",
    "     \n",
    "    enzyme_path = './input/enzyme.csv'  \n",
    "   "
   ]
  },
  {
   "cell_type": "code",
   "execution_count": 5,
   "id": "bcbd1c4e",
   "metadata": {},
   "outputs": [
    {
     "name": "stdout",
     "output_type": "stream",
     "text": [
      "{}\n",
      "{}\n",
      "{}\n",
      "{}\n",
      "{}\n",
      "{}\n",
      "{}\n",
      "{}\n",
      "{}\n",
      "{'PRIMER_LEFT_EXPLAIN': 'considered 8, ok 8', 'PRIMER_RIGHT_EXPLAIN': 'considered 408, low tm 132, not in any ok right region 172, ok 104', 'PRIMER_PAIR_EXPLAIN': 'considered 1, ok 1', 'PRIMER_LEFT_NUM_RETURNED': 1, 'PRIMER_RIGHT_NUM_RETURNED': 1, 'PRIMER_INTERNAL_NUM_RETURNED': 0, 'PRIMER_PAIR_NUM_RETURNED': 1, 'PRIMER_PAIR_0_PENALTY': 10.796287109339062, 'PRIMER_LEFT_0_PENALTY': 3.4730231907085454, 'PRIMER_RIGHT_0_PENALTY': 7.323263918630516, 'PRIMER_LEFT_0_SEQUENCE': 'GTTATTTCCGTGCGCGTTGGTGA', 'PRIMER_RIGHT_0_SEQUENCE': 'GCCTGCATTTATAAAGTGCTGACCC', 'PRIMER_LEFT_0': (0, 23), 'PRIMER_RIGHT_0': (1038, 25), 'PRIMER_LEFT_0_TM': 64.52697680929145, 'PRIMER_RIGHT_0_TM': 62.676736081369484, 'PRIMER_LEFT_0_GC_PERCENT': 52.17391304347826, 'PRIMER_RIGHT_0_GC_PERCENT': 48.0, 'PRIMER_LEFT_0_SELF_ANY_TH': 19.610968059260017, 'PRIMER_RIGHT_0_SELF_ANY_TH': 24.27068115227172, 'PRIMER_LEFT_0_SELF_END_TH': 5.11952728907761, 'PRIMER_RIGHT_0_SELF_END_TH': 15.625926837095221, 'PRIMER_LEFT_0_HAIRPIN_TH': 36.149651650343515, 'PRIMER_RIGHT_0_HAIRPIN_TH': 39.3011119927678, 'PRIMER_LEFT_0_END_STABILITY': 4.02, 'PRIMER_RIGHT_0_END_STABILITY': 4.46, 'PRIMER_PAIR_0_COMPL_ANY_TH': 0.0, 'PRIMER_PAIR_0_COMPL_END_TH': 0.0, 'PRIMER_PAIR_0_PRODUCT_SIZE': 1039}\n",
      "{}\n",
      "{'PRIMER_LEFT_EXPLAIN': 'considered 8, ok 8', 'PRIMER_RIGHT_EXPLAIN': 'considered 408, low tm 22, not in any ok right region 172, ok 214', 'PRIMER_PAIR_EXPLAIN': 'considered 1, ok 1', 'PRIMER_LEFT_NUM_RETURNED': 1, 'PRIMER_RIGHT_NUM_RETURNED': 1, 'PRIMER_INTERNAL_NUM_RETURNED': 0, 'PRIMER_PAIR_NUM_RETURNED': 1, 'PRIMER_PAIR_0_PENALTY': 3.078270799216739, 'PRIMER_LEFT_0_PENALTY': 3.0595622503428217, 'PRIMER_RIGHT_0_PENALTY': 0.018708548873917152, 'PRIMER_LEFT_0_SEQUENCE': 'CAAAGTGGTGGTGATGCGCTTCG', 'PRIMER_RIGHT_0_SEQUENCE': 'TGATCCTGCCGGTGAAGCGG', 'PRIMER_LEFT_0': (0, 23), 'PRIMER_RIGHT_0': (1028, 20), 'PRIMER_LEFT_0_TM': 65.05956225034282, 'PRIMER_RIGHT_0_TM': 64.98129145112608, 'PRIMER_LEFT_0_GC_PERCENT': 56.52173913043478, 'PRIMER_RIGHT_0_GC_PERCENT': 65.0, 'PRIMER_LEFT_0_SELF_ANY_TH': 17.329262194548335, 'PRIMER_RIGHT_0_SELF_ANY_TH': 16.30857360756403, 'PRIMER_LEFT_0_SELF_END_TH': 0.0, 'PRIMER_RIGHT_0_SELF_END_TH': 16.30857360756403, 'PRIMER_LEFT_0_HAIRPIN_TH': 0.0, 'PRIMER_RIGHT_0_HAIRPIN_TH': 36.32007900898992, 'PRIMER_LEFT_0_END_STABILITY': 3.79, 'PRIMER_RIGHT_0_END_STABILITY': 5.52, 'PRIMER_PAIR_0_COMPL_ANY_TH': 16.088027256334385, 'PRIMER_PAIR_0_COMPL_END_TH': 3.262359280960652, 'PRIMER_PAIR_0_PRODUCT_SIZE': 1029}\n",
      "{}\n",
      "{'PRIMER_LEFT_EXPLAIN': 'considered 8, low tm 2, ok 8', 'PRIMER_RIGHT_EXPLAIN': 'considered 408, high hairpin stability 3, not in any ok right region 172, ok 233', 'PRIMER_PAIR_EXPLAIN': 'considered 1, ok 1', 'PRIMER_LEFT_NUM_RETURNED': 1, 'PRIMER_RIGHT_NUM_RETURNED': 1, 'PRIMER_INTERNAL_NUM_RETURNED': 0, 'PRIMER_PAIR_NUM_RETURNED': 1, 'PRIMER_PAIR_0_PENALTY': 4.671901001554829, 'PRIMER_LEFT_0_PENALTY': 4.51246984845892, 'PRIMER_RIGHT_0_PENALTY': 0.15943115309590894, 'PRIMER_LEFT_0_SEQUENCE': 'CCTGAAATTTCCGTCATGCCGACC', 'PRIMER_RIGHT_0_SEQUENCE': 'CTGCGTGCAGGTCCCTGGTT', 'PRIMER_LEFT_0': (0, 24), 'PRIMER_RIGHT_0': (1022, 20), 'PRIMER_LEFT_0_TM': 64.48753015154108, 'PRIMER_RIGHT_0_TM': 65.15943115309591, 'PRIMER_LEFT_0_GC_PERCENT': 54.166666666666664, 'PRIMER_RIGHT_0_GC_PERCENT': 65.0, 'PRIMER_LEFT_0_SELF_ANY_TH': 15.483905306687745, 'PRIMER_RIGHT_0_SELF_ANY_TH': 13.998505944661474, 'PRIMER_LEFT_0_SELF_END_TH': 0.0, 'PRIMER_RIGHT_0_SELF_END_TH': 0.0, 'PRIMER_LEFT_0_HAIRPIN_TH': 42.07251419716505, 'PRIMER_RIGHT_0_HAIRPIN_TH': 43.77426119223003, 'PRIMER_LEFT_0_END_STABILITY': 4.79, 'PRIMER_RIGHT_0_END_STABILITY': 3.67, 'PRIMER_PAIR_0_COMPL_ANY_TH': 0.0, 'PRIMER_PAIR_0_COMPL_END_TH': 0.0, 'PRIMER_PAIR_0_PRODUCT_SIZE': 1023}\n",
      "{}\n",
      "{'PRIMER_LEFT_EXPLAIN': 'considered 8, ok 8', 'PRIMER_RIGHT_EXPLAIN': 'considered 408, low tm 1, high hairpin stability 57, not in any ok right region 172, ok 178', 'PRIMER_PAIR_EXPLAIN': 'considered 1, ok 1', 'PRIMER_LEFT_NUM_RETURNED': 1, 'PRIMER_RIGHT_NUM_RETURNED': 1, 'PRIMER_INTERNAL_NUM_RETURNED': 0, 'PRIMER_PAIR_NUM_RETURNED': 1, 'PRIMER_PAIR_0_PENALTY': 7.3210989619772135, 'PRIMER_LEFT_0_PENALTY': 4.05089504894022, 'PRIMER_RIGHT_0_PENALTY': 3.270203913036994, 'PRIMER_LEFT_0_SEQUENCE': 'GACTTCTTCTTCGCGCCCAA', 'PRIMER_RIGHT_0_SEQUENCE': 'CGAAGCAAGCGCGTGTAGATGA', 'PRIMER_LEFT_0': (0, 20), 'PRIMER_RIGHT_0': (1024, 22), 'PRIMER_LEFT_0_TM': 60.94910495105978, 'PRIMER_RIGHT_0_TM': 63.729796086963006, 'PRIMER_LEFT_0_GC_PERCENT': 55.0, 'PRIMER_RIGHT_0_GC_PERCENT': 54.54545454545455, 'PRIMER_LEFT_0_SELF_ANY_TH': 0.0, 'PRIMER_RIGHT_0_SELF_ANY_TH': 23.940233530563603, 'PRIMER_LEFT_0_SELF_END_TH': 0.0, 'PRIMER_RIGHT_0_SELF_END_TH': 0.0, 'PRIMER_LEFT_0_HAIRPIN_TH': 0.0, 'PRIMER_RIGHT_0_HAIRPIN_TH': 45.488676854316, 'PRIMER_LEFT_0_END_STABILITY': 4.12, 'PRIMER_RIGHT_0_END_STABILITY': 2.92, 'PRIMER_PAIR_0_COMPL_ANY_TH': 23.525035600698857, 'PRIMER_PAIR_0_COMPL_END_TH': 20.267342720304953, 'PRIMER_PAIR_0_PRODUCT_SIZE': 1025}\n",
      "{}\n",
      "{'PRIMER_LEFT_EXPLAIN': 'considered 8, high hairpin stability 2, ok 8', 'PRIMER_RIGHT_EXPLAIN': 'considered 408, low tm 27, not in any ok right region 172, ok 209', 'PRIMER_PAIR_EXPLAIN': 'considered 1, ok 1', 'PRIMER_LEFT_NUM_RETURNED': 1, 'PRIMER_RIGHT_NUM_RETURNED': 1, 'PRIMER_INTERNAL_NUM_RETURNED': 0, 'PRIMER_PAIR_NUM_RETURNED': 1, 'PRIMER_PAIR_0_PENALTY': 6.198941826581574, 'PRIMER_LEFT_0_PENALTY': 4.6075054315326724, 'PRIMER_RIGHT_0_PENALTY': 1.5914363950489019, 'PRIMER_LEFT_0_PROBLEMS': ' Hairpin stability too high;', 'PRIMER_LEFT_0_SEQUENCE': 'GCTGAGATCGAAAAGCGTGTTGCT', 'PRIMER_RIGHT_0_SEQUENCE': 'TGGCTGCTGGACAATTCGGGA', 'PRIMER_LEFT_0': (0, 24), 'PRIMER_RIGHT_0': (1031, 21), 'PRIMER_LEFT_0_TM': 64.39249456846733, 'PRIMER_RIGHT_0_TM': 64.4085636049511, 'PRIMER_LEFT_0_GC_PERCENT': 50.0, 'PRIMER_RIGHT_0_GC_PERCENT': 57.142857142857146, 'PRIMER_LEFT_0_SELF_ANY_TH': 0.0, 'PRIMER_RIGHT_0_SELF_ANY_TH': 0.0, 'PRIMER_LEFT_0_SELF_END_TH': 0.0, 'PRIMER_RIGHT_0_SELF_END_TH': 0.0, 'PRIMER_LEFT_0_HAIRPIN_TH': 63.099514384391625, 'PRIMER_RIGHT_0_HAIRPIN_TH': 0.0, 'PRIMER_LEFT_0_END_STABILITY': 3.91, 'PRIMER_RIGHT_0_END_STABILITY': 5.14, 'PRIMER_PAIR_0_COMPL_ANY_TH': 0.0, 'PRIMER_PAIR_0_COMPL_END_TH': 0.0, 'PRIMER_PAIR_0_PRODUCT_SIZE': 1032}\n",
      "{}\n",
      "{'PRIMER_LEFT_EXPLAIN': 'considered 8, low tm 4, ok 8', 'PRIMER_RIGHT_EXPLAIN': 'considered 408, low tm 39, not in any ok right region 172, ok 197', 'PRIMER_PAIR_EXPLAIN': 'considered 1, ok 1', 'PRIMER_LEFT_NUM_RETURNED': 1, 'PRIMER_RIGHT_NUM_RETURNED': 1, 'PRIMER_INTERNAL_NUM_RETURNED': 0, 'PRIMER_PAIR_NUM_RETURNED': 1, 'PRIMER_PAIR_0_PENALTY': 12.610259019731643, 'PRIMER_LEFT_0_PENALTY': 10.061720986376315, 'PRIMER_RIGHT_0_PENALTY': 2.548538033355328, 'PRIMER_LEFT_0_SEQUENCE': 'ATGACTAAAACACTTGGTTCCCT', 'PRIMER_RIGHT_0_SEQUENCE': 'AAGCTTGGGCCATTCCTGCT', 'PRIMER_LEFT_0': (0, 23), 'PRIMER_RIGHT_0': (1019, 20), 'PRIMER_LEFT_0_TM': 57.938279013623685, 'PRIMER_RIGHT_0_TM': 62.45146196664467, 'PRIMER_LEFT_0_GC_PERCENT': 39.130434782608695, 'PRIMER_RIGHT_0_GC_PERCENT': 55.0, 'PRIMER_LEFT_0_SELF_ANY_TH': 0.0, 'PRIMER_RIGHT_0_SELF_ANY_TH': 7.26366105581792, 'PRIMER_LEFT_0_SELF_END_TH': 0.0, 'PRIMER_RIGHT_0_SELF_END_TH': 9.764466054031118, 'PRIMER_LEFT_0_HAIRPIN_TH': 39.28793132834238, 'PRIMER_RIGHT_0_HAIRPIN_TH': 39.730566511905124, 'PRIMER_LEFT_0_END_STABILITY': 4.2, 'PRIMER_RIGHT_0_END_STABILITY': 4.24, 'PRIMER_PAIR_0_COMPL_ANY_TH': 0.0, 'PRIMER_PAIR_0_COMPL_END_TH': 0.0, 'PRIMER_PAIR_0_PRODUCT_SIZE': 1020}\n",
      "{}\n",
      "{'PRIMER_LEFT_EXPLAIN': 'considered 8, low tm 2, high hairpin stability 4, ok 8', 'PRIMER_RIGHT_EXPLAIN': 'considered 408, low tm 25, high hairpin stability 2, not in any ok right region 172, ok 209', 'PRIMER_PAIR_EXPLAIN': 'considered 1, ok 1', 'PRIMER_LEFT_NUM_RETURNED': 1, 'PRIMER_RIGHT_NUM_RETURNED': 1, 'PRIMER_INTERNAL_NUM_RETURNED': 0, 'PRIMER_PAIR_NUM_RETURNED': 1, 'PRIMER_PAIR_0_PENALTY': 3.835340222131606, 'PRIMER_LEFT_0_PENALTY': 3.0531575388139345, 'PRIMER_RIGHT_0_PENALTY': 0.7821826833176715, 'PRIMER_LEFT_0_PROBLEMS': ' Hairpin stability too high;', 'PRIMER_LEFT_0_SEQUENCE': 'CTACATGCGATTCTTGGTGCGCG', 'PRIMER_RIGHT_0_SEQUENCE': 'GGTGGTGTCCGAAAACCCGC', 'PRIMER_LEFT_0': (0, 23), 'PRIMER_RIGHT_0': (1023, 20), 'PRIMER_LEFT_0_TM': 64.94684246118607, 'PRIMER_RIGHT_0_TM': 64.21781731668233, 'PRIMER_LEFT_0_GC_PERCENT': 56.52173913043478, 'PRIMER_RIGHT_0_GC_PERCENT': 65.0, 'PRIMER_LEFT_0_SELF_ANY_TH': 0.0, 'PRIMER_RIGHT_0_SELF_ANY_TH': 0.0, 'PRIMER_LEFT_0_SELF_END_TH': 0.0, 'PRIMER_RIGHT_0_SELF_END_TH': 0.0, 'PRIMER_LEFT_0_HAIRPIN_TH': 51.224837733274626, 'PRIMER_RIGHT_0_HAIRPIN_TH': 35.4429864819399, 'PRIMER_LEFT_0_END_STABILITY': 6.86, 'PRIMER_RIGHT_0_END_STABILITY': 6.13, 'PRIMER_PAIR_0_COMPL_ANY_TH': 0.0, 'PRIMER_PAIR_0_COMPL_END_TH': 0.0, 'PRIMER_PAIR_0_PRODUCT_SIZE': 1024}\n",
      "{}\n",
      "{'PRIMER_LEFT_EXPLAIN': 'considered 8, low tm 4, high hairpin stability 1, ok 8', 'PRIMER_RIGHT_EXPLAIN': 'considered 408, low tm 47, high tm 3, not in any ok right region 172, ok 186', 'PRIMER_PAIR_EXPLAIN': 'considered 1, ok 1', 'PRIMER_LEFT_NUM_RETURNED': 1, 'PRIMER_RIGHT_NUM_RETURNED': 1, 'PRIMER_INTERNAL_NUM_RETURNED': 0, 'PRIMER_PAIR_NUM_RETURNED': 1, 'PRIMER_PAIR_0_PENALTY': 9.36879062420013, 'PRIMER_LEFT_0_PENALTY': 9.10487721337637, 'PRIMER_RIGHT_0_PENALTY': 0.2639134108237613, 'PRIMER_LEFT_0_PROBLEMS': ' Hairpin stability too high;', 'PRIMER_LEFT_0_SEQUENCE': 'GCTTTTAAGTTTTCTCGGTGATCCG', 'PRIMER_RIGHT_0_SEQUENCE': 'CGCGCACGCCTCATGGATTC', 'PRIMER_LEFT_0': (0, 25), 'PRIMER_RIGHT_0': (1036, 20), 'PRIMER_LEFT_0_TM': 60.89512278662363, 'PRIMER_RIGHT_0_TM': 64.73608658917624, 'PRIMER_LEFT_0_GC_PERCENT': 44.0, 'PRIMER_RIGHT_0_GC_PERCENT': 65.0, 'PRIMER_LEFT_0_SELF_ANY_TH': 0.0, 'PRIMER_RIGHT_0_SELF_ANY_TH': 8.74883535431286, 'PRIMER_LEFT_0_SELF_END_TH': 0.0, 'PRIMER_RIGHT_0_SELF_END_TH': 0.0, 'PRIMER_LEFT_0_HAIRPIN_TH': 55.99349097302695, 'PRIMER_RIGHT_0_HAIRPIN_TH': 37.98334977468494, 'PRIMER_LEFT_0_END_STABILITY': 4.18, 'PRIMER_RIGHT_0_END_STABILITY': 2.52, 'PRIMER_PAIR_0_COMPL_ANY_TH': 0.0, 'PRIMER_PAIR_0_COMPL_END_TH': 0.0, 'PRIMER_PAIR_0_PRODUCT_SIZE': 1037}\n",
      "{}\n",
      "{'PRIMER_LEFT_EXPLAIN': 'considered 8, low tm 1, ok 8', 'PRIMER_RIGHT_EXPLAIN': 'considered 408, low tm 54, not in any ok right region 172, ok 182', 'PRIMER_PAIR_EXPLAIN': 'considered 1, ok 1', 'PRIMER_LEFT_NUM_RETURNED': 1, 'PRIMER_RIGHT_NUM_RETURNED': 1, 'PRIMER_INTERNAL_NUM_RETURNED': 0, 'PRIMER_PAIR_NUM_RETURNED': 1, 'PRIMER_PAIR_0_PENALTY': 10.436286605489158, 'PRIMER_LEFT_0_PENALTY': 5.407095062055419, 'PRIMER_RIGHT_0_PENALTY': 5.02919154343374, 'PRIMER_LEFT_0_SEQUENCE': 'CTACCTATTTGCGCGGTACCACT', 'PRIMER_RIGHT_0_SEQUENCE': 'TCCACATTGTTCGTGATCGCTTCGA', 'PRIMER_LEFT_0': (0, 23), 'PRIMER_RIGHT_0': (1034, 25), 'PRIMER_LEFT_0_TM': 62.59290493794458, 'PRIMER_RIGHT_0_TM': 64.97080845656626, 'PRIMER_LEFT_0_GC_PERCENT': 52.17391304347826, 'PRIMER_RIGHT_0_GC_PERCENT': 48.0, 'PRIMER_LEFT_0_SELF_ANY_TH': 13.539476625797363, 'PRIMER_RIGHT_0_SELF_ANY_TH': 4.4829346765852165, 'PRIMER_LEFT_0_SELF_END_TH': 0.0, 'PRIMER_RIGHT_0_SELF_END_TH': 1.6655968014014206, 'PRIMER_LEFT_0_HAIRPIN_TH': 32.356514321702605, 'PRIMER_RIGHT_0_HAIRPIN_TH': 41.134684649373696, 'PRIMER_LEFT_0_END_STABILITY': 4.0, 'PRIMER_RIGHT_0_END_STABILITY': 3.71, 'PRIMER_PAIR_0_COMPL_ANY_TH': 0.0, 'PRIMER_PAIR_0_COMPL_END_TH': 0.0, 'PRIMER_PAIR_0_PRODUCT_SIZE': 1035}\n",
      "{}\n",
      "Index(['primer_f_seq_(5'-3')', 'primer_r_seq_(5'-3')', 'primer_f_Tm',\n",
      "       'primer_r_Tm', 'product_size', 'product_value', 'Name', 'Region',\n",
      "       'Type'],\n",
      "      dtype='object')\n"
     ]
    }
   ],
   "source": [
    "#1.read 编辑序列信息,给chopchop输入加uha、dha信息\n",
    "info_input_df = read_chopchopInput_add_uha_dha(genome_path, chopchop_input, uha_dha_params)\n",
    "\n",
    "#2.读取用户填的酶\n",
    "enzyme_df = su.del_Unnamed(pd.read_csv(enzyme_path))\n",
    "enzyme = data['enzyme']\n",
    "enzyme_name = enzyme['enzyme_name']\n",
    "\n",
    "#3.提取用户选择的sgRNA\n",
    "sgRNA = p_d_seq.extract_sgRNA_from_chopchop(sgRNA_result_path)\n",
    "\n",
    "#4.设计源生同源臂引物\n",
    "uha_dha_primer_df = extract_uha_dha_primer(info_input_df, sgRNA)\n",
    "\n",
    "#5.提取同源臂\n",
    "uha_dha_info_primer_df, uha_dha_df, uha_dha_sgRNA_df, info_df = extract_uha_dha(info_input_df, uha_dha_primer_df, sgRNA)\n"
   ]
  },
  {
   "cell_type": "code",
   "execution_count": 11,
   "id": "650cb7ce",
   "metadata": {},
   "outputs": [],
   "source": [
    "def one_plasmid_system_design_by_user_region(uha_dha_sgRNA_df,sgRNA_region_seq_json,one_plasmid_file_path,sgRNA_plasmid_backbone,enzyme_df,enzyme_name):\n",
    "    \n",
    "    #序列转换成坐标\n",
    "    region_json = su.convert_seq_cor(one_plasmid_file_path, sgRNA_region_seq_json,seq=sgRNA_plasmid_backbone)\n",
    "    #坐标转转换成距离\n",
    "    distance_dict = region_2_distance(len(sgRNA_plasmid_backbone), region_json, 0)\n",
    "\n",
    "    #根据区域设计引物\n",
    "    primer_result_list = p_d_seq.design_primer_by_region_in_plasmid(0,sgRNA_plasmid_backbone,distance_dict)\n",
    "    plasmid_primer_df = su.result_primer_list_to_df(primer_result_list)\n",
    "\n",
    "    #加接头\n",
    "    plasmid_primer_joint_df = p_d_seq.sgRNA_sgRNAprimer_merge(uha_dha_sgRNA_df,plasmid_primer_df,sgRNA_columns=['Name','Region'])\n",
    "    primers_sum = len(plasmid_primer_df)\n",
    "    plasmid_primer_joint_df = p_d_seq.add_joint_plasmid_primer(enzyme_df, enzyme_name, plasmid_primer_joint_df, primers_sum, primer_type='ccdb')\n",
    "    plasmid_primer_joint_df = plasmid_primer_joint_df.drop(columns='Region').drop_duplicates()\n",
    "    #修改df格式\n",
    "    plasmid_primer_df = p_d_seq.plasmid_primer(plasmid_primer_joint_df)\n",
    "    #添加索引\n",
    "    plasmid_primer_df.insert(0,'index',plasmid_primer_df.index)\n",
    "    plasmid_primer_df.reset_index(drop=True, inplace=True)\n",
    "\n",
    "    plasmid_primer_df = p_d_seq.add_product_and_size(one_plasmid_file_path, plasmid_primer_df, enzyme_df, enzyme_name=enzyme_name,seq=sgRNA_plasmid_backbone)\n",
    "\n",
    "    return  plasmid_primer_df\n",
    "\n",
    "\n",
    "#one plasmid pcr primer  \n",
    "def one_plasmid_system_pcr_design_primer(gb_path,\n",
    "                                         info_df,\n",
    "                                         uha_dha_sgRNA_df,\n",
    "                                         uha_dha_info_primer_df,\n",
    "                                         uha_dha_primer_df,\n",
    "                                         enzyme_df,\n",
    "                                         enzyme_name,\n",
    "                                         plasmid_primer_desgin_type,\n",
    "                                         seq_json):\n",
    "    \n",
    "    #创建新的质粒\n",
    "    uha_dha_sgRNA_df, promoter_terminator_up_promoter_seq, promoter_terminator_down_terminator_seq, type_kind  = p_d_seq.create_new_plasmid(gb_path, uha_dha_sgRNA_df.copy(), ccdb_label='ccdB', promoter_terminator_label='gRNA', n_20_label='N20')\n",
    "\n",
    "    #设计sgRNA、ccdb质粒引物\n",
    "    n20up_primer_template = uha_dha_sgRNA_df[['Name','Region','n20_up_template','Target sequence','Rev Target sequence']]\n",
    "    n20up_primer_template['Region'] = n20up_primer_template['Name'] +';'+ n20up_primer_template['Region']\n",
    "    n20up_primer_df = p_d_seq.design_primer(n20up_primer_template,'Region','n20_up_template','sgRNA')\n",
    "    n20up_primer_df = pd.merge(n20up_primer_template[['Region','Target sequence','Rev Target sequence']],n20up_primer_df,on=['Region'],how='inner')\n",
    "\n",
    "    #ccdb、sgrna质粒引物加接头\n",
    "    n20up_primer_df = p_d_seq.add_joint_sgRNA_primer(n20up_primer_df,enzyme_df,enzyme_name,'',stype='n20up_primer_joint')\n",
    "\n",
    "\n",
    "     #质粒引物的设计类型：1---用户指定范围，2----无需用户指定范围，3----用户指定额外引物  \n",
    "    if plasmid_primer_desgin_type == 2: \n",
    "        n20down_primer_template = uha_dha_sgRNA_df[['Name','Region','n20_down_template','Target sequence','Rev Target sequence']]\n",
    "        n20down_primer_template['Region'] = n20down_primer_template['Name'] +';'+ n20down_primer_template['Region']\n",
    "        n20down_primer_df = p_d_seq.design_primer(n20down_primer_template,'Region','n20_down_template','sgRNA')\n",
    "        n20down_primer_df = pd.merge(n20down_primer_template[['Region','Target sequence','Rev Target sequence']],n20down_primer_df,on=['Region'],how='inner')\n",
    "        #加接头\n",
    "        n20down_primer_df = p_d_seq.add_joint_sgRNA_primer(n20down_primer_df,enzyme_df,enzyme_name,'',stype='n20down_primer_joint')\n",
    "\n",
    "    elif plasmid_primer_desgin_type == 1:\n",
    "        plasmid_backbone = promoter_terminator_down_terminator_seq\n",
    "        n20down_primer_df =  one_plasmid_system_design_by_user_region(uha_dha_sgRNA_df,seq_json,gb_path,plasmid_backbone,enzyme_df,enzyme_name)\n",
    "    elif plasmid_primer_desgin_type == 3:\n",
    "        plasmid_backbone = promoter_terminator_down_terminator_seq\n",
    "        primer_position_json, sgRNA_failture_primer = p_d_seq.check_locate_primer(plasmid_backbone, seq_json)\n",
    "        n20down_primer_df = one_plasmid_system_design_by_user_primer(seq_json,primer_position_json,gb_path,plasmid_backbone,enzyme_df,enzyme_name)\n",
    "\n",
    "\n",
    "    seq_altered_primer_template = info_df[info_df.seq_altered.apply(lambda x:len(x)>120)][['Name','Region','seq_altered']]\n",
    "    seq_altered_primer_template['Region'] = seq_altered_primer_template['Name'] + seq_altered_primer_template['Region']\n",
    "    seq_altered_primer_df = p_d_seq.design_primer(seq_altered_primer_template,'Region','seq_altered',stype='seq_altered')\n",
    "\n",
    "    #给同源臂引物加接头:uha取promoter_terminator_down_terminator_seq尾部反义4bp，dha取头promoter_terminator_up_promoter_seq正义4bp\n",
    "    uha_dha_primer_df = p_d_seq.add_joint_sgRNA_primer(uha_dha_info_primer_df,enzyme_df,enzyme_name,promoter_terminator_down_terminator_seq, promoter_terminator_up_promoter_seq, stype = 'u_d_primer_joint')\n",
    "\n",
    "    #seq_altered_primer加接头\n",
    "    seq_altered_primer_df = p_d_seq.add_joint_sgRNA_primer(seq_altered_primer_df,enzyme_df,enzyme_name,'',stype='seq_altered_primer_joint')\n",
    "\n",
    "    #分别提取，修饰后的uha、dha引物\n",
    "    in_col = ['Name','Region',\"primer_f_seq_(5'-3')_joint\",\"primer_r_seq_(5'-3')_joint\",'product_value_joint','product_size_joint']\n",
    "    ou_col = ['Name','Region',\"u_primer_f_seq_(5'-3')\",\"u_primer_r_seq_(5'-3')\",'UHA','UHA_size',\"d_primer_f_seq_(5'-3')\",\"d_primer_r_seq_(5'-3')\",'DHA','DHA_size']\n",
    "    uha_primer_df, dha_primer_df = p_d_seq.create_uha_dha_primer_df(uha_dha_primer_df, in_col, ou_col)\n",
    "\n",
    "    n20down_primer_p_df = n20down_primer_df[[\"Region\",\"primer_f_seq_(5'-3')_joint\",\"primer_r_seq_(5'-3')_joint\",'product_value_joint','product_size_joint']]\n",
    "    n20up_primer_p_df = n20up_primer_df[[\"Region\",\"primer_f_seq_(5'-3')_joint\",\"primer_r_seq_(5'-3')_joint\",'product_value_joint','product_size_joint']]\n",
    "    seq_altered_primer_df = seq_altered_primer_df[[\"Region\",\"primer_f_seq_(5'-3')_joint\",\"primer_r_seq_(5'-3')_joint\",'product_value_joint','product_size_joint']]\n",
    "\n",
    "    return uha_dha_sgRNA_df,uha_primer_df, dha_primer_df, n20down_primer_p_df, n20up_primer_p_df, seq_altered_primer_df,type_kind\n"
   ]
  },
  {
   "cell_type": "code",
   "execution_count": null,
   "id": "b1b41482",
   "metadata": {},
   "outputs": [],
   "source": []
  },
  {
   "cell_type": "code",
   "execution_count": null,
   "id": "e67b4723",
   "metadata": {},
   "outputs": [],
   "source": []
  },
  {
   "cell_type": "code",
   "execution_count": 12,
   "id": "1bada360",
   "metadata": {},
   "outputs": [
    {
     "name": "stdout",
     "output_type": "stream",
     "text": [
      "-1 -1\n",
      "5057 5363\n",
      "-1 -1\n",
      "-1 -1\n",
      "-1 -1\n",
      "8949 9413\n",
      "-1 -1\n",
      "-1 -1\n",
      "-1 -1\n",
      "-1 -1\n",
      "-1 -1\n",
      "9002 9022\n",
      "tag: 0 marker 5057 5363\n",
      "5057 5363 8949 9413\n",
      "kjfdhsgjkhd\n",
      "启动子-n20-终止子上游序列： TGAGAGTTTTCGCCCCGAAGAACGTTTTCCAATGATGAGCACTTTTGCTTCCTCGCTCACTGACTCGCTGCGCTCGGTCGTTCGGCTGCGGCGAGCGGTATCAGCTCACTCAAAGGCGGTAATACGGTTATCCACAGAATCAGGGGATAACGCAGGAAAGAACATGTGAGCAAAAGGCCAGCAAAAGGCCAGGAACCGTAAAAAGGCCGCGTTGCTGGCGTTTTTCCATAGGCTCCGCCCCCCTGACGAGCATCACAAAAATCGACGCTCAAGTCAGAGGTGGCGAAACCCGACAGGACTATAAAGATACCAGGCGTTTCCCCCTGGAAGCTCCCTCGTGCGCTCTCCTGTTCCGACCCTGCCGCTTACCGGATACCTGTCCGCCTTTCTCCCTTCGGGAAGCGTGGCGCTTTCTCAATGCTCACGCTGTAGGTATCTCAGTTCGGTGTAGGTCGTTCGCTCCAAGCTGGGCTGTGTGCACGAACCCCCCGTTCAGCCCGACCGCTGCGCCTTATCCGGTAACTATCGTCTTGAGTCCAACCCGGTAAGACACGACTTATCGCCACTGGCAGCAGCCACTGGTAACAGGATTAGCAGAGCGAGGTATGTAGGCGGTGCTACAGAGTTCTTGAAGTGGTGGCCTAACTACGGCTACACTAGAAGGACAGTATTTGGTATCTGCGCTCTGCTGAAGCCAGTTACCTTCGGAAAAAGAGTTGGTAGCTCTTGATCCGGCAAACAAACCACCGCTGGTAGCGGTGGTTTTTTTGTTTGCAAGCAGCAGATTACGCGCAGAAAAAAAGGATCTCAAGAAGATCCTTTGATCTTTTCTACGGGGTCTGACGCTCAGTGGAACGAAAACTCACGTTAAGGGATTTTGGTCATGAGATTATCAAAAAGGATCTTCACCTAGATCCTTTTGGGGTGGGCGAAGAACTCCAGCATGAGATCCCCGCGCTGGAGGATCATCCAGCCATTCGGGGTCGTTCACTGGTTCCCCTTTCTGATTTCTGGCATAGAAGAACCCCCGTGAACTGTGTGGTTCCGGGGGTTGCTGATTTTTGCGAGACTTCTCGCGCAATTCCCTAGCTTAGGTGAAAACACCATGAAACACTAGGGAAACACCCATGAAACACCCATTAGGGCAGTAGGGCGGCTTCTTCGTCTAGGGCTTGCATTTGGGCGGTGATCTGGTCTTTAGCGTGTGAAAGTGTGTCGTAGGTGGCGTGCTCAATGCACTCGAACGTCACGTCATTTACCGGGTCACGGTGGGCAAAGAGAACTAGTGGGTTAGACATTGTTTTCCTCGTTGTCGGTGGTGGTGAGCTTTTCTAGCCGCTCGGTAAACGCGGCGATCATGAACTCTTGGAGGTTTTCACCGTTCTGCATGCCTGCGCGCTTCATGTCCTCACGTAGTGCCAAAGGAACGCGTGCGGTGACCACGACGGGCTTAGCCTTTGCCTGCGCTTCTAGTGCTTCGATGGTGGCTTGTGCCTGCGCTTGCTGCGCCTGTAGTGCCTGTTGAGCTTCTTGTAGTTGCTGTTCTAGCTGTGCCTTGGTTGCCATGCTTTAAGACTCTAGTAGCTTTCCTGCGATATGTCATGCGCATGCGTAGCAAACATTGTCCTGCAACTCATTCATTATGTGCAGTGCTCCTGTTACTAGTCGTACATACTCATATTTACCTAGTCTGCATGCAGTGCATGCACATGCAGTCATGTCGTGCTAATGTGTAAAACATGTACATGCAGATTGCTGGGGGTGCAGGGGGCGGAGCCACCCTGTCCATGCGGGGTGTGGGGCTTGCCCCGCCGGTACAGACAGTGAGCACCGGGGCACCTAGTCGCGGATACCCCCCCTAGGTATCGGACACGTAACCCTCCCATGTCGATGCAAATCTTTAACATTGAGTACGGGTAAGCTGGCACGCATAGCCAAGCTAGGCGGCCACCAAACACCACTAAAAATTAATAGTCCCTAGACAAGACAAACCCCCGTGCGAGCTACCAACTCATATGCACGGGGGCCACATAACCCGAAGGGGTTTCAATTGACAACCATAGCACTAGCTAAGACAACGGGCACAACACCCGCACAAACTCGCACTGCGCAACCCCGCACAACATCGGGTCTAGGTAACACTGAGTAACACTGAAATAGAAGTGAACACCTCTAAGGAACCGCAGGTCAATGAGGGTTCTAAGGTCACTCGCGCTAGGGCGTGGCGTAGGCAAAACGTCATGTACAAGATCACCAATAGTAAGGCTCTGGCGGGGTGCCATAGGTGGCGCAGGGACGAAGCTGTTGCGGTGTCCTGGTCGTCTAACGGTGCTTCGCAGTTTGAGGGTCTGCAAAACTCTCACTCTCGCTGGGGGTCATCTCTGGCTGAATTGGAAGTCATGGGCGAACGCCGCATTGAGCTGGCTATTGCTACTAAGAATCACTTGGCGGCGGGTGGCGCGCTCATGATGTTTGTGGGCACTGTTCGACACAACCGCTCACAGTCATTTGCGCAGGTTGAAGCGGGTATTAAGACTGCGTACTCTTCGATGGTGAAAACATCTCAGTGGAAGAAAGAACGTGCACGGTACGGGGTGGAGCACACCTATAGTGACTATGAGGTCACAGACTCTTGGGCGAACGGTTGGCACTTGCACCGCAACATGCTGTTGTTCTTGGATCGTCCACTGTCTGACGATGAACTCAAGGCGTTTGAGGATTCCATGTTTTCCCGCTGGTCTGCTGGTGTGGTTAAGGCCGGTATGGACGCGCCACTGCGTGAGCACGGGGTCAAACTTGATCAGGTGTCTACCTGGGGTGGAGACGCTGCGAAAATGGCAACCTACCTCGCTAAGGGCATGTCTCAGGAACTGACTGGCTCCGCTACTAAAACCGCGTCTAAGGGGTCGTACACGCCGTTTCAGATGTTGGATATGTTGGCCGATCAAAGCGACGCCGGCGAGGATATGGACGCTGTTTTGGTGGCTCGGTGGCGTGAGTATGAGGTTGGTTCTAAAAACCTGCGTTCGTCCTGGTCACGTGGGGCTAAGCGTGCTTTGGGCATTGATTACATAGACGCTGATGTACGTCGTGAAATGGAAGAAGAACTGTACAAGCTCGCCGGTCTGGAAGCACCGGAACGGGTCGAATCAACCCGCGTTGCTGTTGCTTTGGTGAAGCCCGATGATTGGAAACTGATTCAGTCTGATTTCGCGGTTAGGCAGTACGTTCTCGATTGCGTGGATAAGGCTAAGGACGTGGCCGCTGCGCAACGTGTCGCTAATGAGGTGCTGGCAAGTCTGGGTGTGGATTCCACCCCGTGCATGATCGTTATGGATGATGTGGACTTGGACGCGGTTCTGCCTACTCATGGGGACGCTACTAAGCGTGATCTGAATGCGGCGGTGTTCGCGGGTAATGAGCAGACTATTCTTCGCACCCACTAAAAGCGGCATAAACCCCGTTCGATATTTTGTGCGATGAATTTATGGTCAATGTCGCGGGGGCAAACTATGATGGGTCTTGTTGTTGGCGTCCCGGAAAACGATTCCGAAGCCCAACCTTTCATAGAAGGCGGCGGTGGAAT\n",
      "启动子—n20-终止子下游序列： AAATCTCGTGATGGCAGGTTGGGCGACCAATAACTGCCTTAAAAAAATTACGCCCCGCCCTGCCACTCATCGCAGTACTGTTGTAATTCATTAAGCATTCTGCCGACATGGAAGCCATCACAGACGGCATGATGAACCTGAATCGCCAGCGGCATCAGCACCTTGTCGCCTTGCGTATAATATTTGCCCATGGTGAAAACGGGGGCGAAGAAGTTGTCCATATTGGCCACGTTTAAATCAAAACTGGTGAAACTCACCCAGGGATTGGCTGAGACGAAAAACATATTCTCAATAAACCCTTTAGGGAAATAGGCCAGGTTTTCACCGTAACACGCCACATCTTGCGAATATATGTGTAGAAACTGCCGGAAATCGTCGTGGTATTCACTCCAGAGCGATGAAAACGTTTCAGTTTGCTCATGGAAAACGGTGTAACAAGGGTGAACACTATCCCATATCACCAGCTCACCGTCTTTCATTGCCATACGGAACTCCGGATGAGCATTCATCAGGCGGGCAAGAATGTGAATAAAGGCCGGATAAAACTTGTGCTTATTTTTCTTTACGGTCTTTAAAAAGGCCGTAATATCCAGCTGAACGGTCTGGTTATAGGTACATTGAGCAACTGACTGAAATGCCTCAAAATGTTCTTTACGATGCCATTGGGATATATCAACGGTGGTATATCCAGTGATTTTTTTCTCCATTTTAGCTTCCTTAGCTCCTGAAAATCTCGTCGAAGCTCGGCGGATTTGTCCTACTCAAGCTGATCCGACAAAATCCACACATTATCCCAGGTGTCCGGATCGGTCAAATACGCTGCCAGCTCATAGACCGTATCCAAAGCATCCGGGGCTGATCCCCGGCGCCAGGGTGGTTTTTCTTTTCACCAGTGAGACGGGCAACAGCTGATTGCCCTTCACCGCCTGGCCCTGAGAGAGTTGCAGCAAGCGGTCCACGTGGTTTGCCCCAGCAGGCGAAAATCCTGTTTGATGGTGGTTAACGGCGGGATATAACATGAGCTGTCTTCGGTATCGTCGTATCCCACTACCGAGATATCCGCACCAACGCGCAGCCCGGACTCGGTAATGGCGCGCATTGCGCCCAGCGCCATCTGATCGTTGGCAACCAGCATCGCAGTGGGAACGATGCCCTCATTCAGCATTTGCATGGTTTGTTGAAAACCGGACATGGCACTCCAGTCGCCTTCCCGTTCCGCTATCGGCTGAATTTGATTGCGAGTGAGATATTTATGCCAGCCAGCCAGACGCAGACGCGCCGAGACAGAACTTAATGGGCCCGCTAACAGCGCGATTTGCTGGTGACCCAATGCGACCAGATGCTCCACGCCCAGTCGCGTACCGTCTTCATGGGAGAAAATAATACTGTTGATGGGTGTCTGGTCAGAGACATCAAGAAATAACGCCGGAACATTAGTGCAGGCAGCTTCCACAGCAATGGCATCCTGGTCATCCAGCGGATAGTTAATGATCAGCCCACTGACGCGTTGCGCGAGAAGATTGTGCACCGCCGCTTTACAGGCTTCGACGCCGCTTCGTTCTACCATCGACACCACCACGCTGGCACCCAGTTGATCGGCGCGAGATTTAATCGCCGCGACAATTTGCGACGGCGCGTGCAGGGCCAGACTGGAGGTGGCAACGCCAATCAGCAACGACTGTTTGCCCGCCAGTTGTTGTGCCACGCGGTTGGGAATGTAATTCAGCTCCGCCATCGCCGCTTCCACTTTTTCCCGCGTTTTCGCAGAAACGTGGCTGGCCTGGTTCACCACGCGGGAAACGGTCTGATAAGAGACACCGGCATACTCTGCGACATCGTATAACGTTACTGGTTTCACATTCACCACCCTGAATTGACTCTCTTCCGGGCGCTATCATGCCATACCGCGAAAGGTTTTGCACCATTCGATGGTGTCAACGTAAATGCCGCTTCGCCTTCGCGCGCGAATTGCAAGCTGATCCGGGCTTATCGACTGCACGGTGCACCAATGCTTCTGGCGTCAGGCAGCCATCGGAAGCTGTGGTATGGCTGTGCAGGTCGTAAATCACTGCATAATTCGTGTCGCTCAAGGCGCACTCCCGTTCTGGATAATGTTTTTTGCGCCGACATCATAACGGTTCTGGCAAATATTCTGAAATGAGCTGTTGACAATTAATCATCGGCTCGTATAATGTGTGGAATTGTGAGCGGATAACAATTTCACACAGGAAACAGAATTAATTAAGCTTAAAGGAGTTGAGAATGGATAAGAAATACTCAATAGGCTTAGATATCGGCACAAATAGCGTCGGATGGGCGGTGATCACTGATGAATATAAGGTTCCGTCTAAAAAGTTCAAGGTTCTGGGAAATACAGACCGCCACAGTATCAAAAAAAATCTTATAGGGGCTCTTTTATTTGACAGTGGAGAGACAGCGGAAGCGACTCGTCTCAAACGGACAGCTCGTAGAAGGTATACACGTCGGAAGAATCGTATTTGTTATCTACAGGAGATTTTTTCAAATGAGATGGCGAAAGTAGATGATAGTTTCTTTCATCGACTTGAAGAGTCTTTTTTGGTGGAAGAAGACAAGAAGCATGAACGTCATCCTATTTTTGGAAATATAGTAGATGAAGTTGCTTATCATGAGAAATATCCAACTATCTATCATCTGCGAAAAAAATTGGTAGATTCTACTGATAAAGCGGATTTGCGCTTAATCTATTTGGCCTTAGCGCATATGATTAAGTTTCGTGGTCATTTTTTGATTGAGGGAGATTTAAATCCTGATAATAGTGATGTGGACAAACTATTTATCCAGTTGGTACAAACCTACAATCAATTATTTGAAGAAAACCCTATTAACGCAAGTGGAGTAGATGCTAAAGCGATTCTTTCTGCACGATTGAGTAAATCAAGACGATTAGAAAATCTCATTGCTCAGCTCCCCGGTGAGAAGAAAAATGGCTTATTTGGGAATCTCATTGCTTTGTCATTGGGTTTGACCCCTAATTTTAAATCAAATTTTGATTTGGCAGAAGATGCTAAATTACAGCTTTCAAAAGATACTTACGATGATGATTTAGATAATTTATTGGCGCAAATTGGAGATCAATATGCTGATTTGTTTTTGGCAGCTAAGAATTTATCAGATGCTATTTTACTTTCAGATATCCTAAGAGTAAATACTGAAATAACTAAGGCTCCCCTATCAGCTTCAATGATTAAACGCTACGATGAACATCATCAAGACTTGACTCTTTTAAAAGCTTTAGTTCGACAACAACTTCCAGAAAAGTATAAAGAAATCTTTTTTGATCAATCAAAAAACGGATATGCAGGTTATATTGATGGGGGAGCTAGCCAAGAAGAATTTTATAAATTTATCAAACCAATTTTAGAAAAAATGGATGGTACTGAGGAATTATTGGTGAAACTAAATCGTGAAGATTTGCTGCGCAAGCAACGGACCTTTGACAACGGCTCTATTCCCCATCAAATTCACTTGGGTGAGCTGCATGCTATTTTGAGAAGACAAGAAGACTTTTATCCATTTTTAAAAGACAATCGTGAGAAGATTGAAAAAATCTTGACTTTTCGAATTCCTTATTATGTTGGTCCATTGGCGCGTGGCAATAGTCGTTTTGCATGGATGACTCGGAAGTCTGAAGAAACAATTACCCCATGGAATTTTGAAGAAGTTGTCGATAAAGGTGCTTCAGCTCAATCATTTATTGAACGCATGACAAACTTTGATAAAAATCTTCCAAATGAAAAAGTACTACCAAAACATAGTTTGCTTTATGAGTATTTTACGGTTTATAACGAATTGACAAAGGTCAAATATGTTACTGAAGGAATGCGAAAACCAGCATTTCTTTCAGGTGAACAGAAGAAAGCCATTGTTGATTTACTCTTCAAAACAAATCGAAAAGTAACCGTTAAGCAATTAAAAGAAGATTATTTCAAAAAAATAGAATGTTTTGATAGTGTTGAAATTTCAGGAGTTGAAGATAGATTTAATGCTTCATTAGGTACCTACCATGATTTGCTAAAAATTATTAAAGATAAAGATTTTTTGGATAATGAAGAAAATGAAGATATCTTAGAGGATATTGTTTTAACATTGACCTTATTTGAAGATAGGGAGATGATTGAGGAAAGACTTAAAACATATGCTCACCTCTTTGATGATAAGGTGATGAAACAGCTTAAACGTCGCCGTTATACTGGTTGGGGACGTTTGTCTCGAAAATTGATTAATGGTATTAGGGATAAGCAATCTGGCAAAACAATATTAGATTTTTTGAAATCAGATGGTTTTGCCAATCGCAATTTTATGCAGCTGATCCATGATGATAGTTTGACATTTAAAGAAGACATTCAAAAAGCACAAGTGTCTGGACAAGGCGATAGTTTACATGAACATATTGCAAATTTAGCTGGTAGCCCTGCTATTAAAAAAGGTATTTTACAGACTGTAAAAGTTGTTGATGAATTGGTCAAAGTAATGGGGCGGCATAAGCCAGAAAATATCGTTATTGAAATGGCACGTGAAAATCAGACAACTCAAAAGGGCCAGAAAAATTCGCGAGAGCGTATGAAACGAATCGAAGAAGGTATCAAAGAATTAGGAAGTCAGATTCTTAAAGAGCATCCTGTTGAAAATACTCAATTGCAAAATGAAAAGCTCTATCTCTATTATCTCCAAAATGGAAGAGACATGTATGTGGACCAAGAATTAGATATTAATCGTTTAAGTGATTATGATGTCGATCACATTGTTCCACAAAGTTTCCTTAAAGACGATTCAATAGACAATAAGGTCTTAACGCGTTCTGATAAAAATCGTGGTAAATCGGATAACGTTCCAAGTGAAGAAGTAGTCAAAAAGATGAAAAACTATTGGAGACAACTTCTAAACGCCAAGTTAATCACTCAACGTAAGTTTGATAATTTAACGAAAGCTGAACGTGGAGGTTTGAGTGAACTTGATAAAGCTGGTTTTATCAAACGCCAATTGGTTGAAACTCGCCAAATCACTAAGCATGTGGCACAAATTTTGGATAGTCGCATGAATACTAAATACGATGAAAATGATAAACTTATTCGAGAGGTTAAAGTGATTACCTTAAAATCTAAATTAGTTTCTGACTTCCGAAAAGATTTCCAATTCTATAAAGTACGTGAGATTAACAATTACCATCATGCCCATGATGCGTATCTAAATGCCGTCGTTGGAACTGCTTTGATTAAGAAATATCCAAAACTTGAATCGGAGTTTGTCTATGGTGATTATAAAGTTTATGATGTTCGTAAAATGATTGCTAAGTCTGAGCAAGAAATAGGCAAAGCAACCGCAAAATATTTCTTTTACTCTAATATCATGAACTTCTTCAAAACAGAAATTACACTTGCAAATGGAGAGATTCGCAAACGCCCTCTAATCGAAACTAATGGGGAAACTGGAGAAATTGTCTGGGATAAAGGGCGAGATTTTGCCACAGTGCGCAAAGTATTGTCCATGCCCCAAGTCAATATTGTCAAGAAAACAGAAGTACAGACAGGCGGATTCTCCAAGGAGTCAATTTTACCAAAAAGAAATTCGGACAAGCTTATTGCTCGTAAAAAAGACTGGGATCCAAAAAAATATGGTGGTTTTGATAGTCCAACGGTAGCTTATTCAGTCCTAGTGGTTGCTAAGGTGGAAAAAGGGAAATCGAAGAAGTTAAAATCCGTTAAAGAGTTACTAGGGATCACAATTATGGAAAGAAGTTCCTTTGAAAAAAATCCGATTGACTTTTTAGAAGCTAAAGGATATAAGGAAGTTAAAAAAGACTTAATCATTAAACTACCTAAATATAGTCTTTTTGAGTTAGAAAACGGTCGTAAACGGATGCTGGCTAGTGCCGGAGAATTACAAAAAGGAAATGAGCTGGCTCTGCCAAGCAAATATGTGAATTTTTTATATTTAGCTAGTCATTATGAAAAGTTGAAGGGTAGTCCAGAAGATAACGAACAAAAACAATTGTTTGTGGAGCAGCATAAGCATTATTTAGATGAGATTATTGAGCAAATCAGTGAATTTTCTAAGCGTGTTATTTTAGCAGATGCCAATTTAGATAAAGTTCTTAGTGCATATAACAAACATAGAGACAAACCAATACGTGAACAAGCAGAAAATATTATTCATTTATTTACGTTGACGAATCTTGGAGCTCCCGCTGCTTTTAAATATTTTGATACAACAATTGATCGTAAACGATATACGTCTACAAAAGAAGTTTTAGATGCCACTCTTATCCATCAATCCATCACTGGTCTTTATGAAACACGCATTGATTTGAGTCAGCTAGGAGGTGACTGAGCATCAAATAAAACGAAAGGCTCAGTCGAAAGACTGGGCCTTTCGTTTTATCTGTCTAGGTTTATACATAGGCGAGTACTCTGTTATGGAGTCAGATCTTAGCGGCTCTTAAGGAACCGAAGCGTTTTAGAGCTAGAAATAGCAAGTTAAAATAAGGCTAGTCCGTTATCAACTTGAAAAAGTGGCACCGAGTCGCTGCAGGTCGACTCTAGAGGATCCCCGGGTACCGAGCTCGAATTCAGCTTGGCTGTTTTGGCGGATGAGAGAAGATTTTCAGCCTGATACAGATTAAATCAGAACGCAGAAGCGGTCTGATAAAACAGAATTTGCCTGGCGGCAGTAGCGCGGTGGTCCCACCTGACCCCATGCCGAACTCAGAAGTGAAACGCCGTAGCGCCGATGGTAGTGTGGGGTCTGCCCATGCGAGAGTAGGGAACTGCCAGGCATCAAATAAAACGAAAGGCTCAGTCGAAAGACTGGGCCTTTCGTTTTATCTGTTGTTTGTCGGTGAACGCTCTCCTGAGTAGGACAAATCCGCCGGGAGCGGATTTGAACGTTGCGAAGCAACGGCCCGGAGGGTGGCGGGCAGGACGCCCGCCATAAACTGCCAGGCATCAAATTAAGCAGAAGGCCATCCTGACGGATGGCCTTTTTGCGTTTCTACAAACTCTTTTGTTTATTTTTCTAAATACATTCAAATATGTATCCGCTCATGAGACAATAACCCTGATAAATGCTTCAATAATATTGAAAAAGGAAGAGTATGAGTATTCAACATTTCCGTGTCGCCCTTATTCCCTTTTTTGCGGCATTTTGCCTTCCTGTTTTTGCTCACCCAGAAACGCTGGTGAAAGTAAAAGATGCTGAAGATCAGTTGGGTGCACGAGTGGGTTACATCGAACTGGATCTCAACAGCGGTAAGATCCT\n",
      "{}\n",
      "{}\n",
      "{}\n",
      "{}\n",
      "{}\n",
      "{}\n",
      "{}\n",
      "{}\n",
      "{}\n",
      "n20up_primer_joint n20up_left_153019_ecoil_ybeL_ins;BA000036.3:153019-153020: CCA GGTCTC A CCAGGTCTCATGAGAGTTTTCGCCCCGAAGA\n",
      "n20up_primer_joint n20up_right_153019_ecoil_ybeL_ins;BA000036.3:153019-153020: GGTCCAGAGT AGAAAACTTAAAAGCGAACG GGTCCAGAGTAGAAAACTTAAAAGCGAACGTGAATTACACTGTACCTGTTGCGT ; CCA GGTCTC A\n",
      "n20up_primer_joint n20up_left_Cgl0006_1176_G_A_sub;BA000036.3:6529-6530: CCA GGTCTC A CCAGGTCTCATGAGAGTTTTCGCCCCGAAGA\n",
      "n20up_primer_joint n20up_right_Cgl0006_1176_G_A_sub;BA000036.3:6529-6530: GGTCCAGAGT CGGTTATTTCCGTGCGCGTT GGTCCAGAGTCGGTTATTTCCGTGCGCGTTTGAATTACACTGTACCTGTTGCGT ; CCA GGTCTC A\n",
      "n20up_primer_joint n20up_left_Cgl0141_cds_del;BA000036.3:153222-155613: CCA GGTCTC A CCAGGTCTCATGAGAGTTTTCGCCCCGAAGA\n",
      "n20up_primer_joint n20up_right_Cgl0141_cds_del;BA000036.3:153222-155613: GGTCCAGAGT CGGTGTGTTAATCCGCCAGC GGTCCAGAGTCGGTGTGTTAATCCGCCAGCTGAATTACACTGTACCTGTTGCGT ; CCA GGTCTC A\n",
      "n20up_primer_joint n20up_left_Cgl0591_-1_Ppgk_promoter_ins;BA000036.3:604469-604470: CCA GGTCTC A CCAGGTCTCATGAGAGTTTTCGCCCCGAAGA\n",
      "n20up_primer_joint n20up_right_Cgl0591_-1_Ppgk_promoter_ins;BA000036.3:604469-604470: GGTCCAGAGT CTGCGCGTAACCTGGGAAGC GGTCCAGAGTCTGCGCGTAACCTGGGAAGCTGAATTACACTGTACCTGTTGCGT ; CCA GGTCTC A\n",
      "n20up_primer_joint n20up_left_Cgl0851_ecoli_pgi_sub;BA000036.3:907755-909378: CCA GGTCTC A CCAGGTCTCATGAGAGTTTTCGCCCCGAAGA\n",
      "n20up_primer_joint n20up_right_Cgl0851_ecoli_pgi_sub;BA000036.3:907755-909378: GGTCCAGAGT CGGAGAAGGTGTACTTCTCG GGTCCAGAGTCGGAGAAGGTGTACTTCTCGTGAATTACACTGTACCTGTTGCGT ; CCA GGTCTC A\n",
      "n20up_primer_joint n20up_left_Cgl1386_327_18to15_sub;BA000036.3:1454441-1454459: CCA GGTCTC A CCAGGTCTCATGAGAGTTTTCGCCCCGAAGA\n",
      "n20up_primer_joint n20up_right_Cgl1386_327_18to15_sub;BA000036.3:1454441-1454459: GGTCCAGAGT TAGCCACCTTCTGATTCTTC GGTCCAGAGTTAGCCACCTTCTGATTCTTCTGAATTACACTGTACCTGTTGCGT ; CCA GGTCTC A\n",
      "n20up_primer_joint n20up_left_Cgl1436_1113_CAA_del;BA000036.3:1514089-1514092: CCA GGTCTC A CCAGGTCTCATGAGAGTTTTCGCCCCGAAGA\n",
      "n20up_primer_joint n20up_right_Cgl1436_1113_CAA_del;BA000036.3:1514089-1514092: GGTCCAGAGT TCCGTCTGCAAAGTGGTGGT GGTCCAGAGTTCCGTCTGCAAAGTGGTGGTTGAATTACACTGTACCTGTTGCGT ; CCA GGTCTC A\n",
      "n20up_primer_joint n20up_left_Cgl1790_1647_TCC_sub;BA000036.3:1899017-1899020: CCA GGTCTC A CCAGGTCTCATGAGAGTTTTCGCCCCGAAGA\n",
      "n20up_primer_joint n20up_right_Cgl1790_1647_TCC_sub;BA000036.3:1899017-1899020: GGTCCAGAGT TAATCTTATTGACTTCTTCT GGTCCAGAGTTAATCTTATTGACTTCTTCTTGAATTACACTGTACCTGTTGCGT ; CCA GGTCTC A\n",
      "n20up_primer_joint n20up_left_Cgl2342_213_GCA_ins;BA000036.3:2484874-2484875: CCA GGTCTC A CCAGGTCTCATGAGAGTTTTCGCCCCGAAGA\n",
      "n20up_primer_joint n20up_right_Cgl2342_213_GCA_ins;BA000036.3:2484874-2484875: GGTCCAGAGT GAAATTTCCGTCATGCCGAC GGTCCAGAGTGAAATTTCCGTCATGCCGACTGAATTACACTGTACCTGTTGCGT ; CCA GGTCTC A\n",
      "给定序列，坐标转成给定序列上的坐标\n",
      "{'primer1': (2583, 2630)}\n",
      "2603 0 hdsfjkgfhjgjghfj\n",
      "primer_r_seq_(5'-3')_2\n",
      "TAACAATTTCACACAGGAAACAGA GTTA\n",
      "TAACAATTTCACACAGGAAACAGA GTTA\n",
      "TAACAATTTCACACAGGAAACAGA GTTA\n",
      "TAACAATTTCACACAGGAAACAGA GTTA\n",
      "TAACAATTTCACACAGGAAACAGA GTTA\n",
      "TAACAATTTCACACAGGAAACAGA GTTA\n",
      "TAACAATTTCACACAGGAAACAGA GTTA\n",
      "TAACAATTTCACACAGGAAACAGA GTTA\n",
      "TAACAATTTCACACAGGAAACAGA GTTA\n",
      "接头长度： 14\n",
      "{}\n",
      "{}\n",
      "u_d_primer_joint uha_right_153019_ecoil_ybeL_insBA000036.3:153019-153020: GGTCCAGAGT TCAT GGTCCAGAGTTCATGAACGAGTATTTGTATTTCAATGTC ; CCA GGTCTC A\n",
      "u_d_primer_joint uha_left_153019_ecoil_ybeL_insBA000036.3:153019-153020: CCA GGTCTC A TCCT CCAGGTCTCATCCTAAAGCCCTGCCCACCGGATG\n",
      "u_d_primer_joint dha_right_153019_ecoil_ybeL_insBA000036.3:153019-153020: GGTCCAGAGT CTCA GGTCCAGAGTCTCACGCGCACGCCTCATGGATTC ; CCA GGTCTC A\n",
      "u_d_primer_joint uha_right_Cgl0006_1176_G_A_subBA000036.3:6529-6530: GGTCCAGAGT T GGTCCAGAGTTCGCGGACAGGCCTTCACGAC ; CCA GGTCTC A\n",
      "u_d_primer_joint uha_left_Cgl0006_1176_G_A_subBA000036.3:6529-6530: CCA GGTCTC A TCCT CCAGGTCTCATCCTAAGCGCCCGGGCATGTACAT\n",
      "u_d_primer_joint dha_left_Cgl0006_1176_G_A_subBA000036.3:6529-6530: CCA GGTCTC A GCG A GTTATTTCCGTGCGCGTTGGTGA\n",
      "u_d_primer_joint dha_right_Cgl0006_1176_G_A_subBA000036.3:6529-6530: GGTCCAGAGT CTCA GGTCCAGAGTCTCAGCCTGCATTTATAAAGTGCTGACCC ; CCA GGTCTC A\n",
      "u_d_primer_joint uha_left_Cgl0141_cds_delBA000036.3:153222-155613: CCA GGTCTC A TCCT CCAGGTCTCATCCTTCATCATCGGCGGCCACATGT\n",
      "u_d_primer_joint dha_right_Cgl0141_cds_delBA000036.3:153222-155613: GGTCCAGAGT CTCA GGTCCAGAGTCTCAGGTGGTGTCCGAAAACCCGC ; CCA GGTCTC A\n",
      "u_d_primer_joint uha_right_Cgl0591_-1_Ppgk_promoter_insBA000036.3:604469-604470: GGTCCAGAGT CGCTGGCACCGGTATTCAATTGTATTGATTAA GGTCCAGAGTCGCTGGCACCGGTATTCAATTGTATTGATTAAGCTTCCCAGGTTACGCGCAG ; CCA GGTCTC A\n",
      "u_d_primer_joint uha_left_Cgl0591_-1_Ppgk_promoter_insBA000036.3:604469-604470: CCA GGTCTC A TCCT CCAGGTCTCATCCTGGAATCACAGGCAGGGTGGGA\n",
      "u_d_primer_joint dha_left_Cgl0591_-1_Ppgk_promoter_insBA000036.3:604469-604470: CCA GGTCTC A AGCGCCACACAATGTGTAGTCAGGCAATCTGGGACA ATGACTAAAACACTTGGTTCCCT\n",
      "u_d_primer_joint dha_right_Cgl0591_-1_Ppgk_promoter_insBA000036.3:604469-604470: GGTCCAGAGT CTCA GGTCCAGAGTCTCAAAGCTTGGGCCATTCCTGCT ; CCA GGTCTC A\n",
      "u_d_primer_joint uha_right_Cgl0851_ecoli_pgi_subBA000036.3:907755-909378: GGTCCAGAGT tcat GGTCCAGAGTtcatTCGCTTGCTTATAGGGTCAGGGG ; CCA GGTCTC A\n",
      "u_d_primer_joint uha_left_Cgl0851_ecoli_pgi_subBA000036.3:907755-909378: CCA GGTCTC A TCCT CCAGGTCTCATCCTAACCCAAACCCTGCCCGAAG\n",
      "u_d_primer_joint dha_right_Cgl0851_ecoli_pgi_subBA000036.3:907755-909378: GGTCCAGAGT CTCA GGTCCAGAGTCTCATCCACATTGTTCGTGATCGCTTCGA ; CCA GGTCTC A\n",
      "u_d_primer_joint uha_right_Cgl1386_327_18to15_subBA000036.3:1454441-1454459: GGTCCAGAGT GCCACGC GGTCCAGAGTGCCACGCCTTAGCCACCTTCTGATTCTTCAGC ; CCA GGTCTC A\n",
      "u_d_primer_joint uha_left_Cgl1386_327_18to15_subBA000036.3:1454441-1454459: CCA GGTCTC A TCCT CCAGGTCTCATCCTGGCCCAATGTGGTCCCTCGG\n",
      "u_d_primer_joint dha_left_Cgl1386_327_18to15_subBA000036.3:1454441-1454459: CCA GGTCTC A TGGCGCGGTTAA GCTGAGATCGAAAAGCGTGTTGCT\n",
      "u_d_primer_joint dha_right_Cgl1386_327_18to15_subBA000036.3:1454441-1454459: GGTCCAGAGT CTCA GGTCCAGAGTCTCATGGCTGCTGGACAATTCGGGA ; CCA GGTCTC A\n",
      "u_d_primer_joint uha_left_Cgl1436_1113_CAA_delBA000036.3:1514089-1514092: CCA GGTCTC A TCCT CCAGGTCTCATCCTCAACAGCTCCTCCTGGGCCG\n",
      "u_d_primer_joint dha_right_Cgl1436_1113_CAA_delBA000036.3:1514089-1514092: GGTCCAGAGT CTCA GGTCCAGAGTCTCATGATCCTGCCGGTGAAGCGG ; CCA GGTCTC A\n",
      "u_d_primer_joint uha_right_Cgl1790_1647_TCC_subBA000036.3:1899017-1899020: GGTCCAGAGT TAA GGTCCAGAGTTAAAATAAGATTATGGCCGCGCTGATGC ; CCA GGTCTC A\n",
      "u_d_primer_joint uha_left_Cgl1790_1647_TCC_subBA000036.3:1899017-1899020: CCA GGTCTC A TCCT CCAGGTCTCATCCTGCAGGACAATAGCGTTACCCTGGT\n",
      "u_d_primer_joint dha_left_Cgl1790_1647_TCC_subBA000036.3:1899017-1899020: CCA GGTCTC A T TTA GACTTCTTCTTCGCGCCCAA\n",
      "u_d_primer_joint dha_right_Cgl1790_1647_TCC_subBA000036.3:1899017-1899020: GGTCCAGAGT CTCA GGTCCAGAGTCTCACGAAGCAAGCGCGTGTAGATGA ; CCA GGTCTC A\n",
      "u_d_primer_joint uha_right_Cgl2342_213_GCA_insBA000036.3:2484874-2484875: GGTCCAGAGT TGC GGTCCAGAGTTGCCTTTTCATGCAGCAAAGAATGATCG ; CCA GGTCTC A\n",
      "u_d_primer_joint uha_left_Cgl2342_213_GCA_insBA000036.3:2484874-2484875: CCA GGTCTC A TCCT CCAGGTCTCATCCTTTACCGGACACGCGCAACAC\n",
      "u_d_primer_joint dha_left_Cgl2342_213_GCA_insBA000036.3:2484874-2484875: CCA GGTCTC A G GCA CCTGAAATTTCCGTCATGCCGACC\n",
      "u_d_primer_joint dha_right_Cgl2342_213_GCA_insBA000036.3:2484874-2484875: GGTCCAGAGT CTCA GGTCCAGAGTCTCACTGCGTGCAGGTCCCTGGTT ; CCA GGTCTC A\n"
     ]
    },
    {
     "name": "stdout",
     "output_type": "stream",
     "text": [
      "seq_altered_left_153019_ecoil_ybeL_insBA000036.3:153019-153020: CCA GGTCTC A CCAGGTCTCAATGAACAAGGTTGCTCAATATTACC\n",
      "seq_altered_right_153019_ecoil_ybeL_insBA000036.3:153019-153020: GGTCCAGAGT GGTCCAGAGTTTACGGCTCAAACGGGCGTCT ; CCA GGTCTC A\n",
      "seq_altered_left_Cgl0851_ecoli_pgi_subBA000036.3:907755-909378: CCA GGTCTC A CCAGGTCTCAatgaaaaacatcaatccaacgcaga\n",
      "seq_altered_right_Cgl0851_ecoli_pgi_subBA000036.3:907755-909378: GGTCCAGAGT GGTCCAGAGTttaaccgcgccacgctttatagc ; CCA GGTCTC A\n",
      "Index(['Name', 'Region', 'primer_f_seq_(5'-3')', 'primer_r_seq_(5'-3')',\n",
      "       'primer_f_Tm', 'primer_r_Tm', 'primer_f_seq_(5'-3')_joint',\n",
      "       'primer_r_seq_(5'-3')_joint', 'product_value', 'product_size',\n",
      "       'product_value_joint', 'product_size_joint', 'Type'],\n",
      "      dtype='object')\n"
     ]
    }
   ],
   "source": [
    "uha_dha_sgRNA_df,uha_primer_df,dha_primer_df,n20down_primer_p_df,n20up_primer_p_df, seq_altered_p_df,type_kind = one_plasmid_system_pcr_design_primer(                                                                                                                            \n",
    "                                                                                                                                        one_plasmid_file_path,\n",
    "                                                                                                                                        info_df,\n",
    "                                                                                                                                        uha_dha_sgRNA_df,\n",
    "                                                                                                                                        uha_dha_info_primer_df,\n",
    "                                                                                                                                        uha_dha_primer_df,\n",
    "                                                                                                                                        enzyme_df,\n",
    "                                                                                                                                        enzyme_name,\n",
    "                                                                                                                                        1,\n",
    "                                                                                                                                        sgRNA_region_seq_json\n",
    "                                                                                                                                        )\n",
    "    "
   ]
  },
  {
   "cell_type": "code",
   "execution_count": 30,
   "id": "3b0ded45",
   "metadata": {},
   "outputs": [],
   "source": [
    "def one_plasmid_system_sequencing_design_primer(type_kind,uha_dha_sgRNA_df):\n",
    "    print(type_kind,\"1:代表启动子上游的序列大于600bp,同时终止子下游大于600bp\",\"2:代表启动子上游的序列小于600bp\",\"3:代表终止子上游序列小于600bp\")\n",
    "\n",
    "    if type_kind == 3:\n",
    "        #载体测序\n",
    "        sequencing_primer_df=uha_dha_sgRNA_df[['Name', 'Region', 'UHA', 'UHA_size', 'DHA', 'DHA_size',\n",
    "                                    'plasmid', 'promoter_N20_terminator',\n",
    "                                    'promoter_N20_terminator_up', 'promoter_N20_terminator_down','seq_altered']]\n",
    "        sequencing_primer_df['plasmid_sequencing_region'] = sequencing_primer_df['UHA']+sequencing_primer_df['seq_altered']+sequencing_primer_df['DHA']+sequencing_primer_df['promoter_N20_terminator_up'] + sequencing_primer_df['promoter_N20_terminator']\n",
    "        sequencing_primer_df['Region'] = sequencing_primer_df['Name']+';'+sequencing_primer_df['Region']\n",
    "        sequencing_primer_template = sequencing_primer_df[['Name','Region','plasmid_sequencing_region','plasmid']]\n",
    "        plasmid_sequencing_primer_df = p_d_seq.create_sequencing_primer(sequencing_primer_template,sr,'plasmid','plasmid_sequencing_region')\n",
    "\n",
    "    elif type_kind == 1:\n",
    "        #载体测序\n",
    "        #uha_dha测序\n",
    "        sequencing_primer_df=uha_dha_sgRNA_df[['Name', 'Region', 'UHA', 'UHA_size', 'DHA', 'DHA_size',\n",
    "                                    'plasmid', 'promoter_N20_terminator',\n",
    "                                    'promoter_N20_terminator_up', 'promoter_N20_terminator_down','seq_altered']]\n",
    "        sequencing_primer_df['plasmid_sequencing_region'] = sequencing_primer_df['UHA'] + sequencing_primer_df['seq_altered'] + sequencing_primer_df['DHA']\n",
    "        sequencing_primer_df['Region'] = sequencing_primer_df['Name']+';'+sequencing_primer_df['Region']\n",
    "        sequencing_primer_template1 = sequencing_primer_df[['Name','Region','plasmid_sequencing_region','plasmid']]\n",
    "        plasmid_sequencing_primer_df1 = p_d_seq.create_sequencing_primer(sequencing_primer_template1,sr,'plasmid','plasmid_sequencing_region')\n",
    "        #promoter_N20_terminator测序\n",
    "        sequencing_primer_df['plasmid_sequencing_region'] = sequencing_primer_df['promoter_N20_terminator']\n",
    "        sequencing_primer_template2 = sequencing_primer_df[['Name','Region','plasmid_sequencing_region','plasmid']]\n",
    "        plasmid_sequencing_primer_df2 = p_d_seq.create_sequencing_primer(sequencing_primer_template2,sr,'plasmid','plasmid_sequencing_region')\n",
    "        plasmid_sequencing_primer_df = p_d_seq.merge_sequencing_result(plasmid_sequencing_primer_df1, plasmid_sequencing_primer_df2)\n",
    "        \n",
    "        sequencing_primer_template = pd.merge(sequencing_primer_template1,sequencing_primer_template2,on=['Name','Region'],how='inner')\n",
    "        \n",
    "        \n",
    "    elif type_kind == 2:\n",
    "        #载体测序\n",
    "        #uha_dha测序\n",
    "        sequencing_primer_df=uha_dha_sgRNA_df[[ 'Name', 'Region', 'UHA', 'UHA_size', 'DHA', 'DHA_size',\n",
    "                                                'plasmid', 'promoter_N20_terminator',\n",
    "                                                'promoter_N20_terminator_up', 'promoter_N20_terminator_down','seq_altered']]\n",
    "        sequencing_primer_df['plasmid_sequencing_region'] = sequencing_primer_df['UHA'] + sequencing_primer_df['seq_altered'] + sequencing_primer_df['DHA'] + sequencing_primer_df['promoter_N20_terminator_up'] + sequencing_primer_df['promoter_N20_terminator'] \n",
    "        sequencing_primer_df['Region'] = sequencing_primer_df['Name']+';'+sequencing_primer_df['Region']\n",
    "        sequencing_primer_template = sequencing_primer_df[['Name','Region','plasmid_sequencing_region','plasmid']]\n",
    "        plasmid_sequencing_primer_df = p_d_seq.create_sequencing_primer(sequencing_primer_template,sr,'plasmid','plasmid_sequencing_region')\n",
    "\n",
    "    return plasmid_sequencing_primer_df, sequencing_primer_template"
   ]
  },
  {
   "cell_type": "code",
   "execution_count": null,
   "id": "d4d05f1d",
   "metadata": {},
   "outputs": [],
   "source": []
  },
  {
   "cell_type": "code",
   "execution_count": 29,
   "id": "bf241360",
   "metadata": {},
   "outputs": [
    {
     "data": {
      "text/plain": [
       "1"
      ]
     },
     "execution_count": 29,
     "metadata": {},
     "output_type": "execute_result"
    }
   ],
   "source": [
    "type_kind"
   ]
  },
  {
   "cell_type": "code",
   "execution_count": 26,
   "id": "9e57d979",
   "metadata": {},
   "outputs": [
    {
     "name": "stdout",
     "output_type": "stream",
     "text": [
      "1 1:代表启动子上游的序列大于600bp,同时终止子下游大于600bp 2:代表启动子上游的序列小于600bp 3:代表终止子上游序列小于600bp\n",
      "0 2554\n",
      "2954\n",
      "({'SEQUENCING_PRIMER_1': 'TTGCTCACCCAGAAACGCTG', 'SEQUENCING_PRIMER_1_TM': 61.16590711741475, 'SEQUENCING_PRIMER_2': 'GAGCTGATACCGCTCGCCGC', 'SEQUENCING_PRIMER_2_TM': 65.96384986687252, 'SEQUENCING_PRIMER_3': 'GAGCGCAACTCGGATGATCC', 'SEQUENCING_PRIMER_3_TM': 61.21822976233301, 'SEQUENCING_PRIMER_4': 'CGAACGCCTGCGCAATGGC', 'SEQUENCING_PRIMER_4_TM': 65.74288342382255, 'SEQUENCING_PRIMER_5': 'CGGCTCACATCAAGTCGTGCC', 'SEQUENCING_PRIMER_5_TM': 64.1446146725608}, {})\n",
      "0 2066\n",
      "2466\n",
      "({'SEQUENCING_PRIMER_1': 'TTGCTCACCCAGAAACGCTG', 'SEQUENCING_PRIMER_1_TM': 61.16590711741475, 'SEQUENCING_PRIMER_2': 'GAGCTGATACCGCTCGCCGC', 'SEQUENCING_PRIMER_2_TM': 65.96384986687252, 'SEQUENCING_PRIMER_3': 'TCGACGTCTGCAGGAAATGGCA', 'SEQUENCING_PRIMER_3_TM': 64.74457393037193, 'SEQUENCING_PRIMER_4': 'TGCGCTACCACAAGATCGTGCT', 'SEQUENCING_PRIMER_4_TM': 64.78597081263268}, {})\n",
      "0 2059\n",
      "2459\n",
      "({'SEQUENCING_PRIMER_1': 'TTGCTCACCCAGAAACGCTG', 'SEQUENCING_PRIMER_1_TM': 61.16590711741475, 'SEQUENCING_PRIMER_2': 'GAGCTGATACCGCTCGCCGC', 'SEQUENCING_PRIMER_2_TM': 65.96384986687252, 'SEQUENCING_PRIMER_3': 'AGTAGCAGCCGCCGACATCG', 'SEQUENCING_PRIMER_3_TM': 65.02608910662099, 'SEQUENCING_PRIMER_4': 'TTCAGTCGGTCACGCAAGGA', 'SEQUENCING_PRIMER_4_TM': 61.740332183258545}, {})\n",
      "0 2134\n",
      "2534\n",
      "({'SEQUENCING_PRIMER_1': 'TTGCTCACCCAGAAACGCTG', 'SEQUENCING_PRIMER_1_TM': 61.16590711741475, 'SEQUENCING_PRIMER_2': 'GAGCTGATACCGCTCGCCGC', 'SEQUENCING_PRIMER_2_TM': 65.96384986687252, 'SEQUENCING_PRIMER_3': 'GCCTGTTGTTGGGCGCGATC', 'SEQUENCING_PRIMER_3_TM': 64.92337028205594, 'SEQUENCING_PRIMER_4': 'CCCTGCATTACTTGTCCCGGCA', 'SEQUENCING_PRIMER_4_TM': 65.12396206685594}, {})\n",
      "0 3721\n",
      "4121\n",
      "({'SEQUENCING_PRIMER_1': 'TTGCTCACCCAGAAACGCTG', 'SEQUENCING_PRIMER_1_TM': 61.16590711741475, 'SEQUENCING_PRIMER_2': 'GAGCTGATACCGCTCGCCGC', 'SEQUENCING_PRIMER_2_TM': 65.96384986687252, 'SEQUENCING_PRIMER_3': 'CACGAACCGAGCGACACCCT', 'SEQUENCING_PRIMER_3_TM': 64.8415874819122, 'SEQUENCING_PRIMER_4': 'tgaaagacgttacgatcgcc', 'SEQUENCING_PRIMER_4_TM': 58.378893251945385, 'SEQUENCING_PRIMER_5': 'cgcgcgtgactggttcctga', 'SEQUENCING_PRIMER_5_TM': 65.41545464621163, 'SEQUENCING_PRIMER_6': 'actgctgtctaacttcttcgccca', 'SEQUENCING_PRIMER_6_TM': 64.1140872132674, 'SEQUENCING_PRIMER_7': 'AGGGGTAAGTTCCTCCGCCA', 'SEQUENCING_PRIMER_7_TM': 62.75885207959993}, {})\n",
      "0 2074\n",
      "2474\n",
      "({'SEQUENCING_PRIMER_1': 'TTGCTCACCCAGAAACGCTG', 'SEQUENCING_PRIMER_1_TM': 61.16590711741475, 'SEQUENCING_PRIMER_2': 'GAGCTGATACCGCTCGCCGC', 'SEQUENCING_PRIMER_2_TM': 65.96384986687252, 'SEQUENCING_PRIMER_3': 'ACCCGTTCCCAGGACAACTTCC', 'SEQUENCING_PRIMER_3_TM': 64.44375164616912, 'SEQUENCING_PRIMER_4': 'TCGCAACAACCCGGATCGCT', 'SEQUENCING_PRIMER_4_TM': 64.89768659828428}, {})\n",
      "0 2052\n",
      "2452\n",
      "({'SEQUENCING_PRIMER_1': 'TTGCTCACCCAGAAACGCTG', 'SEQUENCING_PRIMER_1_TM': 61.16590711741475, 'SEQUENCING_PRIMER_2': 'GAGCTGATACCGCTCGCCGC', 'SEQUENCING_PRIMER_2_TM': 65.96384986687252, 'SEQUENCING_PRIMER_3': 'ACGCCGCGAACATCCACACA', 'SEQUENCING_PRIMER_3_TM': 65.40702009302714, 'SEQUENCING_PRIMER_4': 'TTCCCTGATTATGCTGCTGC', 'SEQUENCING_PRIMER_4_TM': 58.31605672573471}, {})\n",
      "0 2052\n",
      "2452\n",
      "({'SEQUENCING_PRIMER_1': 'TTGCTCACCCAGAAACGCTG', 'SEQUENCING_PRIMER_1_TM': 61.16590711741475, 'SEQUENCING_PRIMER_2': 'GAGCTGATACCGCTCGCCGC', 'SEQUENCING_PRIMER_2_TM': 65.96384986687252, 'SEQUENCING_PRIMER_3': 'TCTGCTCAAAAACGTGGTCG', 'SEQUENCING_PRIMER_3_TM': 59.065504465387676, 'SEQUENCING_PRIMER_4': 'CCGACCATGAGCTTTTTCATCGCC', 'SEQUENCING_PRIMER_4_TM': 64.75610972804407}, {})\n",
      "0 2046\n",
      "2446\n",
      "({'SEQUENCING_PRIMER_1': 'TTGCTCACCCAGAAACGCTG', 'SEQUENCING_PRIMER_1_TM': 61.16590711741475, 'SEQUENCING_PRIMER_2': 'GAGCTGATACCGCTCGCCGC', 'SEQUENCING_PRIMER_2_TM': 65.96384986687252, 'SEQUENCING_PRIMER_3': 'TCCTGGCTGGATCCGTAAATGT', 'SEQUENCING_PRIMER_3_TM': 61.48881682687846, 'SEQUENCING_PRIMER_4': 'CGGACAGGACCTTGGGTTCGT', 'SEQUENCING_PRIMER_4_TM': 64.3516606621451}, {})\n",
      "6140 6604\n",
      "864\n",
      "({'SEQUENCING_PRIMER_1': 'TATGGTCAATGTCGCGGGGG', 'SEQUENCING_PRIMER_1_TM': 62.3185185163494}, {})\n",
      "5652 6116\n",
      "864\n",
      "({'SEQUENCING_PRIMER_1': 'TATGGTCAATGTCGCGGGGG', 'SEQUENCING_PRIMER_1_TM': 62.3185185163494}, {})\n",
      "5645 6109\n",
      "864\n",
      "({'SEQUENCING_PRIMER_1': 'TATGGTCAATGTCGCGGGGG', 'SEQUENCING_PRIMER_1_TM': 62.3185185163494}, {})\n",
      "5720 6184\n",
      "864\n",
      "({'SEQUENCING_PRIMER_1': 'TATGGTCAATGTCGCGGGGG', 'SEQUENCING_PRIMER_1_TM': 62.3185185163494}, {})\n",
      "7307 7771\n",
      "864\n",
      "({'SEQUENCING_PRIMER_1': 'TATGGTCAATGTCGCGGGGG', 'SEQUENCING_PRIMER_1_TM': 62.3185185163494}, {})\n",
      "5660 6124\n",
      "864\n",
      "({'SEQUENCING_PRIMER_1': 'TATGGTCAATGTCGCGGGGG', 'SEQUENCING_PRIMER_1_TM': 62.3185185163494}, {})\n",
      "5638 6102\n",
      "864\n",
      "({'SEQUENCING_PRIMER_1': 'TATGGTCAATGTCGCGGGGG', 'SEQUENCING_PRIMER_1_TM': 62.3185185163494}, {})\n",
      "5638 6102\n",
      "864\n",
      "({'SEQUENCING_PRIMER_1': 'TATGGTCAATGTCGCGGGGG', 'SEQUENCING_PRIMER_1_TM': 62.3185185163494}, {})\n",
      "5632 6096\n",
      "864\n",
      "({'SEQUENCING_PRIMER_1': 'TATGGTCAATGTCGCGGGGG', 'SEQUENCING_PRIMER_1_TM': 62.3185185163494}, {})\n"
     ]
    }
   ],
   "source": [
    "plasmid_sequencing_primer_df,sequencing_primer_template = one_plasmid_system_sequencing_design_primer(type_kind,uha_dha_sgRNA_df)"
   ]
  },
  {
   "cell_type": "code",
   "execution_count": 16,
   "id": "d53fdf2a",
   "metadata": {},
   "outputs": [
    {
     "data": {
      "text/html": [
       "<div>\n",
       "<style scoped>\n",
       "    .dataframe tbody tr th:only-of-type {\n",
       "        vertical-align: middle;\n",
       "    }\n",
       "\n",
       "    .dataframe tbody tr th {\n",
       "        vertical-align: top;\n",
       "    }\n",
       "\n",
       "    .dataframe thead th {\n",
       "        text-align: right;\n",
       "    }\n",
       "</style>\n",
       "<table border=\"1\" class=\"dataframe\">\n",
       "  <thead>\n",
       "    <tr style=\"text-align: right;\">\n",
       "      <th></th>\n",
       "      <th>Name</th>\n",
       "      <th>Region</th>\n",
       "      <th>plasmid_sequencing_region</th>\n",
       "      <th>plasmid</th>\n",
       "    </tr>\n",
       "  </thead>\n",
       "  <tbody>\n",
       "    <tr>\n",
       "      <th>0</th>\n",
       "      <td>153019_ecoil_ybeL_ins</td>\n",
       "      <td>153019_ecoil_ybeL_ins;BA000036.3:153019-153020</td>\n",
       "      <td>TTTTCTCCACATAAGCTGGCAATGTTGCGACGCAACAGGTACAGTG...</td>\n",
       "      <td>AAAGCCCTGCCCACCGGATGGAAACGCTGGGCCGCCATCGTTGCAG...</td>\n",
       "    </tr>\n",
       "    <tr>\n",
       "      <th>1</th>\n",
       "      <td>Cgl0006_1176_G_A_sub</td>\n",
       "      <td>Cgl0006_1176_G_A_sub;BA000036.3:6529-6530</td>\n",
       "      <td>TTTTCTCCACATAAGCTGGCAATGTTGCGACGCAACAGGTACAGTG...</td>\n",
       "      <td>AAGCGCCCGGGCATGTACATCGGTTCAACTGGACCGCGTGGACTGC...</td>\n",
       "    </tr>\n",
       "    <tr>\n",
       "      <th>2</th>\n",
       "      <td>Cgl0141_cds_del</td>\n",
       "      <td>Cgl0141_cds_del;BA000036.3:153222-155613</td>\n",
       "      <td>TTTTCTCCACATAAGCTGGCAATGTTGCGACGCAACAGGTACAGTG...</td>\n",
       "      <td>TCATCATCGGCGGCCACATGTGGTGGACCCTAGGACTCGTGCTGGC...</td>\n",
       "    </tr>\n",
       "    <tr>\n",
       "      <th>3</th>\n",
       "      <td>Cgl0591_-1_Ppgk_promoter_ins</td>\n",
       "      <td>Cgl0591_-1_Ppgk_promoter_ins;BA000036.3:604469...</td>\n",
       "      <td>TTTTCTCCACATAAGCTGGCAATGTTGCGACGCAACAGGTACAGTG...</td>\n",
       "      <td>GGAATCACAGGCAGGGTGGGAGATCTTCCACGCCTTGCAGGTGAAA...</td>\n",
       "    </tr>\n",
       "    <tr>\n",
       "      <th>4</th>\n",
       "      <td>Cgl0851_ecoli_pgi_sub</td>\n",
       "      <td>Cgl0851_ecoli_pgi_sub;BA000036.3:907755-909378</td>\n",
       "      <td>TTTTCTCCACATAAGCTGGCAATGTTGCGACGCAACAGGTACAGTG...</td>\n",
       "      <td>AACCCAAACCCTGCCCGAAGGAACTCAACGCAGAAGCACCAGCACT...</td>\n",
       "    </tr>\n",
       "    <tr>\n",
       "      <th>5</th>\n",
       "      <td>Cgl1386_327_18to15_sub</td>\n",
       "      <td>Cgl1386_327_18to15_sub;BA000036.3:1454441-1454459</td>\n",
       "      <td>TTTTCTCCACATAAGCTGGCAATGTTGCGACGCAACAGGTACAGTG...</td>\n",
       "      <td>GGCCCAATGTGGTCCCTCGGCGGCAACTACTCTGAAGGTTGGGAGT...</td>\n",
       "    </tr>\n",
       "    <tr>\n",
       "      <th>6</th>\n",
       "      <td>Cgl1436_1113_CAA_del</td>\n",
       "      <td>Cgl1436_1113_CAA_del;BA000036.3:1514089-1514092</td>\n",
       "      <td>TTTTCTCCACATAAGCTGGCAATGTTGCGACGCAACAGGTACAGTG...</td>\n",
       "      <td>CAACAGCTCCTCCTGGGCCGCCTTAATTGCCCCGACACGCGCATGA...</td>\n",
       "    </tr>\n",
       "    <tr>\n",
       "      <th>7</th>\n",
       "      <td>Cgl1790_1647_TCC_sub</td>\n",
       "      <td>Cgl1790_1647_TCC_sub;BA000036.3:1899017-1899020</td>\n",
       "      <td>TTTTCTCCACATAAGCTGGCAATGTTGCGACGCAACAGGTACAGTG...</td>\n",
       "      <td>GCAGGACAATAGCGTTACCCTGGTCAGCGACACGACGAGTGAGCTC...</td>\n",
       "    </tr>\n",
       "    <tr>\n",
       "      <th>8</th>\n",
       "      <td>Cgl2342_213_GCA_ins</td>\n",
       "      <td>Cgl2342_213_GCA_ins;BA000036.3:2484874-2484875</td>\n",
       "      <td>TTTTCTCCACATAAGCTGGCAATGTTGCGACGCAACAGGTACAGTG...</td>\n",
       "      <td>TTACCGGACACGCGCAACACATCTTCAGGTTCACAACCCACAATGT...</td>\n",
       "    </tr>\n",
       "  </tbody>\n",
       "</table>\n",
       "</div>"
      ],
      "text/plain": [
       "                           Name  \\\n",
       "0         153019_ecoil_ybeL_ins   \n",
       "1          Cgl0006_1176_G_A_sub   \n",
       "2               Cgl0141_cds_del   \n",
       "3  Cgl0591_-1_Ppgk_promoter_ins   \n",
       "4         Cgl0851_ecoli_pgi_sub   \n",
       "5        Cgl1386_327_18to15_sub   \n",
       "6          Cgl1436_1113_CAA_del   \n",
       "7          Cgl1790_1647_TCC_sub   \n",
       "8           Cgl2342_213_GCA_ins   \n",
       "\n",
       "                                              Region  \\\n",
       "0     153019_ecoil_ybeL_ins;BA000036.3:153019-153020   \n",
       "1          Cgl0006_1176_G_A_sub;BA000036.3:6529-6530   \n",
       "2           Cgl0141_cds_del;BA000036.3:153222-155613   \n",
       "3  Cgl0591_-1_Ppgk_promoter_ins;BA000036.3:604469...   \n",
       "4     Cgl0851_ecoli_pgi_sub;BA000036.3:907755-909378   \n",
       "5  Cgl1386_327_18to15_sub;BA000036.3:1454441-1454459   \n",
       "6    Cgl1436_1113_CAA_del;BA000036.3:1514089-1514092   \n",
       "7    Cgl1790_1647_TCC_sub;BA000036.3:1899017-1899020   \n",
       "8     Cgl2342_213_GCA_ins;BA000036.3:2484874-2484875   \n",
       "\n",
       "                           plasmid_sequencing_region  \\\n",
       "0  TTTTCTCCACATAAGCTGGCAATGTTGCGACGCAACAGGTACAGTG...   \n",
       "1  TTTTCTCCACATAAGCTGGCAATGTTGCGACGCAACAGGTACAGTG...   \n",
       "2  TTTTCTCCACATAAGCTGGCAATGTTGCGACGCAACAGGTACAGTG...   \n",
       "3  TTTTCTCCACATAAGCTGGCAATGTTGCGACGCAACAGGTACAGTG...   \n",
       "4  TTTTCTCCACATAAGCTGGCAATGTTGCGACGCAACAGGTACAGTG...   \n",
       "5  TTTTCTCCACATAAGCTGGCAATGTTGCGACGCAACAGGTACAGTG...   \n",
       "6  TTTTCTCCACATAAGCTGGCAATGTTGCGACGCAACAGGTACAGTG...   \n",
       "7  TTTTCTCCACATAAGCTGGCAATGTTGCGACGCAACAGGTACAGTG...   \n",
       "8  TTTTCTCCACATAAGCTGGCAATGTTGCGACGCAACAGGTACAGTG...   \n",
       "\n",
       "                                             plasmid  \n",
       "0  AAAGCCCTGCCCACCGGATGGAAACGCTGGGCCGCCATCGTTGCAG...  \n",
       "1  AAGCGCCCGGGCATGTACATCGGTTCAACTGGACCGCGTGGACTGC...  \n",
       "2  TCATCATCGGCGGCCACATGTGGTGGACCCTAGGACTCGTGCTGGC...  \n",
       "3  GGAATCACAGGCAGGGTGGGAGATCTTCCACGCCTTGCAGGTGAAA...  \n",
       "4  AACCCAAACCCTGCCCGAAGGAACTCAACGCAGAAGCACCAGCACT...  \n",
       "5  GGCCCAATGTGGTCCCTCGGCGGCAACTACTCTGAAGGTTGGGAGT...  \n",
       "6  CAACAGCTCCTCCTGGGCCGCCTTAATTGCCCCGACACGCGCATGA...  \n",
       "7  GCAGGACAATAGCGTTACCCTGGTCAGCGACACGACGAGTGAGCTC...  \n",
       "8  TTACCGGACACGCGCAACACATCTTCAGGTTCACAACCCACAATGT...  "
      ]
     },
     "execution_count": 16,
     "metadata": {},
     "output_type": "execute_result"
    }
   ],
   "source": [
    "sequencing_primer_template"
   ]
  },
  {
   "cell_type": "code",
   "execution_count": 28,
   "id": "4ae75311",
   "metadata": {},
   "outputs": [
    {
     "data": {
      "text/html": [
       "<div>\n",
       "<style scoped>\n",
       "    .dataframe tbody tr th:only-of-type {\n",
       "        vertical-align: middle;\n",
       "    }\n",
       "\n",
       "    .dataframe tbody tr th {\n",
       "        vertical-align: top;\n",
       "    }\n",
       "\n",
       "    .dataframe thead th {\n",
       "        text-align: right;\n",
       "    }\n",
       "</style>\n",
       "<table border=\"1\" class=\"dataframe\">\n",
       "  <thead>\n",
       "    <tr style=\"text-align: right;\">\n",
       "      <th></th>\n",
       "      <th>Name</th>\n",
       "      <th>Region</th>\n",
       "      <th>UHA</th>\n",
       "      <th>UHA_size</th>\n",
       "      <th>DHA</th>\n",
       "      <th>DHA_size</th>\n",
       "      <th>plasmid</th>\n",
       "      <th>promoter_N20_terminator</th>\n",
       "      <th>promoter_N20_terminator_up</th>\n",
       "      <th>promoter_N20_terminator_down</th>\n",
       "      <th>seq_altered</th>\n",
       "      <th>plasmid_sequencing_region</th>\n",
       "    </tr>\n",
       "  </thead>\n",
       "  <tbody>\n",
       "    <tr>\n",
       "      <th>0</th>\n",
       "      <td>153019_ecoil_ybeL_ins</td>\n",
       "      <td>153019_ecoil_ybeL_ins;BA000036.3:153019-153020</td>\n",
       "      <td>AAAGCCCTGCCCACCGGATGGAAACGCTGGGCCGCCATCGTTGCAG...</td>\n",
       "      <td>1034</td>\n",
       "      <td>GCTTTTAAGTTTTCTCGGTGATCCGTAACGAGAAGTTGAACAGCAA...</td>\n",
       "      <td>1037</td>\n",
       "      <td>AAAGCCCTGCCCACCGGATGGAAACGCTGGGCCGCCATCGTTGCAG...</td>\n",
       "      <td>TTTTCTCCACATAAGCTGGCAATGTTGCGACGCAACAGGTACAGTG...</td>\n",
       "      <td>TGAGAGTTTTCGCCCCGAAGAACGTTTTCCAATGATGAGCACTTTT...</td>\n",
       "      <td>AAATCTCGTGATGGCAGGTTGGGCGACCAATAACTGCCTTAAAAAA...</td>\n",
       "      <td>ATGAACAAGGTTGCTCAATATTACCGTGAACTGGTTGCGTCACTGA...</td>\n",
       "      <td>TTTTCTCCACATAAGCTGGCAATGTTGCGACGCAACAGGTACAGTG...</td>\n",
       "    </tr>\n",
       "    <tr>\n",
       "      <th>1</th>\n",
       "      <td>Cgl0006_1176_G_A_sub</td>\n",
       "      <td>Cgl0006_1176_G_A_sub;BA000036.3:6529-6530</td>\n",
       "      <td>AAGCGCCCGGGCATGTACATCGGTTCAACTGGACCGCGTGGACTGC...</td>\n",
       "      <td>1026</td>\n",
       "      <td>GTTATTTCCGTGCGCGTTGGTGACCCACAGTTCGAAGGCCAGACCA...</td>\n",
       "      <td>1039</td>\n",
       "      <td>AAGCGCCCGGGCATGTACATCGGTTCAACTGGACCGCGTGGACTGC...</td>\n",
       "      <td>TTTTCTCCACATAAGCTGGCAATGTTGCGACGCAACAGGTACAGTG...</td>\n",
       "      <td>TGAGAGTTTTCGCCCCGAAGAACGTTTTCCAATGATGAGCACTTTT...</td>\n",
       "      <td>AAATCTCGTGATGGCAGGTTGGGCGACCAATAACTGCCTTAAAAAA...</td>\n",
       "      <td>A</td>\n",
       "      <td>TTTTCTCCACATAAGCTGGCAATGTTGCGACGCAACAGGTACAGTG...</td>\n",
       "    </tr>\n",
       "    <tr>\n",
       "      <th>2</th>\n",
       "      <td>Cgl0141_cds_del</td>\n",
       "      <td>Cgl0141_cds_del;BA000036.3:153222-155613</td>\n",
       "      <td>TCATCATCGGCGGCCACATGTGGTGGACCCTAGGACTCGTGCTGGC...</td>\n",
       "      <td>1035</td>\n",
       "      <td>CTACATGCGATTCTTGGTGCGCGCAGTGGCAGGAGCGGTCCATGGA...</td>\n",
       "      <td>1024</td>\n",
       "      <td>TCATCATCGGCGGCCACATGTGGTGGACCCTAGGACTCGTGCTGGC...</td>\n",
       "      <td>TTTTCTCCACATAAGCTGGCAATGTTGCGACGCAACAGGTACAGTG...</td>\n",
       "      <td>TGAGAGTTTTCGCCCCGAAGAACGTTTTCCAATGATGAGCACTTTT...</td>\n",
       "      <td>AAATCTCGTGATGGCAGGTTGGGCGACCAATAACTGCCTTAAAAAA...</td>\n",
       "      <td></td>\n",
       "      <td>TTTTCTCCACATAAGCTGGCAATGTTGCGACGCAACAGGTACAGTG...</td>\n",
       "    </tr>\n",
       "    <tr>\n",
       "      <th>3</th>\n",
       "      <td>Cgl0591_-1_Ppgk_promoter_ins</td>\n",
       "      <td>Cgl0591_-1_Ppgk_promoter_ins;BA000036.3:604469...</td>\n",
       "      <td>GGAATCACAGGCAGGGTGGGAGATCTTCCACGCCTTGCAGGTGAAA...</td>\n",
       "      <td>1050</td>\n",
       "      <td>ATGACTAAAACACTTGGTTCCCTTCAGCTGGAAGAAATCACGCTGA...</td>\n",
       "      <td>1020</td>\n",
       "      <td>GGAATCACAGGCAGGGTGGGAGATCTTCCACGCCTTGCAGGTGAAA...</td>\n",
       "      <td>TTTTCTCCACATAAGCTGGCAATGTTGCGACGCAACAGGTACAGTG...</td>\n",
       "      <td>TGAGAGTTTTCGCCCCGAAGAACGTTTTCCAATGATGAGCACTTTT...</td>\n",
       "      <td>AAATCTCGTGATGGCAGGTTGGGCGACCAATAACTGCCTTAAAAAA...</td>\n",
       "      <td>TTAATCAATACAATTGAATACCGGTGCCAGCGCCACACAATGTGTA...</td>\n",
       "      <td>TTTTCTCCACATAAGCTGGCAATGTTGCGACGCAACAGGTACAGTG...</td>\n",
       "    </tr>\n",
       "    <tr>\n",
       "      <th>4</th>\n",
       "      <td>Cgl0851_ecoli_pgi_sub</td>\n",
       "      <td>Cgl0851_ecoli_pgi_sub;BA000036.3:907755-909378</td>\n",
       "      <td>AACCCAAACCCTGCCCGAAGGAACTCAACGCAGAAGCACCAGCACT...</td>\n",
       "      <td>1036</td>\n",
       "      <td>CTACCTATTTGCGCGGTACCACTTAATCAGTGAATCAGTGGAAGAA...</td>\n",
       "      <td>1035</td>\n",
       "      <td>AACCCAAACCCTGCCCGAAGGAACTCAACGCAGAAGCACCAGCACT...</td>\n",
       "      <td>TTTTCTCCACATAAGCTGGCAATGTTGCGACGCAACAGGTACAGTG...</td>\n",
       "      <td>TGAGAGTTTTCGCCCCGAAGAACGTTTTCCAATGATGAGCACTTTT...</td>\n",
       "      <td>AAATCTCGTGATGGCAGGTTGGGCGACCAATAACTGCCTTAAAAAA...</td>\n",
       "      <td>atgaaaaacatcaatccaacgcagaccgctgcctggcaggcactac...</td>\n",
       "      <td>TTTTCTCCACATAAGCTGGCAATGTTGCGACGCAACAGGTACAGTG...</td>\n",
       "    </tr>\n",
       "    <tr>\n",
       "      <th>5</th>\n",
       "      <td>Cgl1386_327_18to15_sub</td>\n",
       "      <td>Cgl1386_327_18to15_sub;BA000036.3:1454441-1454459</td>\n",
       "      <td>GGCCCAATGTGGTCCCTCGGCGGCAACTACTCTGAAGGTTGGGAGT...</td>\n",
       "      <td>1027</td>\n",
       "      <td>GCTGAGATCGAAAAGCGTGTTGCTGAAGCCTCACGCATTCTGCAGC...</td>\n",
       "      <td>1032</td>\n",
       "      <td>GGCCCAATGTGGTCCCTCGGCGGCAACTACTCTGAAGGTTGGGAGT...</td>\n",
       "      <td>TTTTCTCCACATAAGCTGGCAATGTTGCGACGCAACAGGTACAGTG...</td>\n",
       "      <td>TGAGAGTTTTCGCCCCGAAGAACGTTTTCCAATGATGAGCACTTTT...</td>\n",
       "      <td>AAATCTCGTGATGGCAGGTTGGGCGACCAATAACTGCCTTAAAAAA...</td>\n",
       "      <td>GCGTGGCGCGGTTAA</td>\n",
       "      <td>TTTTCTCCACATAAGCTGGCAATGTTGCGACGCAACAGGTACAGTG...</td>\n",
       "    </tr>\n",
       "    <tr>\n",
       "      <th>6</th>\n",
       "      <td>Cgl1436_1113_CAA_del</td>\n",
       "      <td>Cgl1436_1113_CAA_del;BA000036.3:1514089-1514092</td>\n",
       "      <td>CAACAGCTCCTCCTGGGCCGCCTTAATTGCCCCGACACGCGCATGA...</td>\n",
       "      <td>1023</td>\n",
       "      <td>CAAAGTGGTGGTGATGCGCTTCGGGATTCCCGCAGGTTCCGCCACT...</td>\n",
       "      <td>1029</td>\n",
       "      <td>CAACAGCTCCTCCTGGGCCGCCTTAATTGCCCCGACACGCGCATGA...</td>\n",
       "      <td>TTTTCTCCACATAAGCTGGCAATGTTGCGACGCAACAGGTACAGTG...</td>\n",
       "      <td>TGAGAGTTTTCGCCCCGAAGAACGTTTTCCAATGATGAGCACTTTT...</td>\n",
       "      <td>AAATCTCGTGATGGCAGGTTGGGCGACCAATAACTGCCTTAAAAAA...</td>\n",
       "      <td></td>\n",
       "      <td>TTTTCTCCACATAAGCTGGCAATGTTGCGACGCAACAGGTACAGTG...</td>\n",
       "    </tr>\n",
       "    <tr>\n",
       "      <th>7</th>\n",
       "      <td>Cgl1790_1647_TCC_sub</td>\n",
       "      <td>Cgl1790_1647_TCC_sub;BA000036.3:1899017-1899020</td>\n",
       "      <td>GCAGGACAATAGCGTTACCCTGGTCAGCGACACGACGAGTGAGCTC...</td>\n",
       "      <td>1024</td>\n",
       "      <td>GACTTCTTCTTCGCGCCCAATAATCTCACGCACCGGTACAGCAACA...</td>\n",
       "      <td>1025</td>\n",
       "      <td>GCAGGACAATAGCGTTACCCTGGTCAGCGACACGACGAGTGAGCTC...</td>\n",
       "      <td>TTTTCTCCACATAAGCTGGCAATGTTGCGACGCAACAGGTACAGTG...</td>\n",
       "      <td>TGAGAGTTTTCGCCCCGAAGAACGTTTTCCAATGATGAGCACTTTT...</td>\n",
       "      <td>AAATCTCGTGATGGCAGGTTGGGCGACCAATAACTGCCTTAAAAAA...</td>\n",
       "      <td>TTA</td>\n",
       "      <td>TTTTCTCCACATAAGCTGGCAATGTTGCGACGCAACAGGTACAGTG...</td>\n",
       "    </tr>\n",
       "    <tr>\n",
       "      <th>8</th>\n",
       "      <td>Cgl2342_213_GCA_ins</td>\n",
       "      <td>Cgl2342_213_GCA_ins;BA000036.3:2484874-2484875</td>\n",
       "      <td>TTACCGGACACGCGCAACACATCTTCAGGTTCACAACCCACAATGT...</td>\n",
       "      <td>1020</td>\n",
       "      <td>CCTGAAATTTCCGTCATGCCGACCGAATCAATGGCACGGCTGATCT...</td>\n",
       "      <td>1023</td>\n",
       "      <td>TTACCGGACACGCGCAACACATCTTCAGGTTCACAACCCACAATGT...</td>\n",
       "      <td>TTTTCTCCACATAAGCTGGCAATGTTGCGACGCAACAGGTACAGTG...</td>\n",
       "      <td>TGAGAGTTTTCGCCCCGAAGAACGTTTTCCAATGATGAGCACTTTT...</td>\n",
       "      <td>AAATCTCGTGATGGCAGGTTGGGCGACCAATAACTGCCTTAAAAAA...</td>\n",
       "      <td>GCA</td>\n",
       "      <td>TTTTCTCCACATAAGCTGGCAATGTTGCGACGCAACAGGTACAGTG...</td>\n",
       "    </tr>\n",
       "  </tbody>\n",
       "</table>\n",
       "</div>"
      ],
      "text/plain": [
       "                           Name  \\\n",
       "0         153019_ecoil_ybeL_ins   \n",
       "1          Cgl0006_1176_G_A_sub   \n",
       "2               Cgl0141_cds_del   \n",
       "3  Cgl0591_-1_Ppgk_promoter_ins   \n",
       "4         Cgl0851_ecoli_pgi_sub   \n",
       "5        Cgl1386_327_18to15_sub   \n",
       "6          Cgl1436_1113_CAA_del   \n",
       "7          Cgl1790_1647_TCC_sub   \n",
       "8           Cgl2342_213_GCA_ins   \n",
       "\n",
       "                                              Region  \\\n",
       "0     153019_ecoil_ybeL_ins;BA000036.3:153019-153020   \n",
       "1          Cgl0006_1176_G_A_sub;BA000036.3:6529-6530   \n",
       "2           Cgl0141_cds_del;BA000036.3:153222-155613   \n",
       "3  Cgl0591_-1_Ppgk_promoter_ins;BA000036.3:604469...   \n",
       "4     Cgl0851_ecoli_pgi_sub;BA000036.3:907755-909378   \n",
       "5  Cgl1386_327_18to15_sub;BA000036.3:1454441-1454459   \n",
       "6    Cgl1436_1113_CAA_del;BA000036.3:1514089-1514092   \n",
       "7    Cgl1790_1647_TCC_sub;BA000036.3:1899017-1899020   \n",
       "8     Cgl2342_213_GCA_ins;BA000036.3:2484874-2484875   \n",
       "\n",
       "                                                 UHA  UHA_size  \\\n",
       "0  AAAGCCCTGCCCACCGGATGGAAACGCTGGGCCGCCATCGTTGCAG...      1034   \n",
       "1  AAGCGCCCGGGCATGTACATCGGTTCAACTGGACCGCGTGGACTGC...      1026   \n",
       "2  TCATCATCGGCGGCCACATGTGGTGGACCCTAGGACTCGTGCTGGC...      1035   \n",
       "3  GGAATCACAGGCAGGGTGGGAGATCTTCCACGCCTTGCAGGTGAAA...      1050   \n",
       "4  AACCCAAACCCTGCCCGAAGGAACTCAACGCAGAAGCACCAGCACT...      1036   \n",
       "5  GGCCCAATGTGGTCCCTCGGCGGCAACTACTCTGAAGGTTGGGAGT...      1027   \n",
       "6  CAACAGCTCCTCCTGGGCCGCCTTAATTGCCCCGACACGCGCATGA...      1023   \n",
       "7  GCAGGACAATAGCGTTACCCTGGTCAGCGACACGACGAGTGAGCTC...      1024   \n",
       "8  TTACCGGACACGCGCAACACATCTTCAGGTTCACAACCCACAATGT...      1020   \n",
       "\n",
       "                                                 DHA  DHA_size  \\\n",
       "0  GCTTTTAAGTTTTCTCGGTGATCCGTAACGAGAAGTTGAACAGCAA...      1037   \n",
       "1  GTTATTTCCGTGCGCGTTGGTGACCCACAGTTCGAAGGCCAGACCA...      1039   \n",
       "2  CTACATGCGATTCTTGGTGCGCGCAGTGGCAGGAGCGGTCCATGGA...      1024   \n",
       "3  ATGACTAAAACACTTGGTTCCCTTCAGCTGGAAGAAATCACGCTGA...      1020   \n",
       "4  CTACCTATTTGCGCGGTACCACTTAATCAGTGAATCAGTGGAAGAA...      1035   \n",
       "5  GCTGAGATCGAAAAGCGTGTTGCTGAAGCCTCACGCATTCTGCAGC...      1032   \n",
       "6  CAAAGTGGTGGTGATGCGCTTCGGGATTCCCGCAGGTTCCGCCACT...      1029   \n",
       "7  GACTTCTTCTTCGCGCCCAATAATCTCACGCACCGGTACAGCAACA...      1025   \n",
       "8  CCTGAAATTTCCGTCATGCCGACCGAATCAATGGCACGGCTGATCT...      1023   \n",
       "\n",
       "                                             plasmid  \\\n",
       "0  AAAGCCCTGCCCACCGGATGGAAACGCTGGGCCGCCATCGTTGCAG...   \n",
       "1  AAGCGCCCGGGCATGTACATCGGTTCAACTGGACCGCGTGGACTGC...   \n",
       "2  TCATCATCGGCGGCCACATGTGGTGGACCCTAGGACTCGTGCTGGC...   \n",
       "3  GGAATCACAGGCAGGGTGGGAGATCTTCCACGCCTTGCAGGTGAAA...   \n",
       "4  AACCCAAACCCTGCCCGAAGGAACTCAACGCAGAAGCACCAGCACT...   \n",
       "5  GGCCCAATGTGGTCCCTCGGCGGCAACTACTCTGAAGGTTGGGAGT...   \n",
       "6  CAACAGCTCCTCCTGGGCCGCCTTAATTGCCCCGACACGCGCATGA...   \n",
       "7  GCAGGACAATAGCGTTACCCTGGTCAGCGACACGACGAGTGAGCTC...   \n",
       "8  TTACCGGACACGCGCAACACATCTTCAGGTTCACAACCCACAATGT...   \n",
       "\n",
       "                             promoter_N20_terminator  \\\n",
       "0  TTTTCTCCACATAAGCTGGCAATGTTGCGACGCAACAGGTACAGTG...   \n",
       "1  TTTTCTCCACATAAGCTGGCAATGTTGCGACGCAACAGGTACAGTG...   \n",
       "2  TTTTCTCCACATAAGCTGGCAATGTTGCGACGCAACAGGTACAGTG...   \n",
       "3  TTTTCTCCACATAAGCTGGCAATGTTGCGACGCAACAGGTACAGTG...   \n",
       "4  TTTTCTCCACATAAGCTGGCAATGTTGCGACGCAACAGGTACAGTG...   \n",
       "5  TTTTCTCCACATAAGCTGGCAATGTTGCGACGCAACAGGTACAGTG...   \n",
       "6  TTTTCTCCACATAAGCTGGCAATGTTGCGACGCAACAGGTACAGTG...   \n",
       "7  TTTTCTCCACATAAGCTGGCAATGTTGCGACGCAACAGGTACAGTG...   \n",
       "8  TTTTCTCCACATAAGCTGGCAATGTTGCGACGCAACAGGTACAGTG...   \n",
       "\n",
       "                          promoter_N20_terminator_up  \\\n",
       "0  TGAGAGTTTTCGCCCCGAAGAACGTTTTCCAATGATGAGCACTTTT...   \n",
       "1  TGAGAGTTTTCGCCCCGAAGAACGTTTTCCAATGATGAGCACTTTT...   \n",
       "2  TGAGAGTTTTCGCCCCGAAGAACGTTTTCCAATGATGAGCACTTTT...   \n",
       "3  TGAGAGTTTTCGCCCCGAAGAACGTTTTCCAATGATGAGCACTTTT...   \n",
       "4  TGAGAGTTTTCGCCCCGAAGAACGTTTTCCAATGATGAGCACTTTT...   \n",
       "5  TGAGAGTTTTCGCCCCGAAGAACGTTTTCCAATGATGAGCACTTTT...   \n",
       "6  TGAGAGTTTTCGCCCCGAAGAACGTTTTCCAATGATGAGCACTTTT...   \n",
       "7  TGAGAGTTTTCGCCCCGAAGAACGTTTTCCAATGATGAGCACTTTT...   \n",
       "8  TGAGAGTTTTCGCCCCGAAGAACGTTTTCCAATGATGAGCACTTTT...   \n",
       "\n",
       "                        promoter_N20_terminator_down  \\\n",
       "0  AAATCTCGTGATGGCAGGTTGGGCGACCAATAACTGCCTTAAAAAA...   \n",
       "1  AAATCTCGTGATGGCAGGTTGGGCGACCAATAACTGCCTTAAAAAA...   \n",
       "2  AAATCTCGTGATGGCAGGTTGGGCGACCAATAACTGCCTTAAAAAA...   \n",
       "3  AAATCTCGTGATGGCAGGTTGGGCGACCAATAACTGCCTTAAAAAA...   \n",
       "4  AAATCTCGTGATGGCAGGTTGGGCGACCAATAACTGCCTTAAAAAA...   \n",
       "5  AAATCTCGTGATGGCAGGTTGGGCGACCAATAACTGCCTTAAAAAA...   \n",
       "6  AAATCTCGTGATGGCAGGTTGGGCGACCAATAACTGCCTTAAAAAA...   \n",
       "7  AAATCTCGTGATGGCAGGTTGGGCGACCAATAACTGCCTTAAAAAA...   \n",
       "8  AAATCTCGTGATGGCAGGTTGGGCGACCAATAACTGCCTTAAAAAA...   \n",
       "\n",
       "                                         seq_altered  \\\n",
       "0  ATGAACAAGGTTGCTCAATATTACCGTGAACTGGTTGCGTCACTGA...   \n",
       "1                                                  A   \n",
       "2                                                      \n",
       "3  TTAATCAATACAATTGAATACCGGTGCCAGCGCCACACAATGTGTA...   \n",
       "4  atgaaaaacatcaatccaacgcagaccgctgcctggcaggcactac...   \n",
       "5                                    GCGTGGCGCGGTTAA   \n",
       "6                                                      \n",
       "7                                                TTA   \n",
       "8                                                GCA   \n",
       "\n",
       "                           plasmid_sequencing_region  \n",
       "0  TTTTCTCCACATAAGCTGGCAATGTTGCGACGCAACAGGTACAGTG...  \n",
       "1  TTTTCTCCACATAAGCTGGCAATGTTGCGACGCAACAGGTACAGTG...  \n",
       "2  TTTTCTCCACATAAGCTGGCAATGTTGCGACGCAACAGGTACAGTG...  \n",
       "3  TTTTCTCCACATAAGCTGGCAATGTTGCGACGCAACAGGTACAGTG...  \n",
       "4  TTTTCTCCACATAAGCTGGCAATGTTGCGACGCAACAGGTACAGTG...  \n",
       "5  TTTTCTCCACATAAGCTGGCAATGTTGCGACGCAACAGGTACAGTG...  \n",
       "6  TTTTCTCCACATAAGCTGGCAATGTTGCGACGCAACAGGTACAGTG...  \n",
       "7  TTTTCTCCACATAAGCTGGCAATGTTGCGACGCAACAGGTACAGTG...  \n",
       "8  TTTTCTCCACATAAGCTGGCAATGTTGCGACGCAACAGGTACAGTG...  "
      ]
     },
     "execution_count": 28,
     "metadata": {},
     "output_type": "execute_result"
    }
   ],
   "source": [
    "sequencing_primer_df"
   ]
  },
  {
   "cell_type": "code",
   "execution_count": null,
   "id": "ad26803b",
   "metadata": {},
   "outputs": [],
   "source": []
  },
  {
   "cell_type": "code",
   "execution_count": 20,
   "id": "301ccf67",
   "metadata": {},
   "outputs": [
    {
     "data": {
      "text/plain": [
       "'TTTTCTCCACATAAGCTGGCAATGTTGCGACGCAACAGGTACAGTGTAATTCACGTTCGCTTTTAAGTTTTCTGTTTTAGAGCTAGAAATAGCAAGTTAAAATAAGGCTAGTCCGTTATCAACTTGAAAAAGTGGCACCGAGTCGGTGCTTTTTTTCCAGGCATCAAATAAAACGAAAGGCTCAGTCGAAAGACTGGGCCTTTCGTTTTATCTGTTGTTTGTCGGTGAACGCTCTCCTGAGTAGGACAAATCCGCCGGGAGCGGATTTGAACGTTGCGAAGCAACGGCCCGGAGGGTGGCGGGCAGGACGCCCGCCATAAACTGCCAGGCATCAAATTAAGCAGAAGGCCATCCTGACGGATGGCCTTTTTGCGTTTCTACAAACTCTTTTGTTTATTTTTCTAAATACATTCAAATATGTATCCGCTCATGAATTAATTCCGCTAGATGACGTGCGGCTTCGA'"
      ]
     },
     "execution_count": 20,
     "metadata": {},
     "output_type": "execute_result"
    }
   ],
   "source": [
    "sequencing_primer_template.loc[0,'plasmid_sequencing_region']"
   ]
  },
  {
   "cell_type": "code",
   "execution_count": 33,
   "id": "0bcf8ebd",
   "metadata": {},
   "outputs": [
    {
     "data": {
      "text/plain": [
       "'AAAGCCCTGCCCACCGGATGGAAACGCTGGGCCGCCATCGTTGCAGTCGGACTCATCGCAGCCTACGACGGCATCTTCGGACCCGGAACCGGCATGTTCCTCATCATGGCGTTCACCGCACTGCTCTCCCAAAATTTCCTGTCCTCCGCAGCCATGGCGAAGGTCGTAAACACCGCAACAAACCTGGGTGCGCTAATTGTATTCATCATCGGCGGCCACATGTGGTGGACCCTAGGACTCGTGCTGGCAGTCGCCAATGTCGCAGGCGCACAACTCGGTGCCCGAACGGTGCTTGGTGGCGGTACCAGGCTAATTAGATACGCACTACTAACCCTGGTTGTCGTCATGAGCGTCTACCTCACCTGGCAACAAATCCAAGGAATGTAGATAAGTCGGGGCAAACTCTAAGAAATCATCCTGGTTTGTGGCAGGGAACATTCCTAGGATGGGAGGCATGGCAAAGACAAAACTAGAAAGCATCTCCGAGCGCAACTCGGATGATCCGCTTAGTTACCCCGACCTGACTCTTGCACCAATATCCACAACAGTCACAGTCGTGGTCGCCGAAGACACCCCAAACGATAACTTCTCAGAACTTCTCCTCGGCGCAGCAGAATCAACCCGTCTTTTAGGACTCGACGAGCTCCACATCATCGCTCCATCAGTCCACCTACCCGCTCTCGCAGTAGCAGCCGCCGACATCGCACACCATCTGCCAGAGAAATTCCAATTCTGTGAAGCCGAAACCTGCACTCATCTCCACCCCGACGATGACACCTATCTCACGGCTGAATCCGTTGCTCAATTGGGTACGAAGCTGAAGTCTGCGTAGTTGTTAGGAGCCACCACAGACCCGTAGATTCTTGGGCGGTGTGGTGAATCCTTGCCCTGGAACCTTGCGGGAGACTCTCAGAAATGAGTCATTGGGGCTTGGGGTGTGGTGAAACGCAAACATCCGTCCCCGGACCGCGGTAAAAGGCCGATTTTGATCGAAAATTCCTGCTAATCCGACATTGAAATACAAATACTCGTTCATGAACAAGGTTGCTCAATATTACCGTGAACTGGTTGCGTCACTGAGCGAACGCCTGCGCAATGGCGAACGTGATATCGACGCACTGGTGGAACAGGCGCGCGAGCGCGTAATAAAAACAGGGGAGTTAACGCGAACCGAGGTCGATGAGCTGACGCGAGCTGTCAGACGTGACCTGGAAGAGTTCGCCATGAGCTATGAAGAGAGCCTGAAAGAAGAATCTGACAGCGTCTTTATGCGGGTGATTAAAGAAAGCTTGTGGCAGGAGCTGGCAGACATCACCGATAAAACGCAGCTTGAATGGCGCGAAGTTTTCCAGGACCTCAATCATCATGGGGTTTATCACAGCGGAGAAGTGGTCGGGCTGGGAAATCTGGTCTGCGAGAAATGTCACTTCCATCTCCCGATCTACACACCGGAAGTGCTGACGCTATGCCCGAAATGTGGTCATGACCAGTTCCAGAGACGCCCGTTTGAGCCGTAAGCTTTTAAGTTTTCTCGGTGATCCGTAACGAGAAGTTGAACAGCAAACCCGCAGCAACTGTTCAGAAATCACAACAGTCCCAATGACCTCAAAATCGGCCCCTTCTAGAATCGCCTCTCAGGGCCTTTGAGCGCTAAATTGGGGCAACAGGTCACTGCGTACAAAGAGGGCCTTAAATCGGCTCACATCAAGTCGTGCCAAAACTACATGCGATTCTTGGTGCGCGCAGTGGCAGGAGCGGTCCATGGATCCTCCGGCCACGGGTGTTTGGGGTACCGGCCCCGCATTTCTGCACGGACTTGGCTGTACGGGCCAGACCAGAAACTACGCAGGTCATCGGTAACTGCAAGAGGTCTTCCCGCAGGTGACAGGAGATGAAATTGCACCGGGATTCCGCAGAGCTGCGGGGATTCTTCTAATCCGAAGCATTCTTGTAATTTCACTCGTATAACTGGCCTGCCTGATGAATAATCTAGTCGGTGCTGATTCCCGCTGGGTACGGATAGGTGGGAAGGAGCGAATTCTTCAAAGTTGGTTGCTTCAGGCCAGGGGAGAAGTCGCTGGAGTGCGGGATACATATCGATATTGTTTAGTCGTGTTCCGTGGCTGAGCGCCTCAATTTCTGGAGATAACCACAGGTGCGGGTCCGCAGTTTCAATATCTGGCCAGGGTTCGCCACGGTGTTCGTGGATGAATTTCAGTCGGTCACGCAAGGATGCCGCTTTGTCGGAGAAGTGGAATAGGTCGATTCCGCCTTTGGCAAGGGCTGTGGCGATTGTTTCCGAGGCTTCGGCGGGTGTTGGTTTTGTCGGAGTGGAACTTAATTCGATCGCGCCTGCTGCTTTGACCTTCCGGGCTTGGACTTTTCCGTTGACAAAAATCGCGCGGGTTTCTTCCACGACTCCGATGATGTCTATGGCATCGTCCTCTGAAATGCGGGCGGCGGCGCGGATGATGGCAGAATTTTGTGAGCGGTTAATTGCAGCAACGGAGATCCATTCGGCATCTTTGAGATCTGAATCCATGAGGCGTGCGCGTGAGAGTTTTCGCCCCGAAGAACGTTTTCCAATGATGAGCACTTTTGCTTCCTCGCTCACTGACTCGCTGCGCTCGGTCGTTCGGCTGCGGCGAGCGGTATCAGCTCACTCAAAGGCGGTAATACGGTTATCCACAGAATCAGGGGATAACGCAGGAAAGAACATGTGAGCAAAAGGCCAGCAAAAGGCCAGGAACCGTAAAAAGGCCGCGTTGCTGGCGTTTTTCCATAGGCTCCGCCCCCCTGACGAGCATCACAAAAATCGACGCTCAAGTCAGAGGTGGCGAAACCCGACAGGACTATAAAGATACCAGGCGTTTCCCCCTGGAAGCTCCCTCGTGCGCTCTCCTGTTCCGACCCTGCCGCTTACCGGATACCTGTCCGCCTTTCTCCCTTCGGGAAGCGTGGCGCTTTCTCAATGCTCACGCTGTAGGTATCTCAGTTCGGTGTAGGTCGTTCGCTCCAAGCTGGGCTGTGTGCACGAACCCCCCGTTCAGCCCGACCGCTGCGCCTTATCCGGTAACTATCGTCTTGAGTCCAACCCGGTAAGACACGACTTATCGCCACTGGCAGCAGCCACTGGTAACAGGATTAGCAGAGCGAGGTATGTAGGCGGTGCTACAGAGTTCTTGAAGTGGTGGCCTAACTACGGCTACACTAGAAGGACAGTATTTGGTATCTGCGCTCTGCTGAAGCCAGTTACCTTCGGAAAAAGAGTTGGTAGCTCTTGATCCGGCAAACAAACCACCGCTGGTAGCGGTGGTTTTTTTGTTTGCAAGCAGCAGATTACGCGCAGAAAAAAAGGATCTCAAGAAGATCCTTTGATCTTTTCTACGGGGTCTGACGCTCAGTGGAACGAAAACTCACGTTAAGGGATTTTGGTCATGAGATTATCAAAAAGGATCTTCACCTAGATCCTTTTGGGGTGGGCGAAGAACTCCAGCATGAGATCCCCGCGCTGGAGGATCATCCAGCCATTCGGGGTCGTTCACTGGTTCCCCTTTCTGATTTCTGGCATAGAAGAACCCCCGTGAACTGTGTGGTTCCGGGGGTTGCTGATTTTTGCGAGACTTCTCGCGCAATTCCCTAGCTTAGGTGAAAACACCATGAAACACTAGGGAAACACCCATGAAACACCCATTAGGGCAGTAGGGCGGCTTCTTCGTCTAGGGCTTGCATTTGGGCGGTGATCTGGTCTTTAGCGTGTGAAAGTGTGTCGTAGGTGGCGTGCTCAATGCACTCGAACGTCACGTCATTTACCGGGTCACGGTGGGCAAAGAGAACTAGTGGGTTAGACATTGTTTTCCTCGTTGTCGGTGGTGGTGAGCTTTTCTAGCCGCTCGGTAAACGCGGCGATCATGAACTCTTGGAGGTTTTCACCGTTCTGCATGCCTGCGCGCTTCATGTCCTCACGTAGTGCCAAAGGAACGCGTGCGGTGACCACGACGGGCTTAGCCTTTGCCTGCGCTTCTAGTGCTTCGATGGTGGCTTGTGCCTGCGCTTGCTGCGCCTGTAGTGCCTGTTGAGCTTCTTGTAGTTGCTGTTCTAGCTGTGCCTTGGTTGCCATGCTTTAAGACTCTAGTAGCTTTCCTGCGATATGTCATGCGCATGCGTAGCAAACATTGTCCTGCAACTCATTCATTATGTGCAGTGCTCCTGTTACTAGTCGTACATACTCATATTTACCTAGTCTGCATGCAGTGCATGCACATGCAGTCATGTCGTGCTAATGTGTAAAACATGTACATGCAGATTGCTGGGGGTGCAGGGGGCGGAGCCACCCTGTCCATGCGGGGTGTGGGGCTTGCCCCGCCGGTACAGACAGTGAGCACCGGGGCACCTAGTCGCGGATACCCCCCCTAGGTATCGGACACGTAACCCTCCCATGTCGATGCAAATCTTTAACATTGAGTACGGGTAAGCTGGCACGCATAGCCAAGCTAGGCGGCCACCAAACACCACTAAAAATTAATAGTCCCTAGACAAGACAAACCCCCGTGCGAGCTACCAACTCATATGCACGGGGGCCACATAACCCGAAGGGGTTTCAATTGACAACCATAGCACTAGCTAAGACAACGGGCACAACACCCGCACAAACTCGCACTGCGCAACCCCGCACAACATCGGGTCTAGGTAACACTGAGTAACACTGAAATAGAAGTGAACACCTCTAAGGAACCGCAGGTCAATGAGGGTTCTAAGGTCACTCGCGCTAGGGCGTGGCGTAGGCAAAACGTCATGTACAAGATCACCAATAGTAAGGCTCTGGCGGGGTGCCATAGGTGGCGCAGGGACGAAGCTGTTGCGGTGTCCTGGTCGTCTAACGGTGCTTCGCAGTTTGAGGGTCTGCAAAACTCTCACTCTCGCTGGGGGTCATCTCTGGCTGAATTGGAAGTCATGGGCGAACGCCGCATTGAGCTGGCTATTGCTACTAAGAATCACTTGGCGGCGGGTGGCGCGCTCATGATGTTTGTGGGCACTGTTCGACACAACCGCTCACAGTCATTTGCGCAGGTTGAAGCGGGTATTAAGACTGCGTACTCTTCGATGGTGAAAACATCTCAGTGGAAGAAAGAACGTGCACGGTACGGGGTGGAGCACACCTATAGTGACTATGAGGTCACAGACTCTTGGGCGAACGGTTGGCACTTGCACCGCAACATGCTGTTGTTCTTGGATCGTCCACTGTCTGACGATGAACTCAAGGCGTTTGAGGATTCCATGTTTTCCCGCTGGTCTGCTGGTGTGGTTAAGGCCGGTATGGACGCGCCACTGCGTGAGCACGGGGTCAAACTTGATCAGGTGTCTACCTGGGGTGGAGACGCTGCGAAAATGGCAACCTACCTCGCTAAGGGCATGTCTCAGGAACTGACTGGCTCCGCTACTAAAACCGCGTCTAAGGGGTCGTACACGCCGTTTCAGATGTTGGATATGTTGGCCGATCAAAGCGACGCCGGCGAGGATATGGACGCTGTTTTGGTGGCTCGGTGGCGTGAGTATGAGGTTGGTTCTAAAAACCTGCGTTCGTCCTGGTCACGTGGGGCTAAGCGTGCTTTGGGCATTGATTACATAGACGCTGATGTACGTCGTGAAATGGAAGAAGAACTGTACAAGCTCGCCGGTCTGGAAGCACCGGAACGGGTCGAATCAACCCGCGTTGCTGTTGCTTTGGTGAAGCCCGATGATTGGAAACTGATTCAGTCTGATTTCGCGGTTAGGCAGTACGTTCTCGATTGCGTGGATAAGGCTAAGGACGTGGCCGCTGCGCAACGTGTCGCTAATGAGGTGCTGGCAAGTCTGGGTGTGGATTCCACCCCGTGCATGATCGTTATGGATGATGTGGACTTGGACGCGGTTCTGCCTACTCATGGGGACGCTACTAAGCGTGATCTGAATGCGGCGGTGTTCGCGGGTAATGAGCAGACTATTCTTCGCACCCACTAAAAGCGGCATAAACCCCGTTCGATATTTTGTGCGATGAATTTATGGTCAATGTCGCGGGGGCAAACTATGATGGGTCTTGTTGTTGGCGTCCCGGAAAACGATTCCGAAGCCCAACCTTTCATAGAAGGCGGCGGTGGAATTTTTCTCCACATAAGCTGGCAATGTTGCGACGCAACAGGTACAGTGTAATTCACGTTCGCTTTTAAGTTTTCTGTTTTAGAGCTAGAAATAGCAAGTTAAAATAAGGCTAGTCCGTTATCAACTTGAAAAAGTGGCACCGAGTCGGTGCTTTTTTTCCAGGCATCAAATAAAACGAAAGGCTCAGTCGAAAGACTGGGCCTTTCGTTTTATCTGTTGTTTGTCGGTGAACGCTCTCCTGAGTAGGACAAATCCGCCGGGAGCGGATTTGAACGTTGCGAAGCAACGGCCCGGAGGGTGGCGGGCAGGACGCCCGCCATAAACTGCCAGGCATCAAATTAAGCAGAAGGCCATCCTGACGGATGGCCTTTTTGCGTTTCTACAAACTCTTTTGTTTATTTTTCTAAATACATTCAAATATGTATCCGCTCATGAATTAATTCCGCTAGATGACGTGCGGCTTCGAAAATCTCGTGATGGCAGGTTGGGCGACCAATAACTGCCTTAAAAAAATTACGCCCCGCCCTGCCACTCATCGCAGTACTGTTGTAATTCATTAAGCATTCTGCCGACATGGAAGCCATCACAGACGGCATGATGAACCTGAATCGCCAGCGGCATCAGCACCTTGTCGCCTTGCGTATAATATTTGCCCATGGTGAAAACGGGGGCGAAGAAGTTGTCCATATTGGCCACGTTTAAATCAAAACTGGTGAAACTCACCCAGGGATTGGCTGAGACGAAAAACATATTCTCAATAAACCCTTTAGGGAAATAGGCCAGGTTTTCACCGTAACACGCCACATCTTGCGAATATATGTGTAGAAACTGCCGGAAATCGTCGTGGTATTCACTCCAGAGCGATGAAAACGTTTCAGTTTGCTCATGGAAAACGGTGTAACAAGGGTGAACACTATCCCATATCACCAGCTCACCGTCTTTCATTGCCATACGGAACTCCGGATGAGCATTCATCAGGCGGGCAAGAATGTGAATAAAGGCCGGATAAAACTTGTGCTTATTTTTCTTTACGGTCTTTAAAAAGGCCGTAATATCCAGCTGAACGGTCTGGTTATAGGTACATTGAGCAACTGACTGAAATGCCTCAAAATGTTCTTTACGATGCCATTGGGATATATCAACGGTGGTATATCCAGTGATTTTTTTCTCCATTTTAGCTTCCTTAGCTCCTGAAAATCTCGTCGAAGCTCGGCGGATTTGTCCTACTCAAGCTGATCCGACAAAATCCACACATTATCCCAGGTGTCCGGATCGGTCAAATACGCTGCCAGCTCATAGACCGTATCCAAAGCATCCGGGGCTGATCCCCGGCGCCAGGGTGGTTTTTCTTTTCACCAGTGAGACGGGCAACAGCTGATTGCCCTTCACCGCCTGGCCCTGAGAGAGTTGCAGCAAGCGGTCCACGTGGTTTGCCCCAGCAGGCGAAAATCCTGTTTGATGGTGGTTAACGGCGGGATATAACATGAGCTGTCTTCGGTATCGTCGTATCCCACTACCGAGATATCCGCACCAACGCGCAGCCCGGACTCGGTAATGGCGCGCATTGCGCCCAGCGCCATCTGATCGTTGGCAACCAGCATCGCAGTGGGAACGATGCCCTCATTCAGCATTTGCATGGTTTGTTGAAAACCGGACATGGCACTCCAGTCGCCTTCCCGTTCCGCTATCGGCTGAATTTGATTGCGAGTGAGATATTTATGCCAGCCAGCCAGACGCAGACGCGCCGAGACAGAACTTAATGGGCCCGCTAACAGCGCGATTTGCTGGTGACCCAATGCGACCAGATGCTCCACGCCCAGTCGCGTACCGTCTTCATGGGAGAAAATAATACTGTTGATGGGTGTCTGGTCAGAGACATCAAGAAATAACGCCGGAACATTAGTGCAGGCAGCTTCCACAGCAATGGCATCCTGGTCATCCAGCGGATAGTTAATGATCAGCCCACTGACGCGTTGCGCGAGAAGATTGTGCACCGCCGCTTTACAGGCTTCGACGCCGCTTCGTTCTACCATCGACACCACCACGCTGGCACCCAGTTGATCGGCGCGAGATTTAATCGCCGCGACAATTTGCGACGGCGCGTGCAGGGCCAGACTGGAGGTGGCAACGCCAATCAGCAACGACTGTTTGCCCGCCAGTTGTTGTGCCACGCGGTTGGGAATGTAATTCAGCTCCGCCATCGCCGCTTCCACTTTTTCCCGCGTTTTCGCAGAAACGTGGCTGGCCTGGTTCACCACGCGGGAAACGGTCTGATAAGAGACACCGGCATACTCTGCGACATCGTATAACGTTACTGGTTTCACATTCACCACCCTGAATTGACTCTCTTCCGGGCGCTATCATGCCATACCGCGAAAGGTTTTGCACCATTCGATGGTGTCAACGTAAATGCCGCTTCGCCTTCGCGCGCGAATTGCAAGCTGATCCGGGCTTATCGACTGCACGGTGCACCAATGCTTCTGGCGTCAGGCAGCCATCGGAAGCTGTGGTATGGCTGTGCAGGTCGTAAATCACTGCATAATTCGTGTCGCTCAAGGCGCACTCCCGTTCTGGATAATGTTTTTTGCGCCGACATCATAACGGTTCTGGCAAATATTCTGAAATGAGCTGTTGACAATTAATCATCGGCTCGTATAATGTGTGGAATTGTGAGCGGATAACAATTTCACACAGGAAACAGAATTAATTAAGCTTAAAGGAGTTGAGAATGGATAAGAAATACTCAATAGGCTTAGATATCGGCACAAATAGCGTCGGATGGGCGGTGATCACTGATGAATATAAGGTTCCGTCTAAAAAGTTCAAGGTTCTGGGAAATACAGACCGCCACAGTATCAAAAAAAATCTTATAGGGGCTCTTTTATTTGACAGTGGAGAGACAGCGGAAGCGACTCGTCTCAAACGGACAGCTCGTAGAAGGTATACACGTCGGAAGAATCGTATTTGTTATCTACAGGAGATTTTTTCAAATGAGATGGCGAAAGTAGATGATAGTTTCTTTCATCGACTTGAAGAGTCTTTTTTGGTGGAAGAAGACAAGAAGCATGAACGTCATCCTATTTTTGGAAATATAGTAGATGAAGTTGCTTATCATGAGAAATATCCAACTATCTATCATCTGCGAAAAAAATTGGTAGATTCTACTGATAAAGCGGATTTGCGCTTAATCTATTTGGCCTTAGCGCATATGATTAAGTTTCGTGGTCATTTTTTGATTGAGGGAGATTTAAATCCTGATAATAGTGATGTGGACAAACTATTTATCCAGTTGGTACAAACCTACAATCAATTATTTGAAGAAAACCCTATTAACGCAAGTGGAGTAGATGCTAAAGCGATTCTTTCTGCACGATTGAGTAAATCAAGACGATTAGAAAATCTCATTGCTCAGCTCCCCGGTGAGAAGAAAAATGGCTTATTTGGGAATCTCATTGCTTTGTCATTGGGTTTGACCCCTAATTTTAAATCAAATTTTGATTTGGCAGAAGATGCTAAATTACAGCTTTCAAAAGATACTTACGATGATGATTTAGATAATTTATTGGCGCAAATTGGAGATCAATATGCTGATTTGTTTTTGGCAGCTAAGAATTTATCAGATGCTATTTTACTTTCAGATATCCTAAGAGTAAATACTGAAATAACTAAGGCTCCCCTATCAGCTTCAATGATTAAACGCTACGATGAACATCATCAAGACTTGACTCTTTTAAAAGCTTTAGTTCGACAACAACTTCCAGAAAAGTATAAAGAAATCTTTTTTGATCAATCAAAAAACGGATATGCAGGTTATATTGATGGGGGAGCTAGCCAAGAAGAATTTTATAAATTTATCAAACCAATTTTAGAAAAAATGGATGGTACTGAGGAATTATTGGTGAAACTAAATCGTGAAGATTTGCTGCGCAAGCAACGGACCTTTGACAACGGCTCTATTCCCCATCAAATTCACTTGGGTGAGCTGCATGCTATTTTGAGAAGACAAGAAGACTTTTATCCATTTTTAAAAGACAATCGTGAGAAGATTGAAAAAATCTTGACTTTTCGAATTCCTTATTATGTTGGTCCATTGGCGCGTGGCAATAGTCGTTTTGCATGGATGACTCGGAAGTCTGAAGAAACAATTACCCCATGGAATTTTGAAGAAGTTGTCGATAAAGGTGCTTCAGCTCAATCATTTATTGAACGCATGACAAACTTTGATAAAAATCTTCCAAATGAAAAAGTACTACCAAAACATAGTTTGCTTTATGAGTATTTTACGGTTTATAACGAATTGACAAAGGTCAAATATGTTACTGAAGGAATGCGAAAACCAGCATTTCTTTCAGGTGAACAGAAGAAAGCCATTGTTGATTTACTCTTCAAAACAAATCGAAAAGTAACCGTTAAGCAATTAAAAGAAGATTATTTCAAAAAAATAGAATGTTTTGATAGTGTTGAAATTTCAGGAGTTGAAGATAGATTTAATGCTTCATTAGGTACCTACCATGATTTGCTAAAAATTATTAAAGATAAAGATTTTTTGGATAATGAAGAAAATGAAGATATCTTAGAGGATATTGTTTTAACATTGACCTTATTTGAAGATAGGGAGATGATTGAGGAAAGACTTAAAACATATGCTCACCTCTTTGATGATAAGGTGATGAAACAGCTTAAACGTCGCCGTTATACTGGTTGGGGACGTTTGTCTCGAAAATTGATTAATGGTATTAGGGATAAGCAATCTGGCAAAACAATATTAGATTTTTTGAAATCAGATGGTTTTGCCAATCGCAATTTTATGCAGCTGATCCATGATGATAGTTTGACATTTAAAGAAGACATTCAAAAAGCACAAGTGTCTGGACAAGGCGATAGTTTACATGAACATATTGCAAATTTAGCTGGTAGCCCTGCTATTAAAAAAGGTATTTTACAGACTGTAAAAGTTGTTGATGAATTGGTCAAAGTAATGGGGCGGCATAAGCCAGAAAATATCGTTATTGAAATGGCACGTGAAAATCAGACAACTCAAAAGGGCCAGAAAAATTCGCGAGAGCGTATGAAACGAATCGAAGAAGGTATCAAAGAATTAGGAAGTCAGATTCTTAAAGAGCATCCTGTTGAAAATACTCAATTGCAAAATGAAAAGCTCTATCTCTATTATCTCCAAAATGGAAGAGACATGTATGTGGACCAAGAATTAGATATTAATCGTTTAAGTGATTATGATGTCGATCACATTGTTCCACAAAGTTTCCTTAAAGACGATTCAATAGACAATAAGGTCTTAACGCGTTCTGATAAAAATCGTGGTAAATCGGATAACGTTCCAAGTGAAGAAGTAGTCAAAAAGATGAAAAACTATTGGAGACAACTTCTAAACGCCAAGTTAATCACTCAACGTAAGTTTGATAATTTAACGAAAGCTGAACGTGGAGGTTTGAGTGAACTTGATAAAGCTGGTTTTATCAAACGCCAATTGGTTGAAACTCGCCAAATCACTAAGCATGTGGCACAAATTTTGGATAGTCGCATGAATACTAAATACGATGAAAATGATAAACTTATTCGAGAGGTTAAAGTGATTACCTTAAAATCTAAATTAGTTTCTGACTTCCGAAAAGATTTCCAATTCTATAAAGTACGTGAGATTAACAATTACCATCATGCCCATGATGCGTATCTAAATGCCGTCGTTGGAACTGCTTTGATTAAGAAATATCCAAAACTTGAATCGGAGTTTGTCTATGGTGATTATAAAGTTTATGATGTTCGTAAAATGATTGCTAAGTCTGAGCAAGAAATAGGCAAAGCAACCGCAAAATATTTCTTTTACTCTAATATCATGAACTTCTTCAAAACAGAAATTACACTTGCAAATGGAGAGATTCGCAAACGCCCTCTAATCGAAACTAATGGGGAAACTGGAGAAATTGTCTGGGATAAAGGGCGAGATTTTGCCACAGTGCGCAAAGTATTGTCCATGCCCCAAGTCAATATTGTCAAGAAAACAGAAGTACAGACAGGCGGATTCTCCAAGGAGTCAATTTTACCAAAAAGAAATTCGGACAAGCTTATTGCTCGTAAAAAAGACTGGGATCCAAAAAAATATGGTGGTTTTGATAGTCCAACGGTAGCTTATTCAGTCCTAGTGGTTGCTAAGGTGGAAAAAGGGAAATCGAAGAAGTTAAAATCCGTTAAAGAGTTACTAGGGATCACAATTATGGAAAGAAGTTCCTTTGAAAAAAATCCGATTGACTTTTTAGAAGCTAAAGGATATAAGGAAGTTAAAAAAGACTTAATCATTAAACTACCTAAATATAGTCTTTTTGAGTTAGAAAACGGTCGTAAACGGATGCTGGCTAGTGCCGGAGAATTACAAAAAGGAAATGAGCTGGCTCTGCCAAGCAAATATGTGAATTTTTTATATTTAGCTAGTCATTATGAAAAGTTGAAGGGTAGTCCAGAAGATAACGAACAAAAACAATTGTTTGTGGAGCAGCATAAGCATTATTTAGATGAGATTATTGAGCAAATCAGTGAATTTTCTAAGCGTGTTATTTTAGCAGATGCCAATTTAGATAAAGTTCTTAGTGCATATAACAAACATAGAGACAAACCAATACGTGAACAAGCAGAAAATATTATTCATTTATTTACGTTGACGAATCTTGGAGCTCCCGCTGCTTTTAAATATTTTGATACAACAATTGATCGTAAACGATATACGTCTACAAAAGAAGTTTTAGATGCCACTCTTATCCATCAATCCATCACTGGTCTTTATGAAACACGCATTGATTTGAGTCAGCTAGGAGGTGACTGAGCATCAAATAAAACGAAAGGCTCAGTCGAAAGACTGGGCCTTTCGTTTTATCTGTCTAGGTTTATACATAGGCGAGTACTCTGTTATGGAGTCAGATCTTAGCGGCTCTTAAGGAACCGAAGCGTTTTAGAGCTAGAAATAGCAAGTTAAAATAAGGCTAGTCCGTTATCAACTTGAAAAAGTGGCACCGAGTCGCTGCAGGTCGACTCTAGAGGATCCCCGGGTACCGAGCTCGAATTCAGCTTGGCTGTTTTGGCGGATGAGAGAAGATTTTCAGCCTGATACAGATTAAATCAGAACGCAGAAGCGGTCTGATAAAACAGAATTTGCCTGGCGGCAGTAGCGCGGTGGTCCCACCTGACCCCATGCCGAACTCAGAAGTGAAACGCCGTAGCGCCGATGGTAGTGTGGGGTCTGCCCATGCGAGAGTAGGGAACTGCCAGGCATCAAATAAAACGAAAGGCTCAGTCGAAAGACTGGGCCTTTCGTTTTATCTGTTGTTTGTCGGTGAACGCTCTCCTGAGTAGGACAAATCCGCCGGGAGCGGATTTGAACGTTGCGAAGCAACGGCCCGGAGGGTGGCGGGCAGGACGCCCGCCATAAACTGCCAGGCATCAAATTAAGCAGAAGGCCATCCTGACGGATGGCCTTTTTGCGTTTCTACAAACTCTTTTGTTTATTTTTCTAAATACATTCAAATATGTATCCGCTCATGAGACAATAACCCTGATAAATGCTTCAATAATATTGAAAAAGGAAGAGTATGAGTATTCAACATTTCCGTGTCGCCCTTATTCCCTTTTTTGCGGCATTTTGCCTTCCTGTTTTTGCTCACCCAGAAACGCTGGTGAAAGTAAAAGATGCTGAAGATCAGTTGGGTGCACGAGTGGGTTACATCGAACTGGATCTCAACAGCGGTAAGATCCT'"
      ]
     },
     "execution_count": 33,
     "metadata": {},
     "output_type": "execute_result"
    }
   ],
   "source": [
    "sequencing_primer_template.loc[0,'plasmid']\n"
   ]
  },
  {
   "cell_type": "code",
   "execution_count": 32,
   "id": "be48fd8e",
   "metadata": {},
   "outputs": [
    {
     "data": {
      "text/plain": [
       "'AAAGCCCTGCCCACCGGATGGAAACGCTGGGCCGCCATCGTTGCAGTCGGACTCATCGCAGCCTACGACGGCATCTTCGGACCCGGAACCGGCATGTTCCTCATCATGGCGTTCACCGCACTGCTCTCCCAAAATTTCCTGTCCTCCGCAGCCATGGCGAAGGTCGTAAACACCGCAACAAACCTGGGTGCGCTAATTGTATTCATCATCGGCGGCCACATGTGGTGGACCCTAGGACTCGTGCTGGCAGTCGCCAATGTCGCAGGCGCACAACTCGGTGCCCGAACGGTGCTTGGTGGCGGTACCAGGCTAATTAGATACGCACTACTAACCCTGGTTGTCGTCATGAGCGTCTACCTCACCTGGCAACAAATCCAAGGAATGTAGATAAGTCGGGGCAAACTCTAAGAAATCATCCTGGTTTGTGGCAGGGAACATTCCTAGGATGGGAGGCATGGCAAAGACAAAACTAGAAAGCATCTCCGAGCGCAACTCGGATGATCCGCTTAGTTACCCCGACCTGACTCTTGCACCAATATCCACAACAGTCACAGTCGTGGTCGCCGAAGACACCCCAAACGATAACTTCTCAGAACTTCTCCTCGGCGCAGCAGAATCAACCCGTCTTTTAGGACTCGACGAGCTCCACATCATCGCTCCATCAGTCCACCTACCCGCTCTCGCAGTAGCAGCCGCCGACATCGCACACCATCTGCCAGAGAAATTCCAATTCTGTGAAGCCGAAACCTGCACTCATCTCCACCCCGACGATGACACCTATCTCACGGCTGAATCCGTTGCTCAATTGGGTACGAAGCTGAAGTCTGCGTAGTTGTTAGGAGCCACCACAGACCCGTAGATTCTTGGGCGGTGTGGTGAATCCTTGCCCTGGAACCTTGCGGGAGACTCTCAGAAATGAGTCATTGGGGCTTGGGGTGTGGTGAAACGCAAACATCCGTCCCCGGACCGCGGTAAAAGGCCGATTTTGATCGAAAATTCCTGCTAATCCGACATTGAAATACAAATACTCGTTC'"
      ]
     },
     "execution_count": 32,
     "metadata": {},
     "output_type": "execute_result"
    }
   ],
   "source": [
    "uha_dha_df.loc[0,'UHA']"
   ]
  },
  {
   "cell_type": "code",
   "execution_count": 31,
   "id": "67fb8bf5",
   "metadata": {},
   "outputs": [
    {
     "data": {
      "text/plain": [
       "'GCTTTTAAGTTTTCTCGGTGATCCGTAACGAGAAGTTGAACAGCAAACCCGCAGCAACTGTTCAGAAATCACAACAGTCCCAATGACCTCAAAATCGGCCCCTTCTAGAATCGCCTCTCAGGGCCTTTGAGCGCTAAATTGGGGCAACAGGTCACTGCGTACAAAGAGGGCCTTAAATCGGCTCACATCAAGTCGTGCCAAAACTACATGCGATTCTTGGTGCGCGCAGTGGCAGGAGCGGTCCATGGATCCTCCGGCCACGGGTGTTTGGGGTACCGGCCCCGCATTTCTGCACGGACTTGGCTGTACGGGCCAGACCAGAAACTACGCAGGTCATCGGTAACTGCAAGAGGTCTTCCCGCAGGTGACAGGAGATGAAATTGCACCGGGATTCCGCAGAGCTGCGGGGATTCTTCTAATCCGAAGCATTCTTGTAATTTCACTCGTATAACTGGCCTGCCTGATGAATAATCTAGTCGGTGCTGATTCCCGCTGGGTACGGATAGGTGGGAAGGAGCGAATTCTTCAAAGTTGGTTGCTTCAGGCCAGGGGAGAAGTCGCTGGAGTGCGGGATACATATCGATATTGTTTAGTCGTGTTCCGTGGCTGAGCGCCTCAATTTCTGGAGATAACCACAGGTGCGGGTCCGCAGTTTCAATATCTGGCCAGGGTTCGCCACGGTGTTCGTGGATGAATTTCAGTCGGTCACGCAAGGATGCCGCTTTGTCGGAGAAGTGGAATAGGTCGATTCCGCCTTTGGCAAGGGCTGTGGCGATTGTTTCCGAGGCTTCGGCGGGTGTTGGTTTTGTCGGAGTGGAACTTAATTCGATCGCGCCTGCTGCTTTGACCTTCCGGGCTTGGACTTTTCCGTTGACAAAAATCGCGCGGGTTTCTTCCACGACTCCGATGATGTCTATGGCATCGTCCTCTGAAATGCGGGCGGCGGCGCGGATGATGGCAGAATTTTGTGAGCGGTTAATTGCAGCAACGGAGATCCATTCGGCATCTTTGAGATCTGAATCCATGAGGCGTGCGCG'"
      ]
     },
     "execution_count": 31,
     "metadata": {},
     "output_type": "execute_result"
    }
   ],
   "source": [
    "uha_dha_df.loc[0,'DHA']"
   ]
  },
  {
   "cell_type": "code",
   "execution_count": null,
   "id": "4c437937",
   "metadata": {},
   "outputs": [],
   "source": []
  },
  {
   "cell_type": "code",
   "execution_count": null,
   "id": "c86cdfc3",
   "metadata": {},
   "outputs": [],
   "source": []
  },
  {
   "cell_type": "code",
   "execution_count": null,
   "id": "7773c389",
   "metadata": {},
   "outputs": [],
   "source": []
  },
  {
   "cell_type": "code",
   "execution_count": null,
   "id": "d6fc4d65",
   "metadata": {},
   "outputs": [],
   "source": []
  },
  {
   "cell_type": "code",
   "execution_count": null,
   "id": "def3f67f",
   "metadata": {},
   "outputs": [],
   "source": []
  },
  {
   "cell_type": "code",
   "execution_count": null,
   "id": "6dc35a74",
   "metadata": {},
   "outputs": [],
   "source": []
  },
  {
   "cell_type": "code",
   "execution_count": null,
   "id": "eacac316",
   "metadata": {},
   "outputs": [],
   "source": []
  },
  {
   "cell_type": "code",
   "execution_count": null,
   "id": "6c71b383",
   "metadata": {},
   "outputs": [],
   "source": []
  },
  {
   "cell_type": "code",
   "execution_count": null,
   "id": "920b99d0",
   "metadata": {},
   "outputs": [],
   "source": []
  },
  {
   "cell_type": "code",
   "execution_count": null,
   "id": "8a7596aa",
   "metadata": {},
   "outputs": [],
   "source": []
  },
  {
   "cell_type": "code",
   "execution_count": null,
   "id": "c40ade17",
   "metadata": {},
   "outputs": [],
   "source": []
  },
  {
   "cell_type": "code",
   "execution_count": null,
   "id": "57dbe9b9",
   "metadata": {},
   "outputs": [],
   "source": []
  },
  {
   "cell_type": "code",
   "execution_count": null,
   "id": "502d9208",
   "metadata": {},
   "outputs": [],
   "source": []
  },
  {
   "cell_type": "code",
   "execution_count": null,
   "id": "a7d6b35d",
   "metadata": {},
   "outputs": [],
   "source": []
  },
  {
   "cell_type": "code",
   "execution_count": null,
   "id": "61d2aaa3",
   "metadata": {},
   "outputs": [],
   "source": []
  },
  {
   "cell_type": "code",
   "execution_count": 5,
   "id": "15ec68b4",
   "metadata": {},
   "outputs": [],
   "source": [
    "# with open(input_path, \"r\") as f:\n",
    "#         data = json.load(f)\n",
    "\n",
    "\n",
    "\n",
    "\n",
    "\n",
    "\n",
    "chopchop_input = data['chopchop_input']\n",
    "    # enzyme_path = parent_base_path +'/'+ data['enzyme_path']\n",
    "    \n",
    "    \n",
    "uha_dha_params = data['uha_dha_config']\n",
    "\n",
    "sgRNA_result_path = data['sgRNA_result_path']\n",
    "one_plasmid_file_path = data['one_plasmid_file_path']\n",
    "no_ccdb_plasmid = data['no_ccdb_plasmid']\n",
    "no_sgRNA_plasmid = data['no_sgRNA_plasmid']\n",
    "\n",
    " #plasmid label\n",
    "ccdb_label = data['plasmid_label']['ccdb_label']\n",
    "promoter_terminator_label = data['plasmid_label']['promoter_terminator_label']\n",
    "n_20_label = data['plasmid_label']['n_20_label']\n",
    "\n",
    "#primer\n",
    "sgRNA_primer_json = data['sgRNA_primer_json']\n",
    "ccdb_primer_json = data['ccdb_primer_json']\n",
    "\n",
    "sgRNA_region_seq_json = data['sgRNA_region_json']\n",
    "ccdb_region_seq_json = data['ccdb_region_json']\n",
    "\n",
    "#配置引物参数\n",
    "config.S_GLOBAL_ARGS = data['S_GLOBAL_ARGS']\n",
    "config.Q_ARGS = data['Q_ARGS']\n",
    "\n",
    "#genome\n",
    "genome_path = data['ref_genome']\n",
    "\n",
    "   #配置输出参数\n",
    "output = data['edit_sequence_design_workdir']\n",
    "if not os.path.exists(output):\n",
    "    os.makedirs(output)\n",
    "\n",
    "\n",
    "enzyme_path = data['enzyme_path']\n",
    "enzyme_name = data['enzyme_name']\n",
    "enzyme_df = su.del_Unnamed(pd.read_csv(enzyme_path))"
   ]
  },
  {
   "cell_type": "code",
   "execution_count": 6,
   "id": "f9fd8893",
   "metadata": {},
   "outputs": [
    {
     "data": {
      "text/plain": [
       "{'region1': 'tgtgtggaattgtgagcggataacaatttcacacaggaaacagaatt'}"
      ]
     },
     "execution_count": 6,
     "metadata": {},
     "output_type": "execute_result"
    }
   ],
   "source": [
    "sgRNA_region_seq_json\n",
    "ccdb_region_seq_json\n",
    "sgRNA_primer_json\n",
    "ccdb_primer_json"
   ]
  },
  {
   "cell_type": "code",
   "execution_count": null,
   "id": "bc642914",
   "metadata": {},
   "outputs": [],
   "source": [
    "def check_primer(gb_path,seq_json):\n",
    "        "
   ]
  },
  {
   "cell_type": "code",
   "execution_count": 10,
   "id": "70a3b142",
   "metadata": {},
   "outputs": [],
   "source": [
    "ccdb_gb_path = '/home/yanghe/program/edit_sequence_design/input/no-sgRNA-pXMJ19-Cas9A-gRNA-crtYEb-Ts - ori.gb'"
   ]
  },
  {
   "cell_type": "code",
   "execution_count": 11,
   "id": "2f399653",
   "metadata": {},
   "outputs": [],
   "source": [
    "with open(ccdb_gb_path, 'r')as f:\n",
    "    gb_text = f.read()\n",
    "    "
   ]
  },
  {
   "cell_type": "code",
   "execution_count": 12,
   "id": "0c6b74e5",
   "metadata": {},
   "outputs": [
    {
     "data": {
      "text/plain": [
       "'LOCUS       Exported               11188 bp ds-DNA     circular SYN 29-DEC-2022\\nDEFINITION  Shuttle vector pXMJ19 (Corynebacterium glutamicum / E. coli).\\nACCESSION   AJ133195\\nVERSION     .\\nKEYWORDS    .\\nSOURCE      synthetic DNA construct\\n  ORGANISM  synthetic DNA construct\\nREFERENCE   1  (bases 1 to 11188)\\n  AUTHORS   Jakoby MJ, Ngouto-Nkili CE, Burkovski A.\\n  TITLE     Construction and application of new Corynebacterium glutamicum \\n            vectors\\n  JOURNAL   BioTechniques 13, 437-441 (1999)\\nREFERENCE   2  (bases 1 to 11188)\\n  AUTHORS   Jakoby MJ.\\n  TITLE     Direct Submission\\n  JOURNAL   Submitted (22-FEB-1999) Jakoby M.J., Institut fuer Biochemie, \\n            Universitaet zu Koeln, Zuelpicher Str. 47, 50674 Koeln, GERMANY\\nREFERENCE   3  (bases 1 to 11188)\\n  AUTHORS   .\\n  TITLE     Direct Submission\\n  JOURNAL   Exported Dec 29, 2022 from SnapGene 4.2.4\\n            http://www.snapgene.com\\nCOMMENT     This file is created by Vector NTI\\n            http://www.invitrogen.com/\\nFEATURES             Location/Qualifiers\\n     source          1..11188\\n                     /organism=\"Shuttle vector pXMJ19\"\\n                     /lab_host=\"Corynebacterium glutamicum / E. coli\"\\n                     /mol_type=\"other DNA\"\\n                     /db_xref=\"taxon:89017\"\\n     source          5058..5363\\n                     /organism=\"Shuttle vector pXMJ19\"\\n                     /lab_host=\"Corynebacterium glutamicum / E. coli\"\\n                     /mol_type=\"other DNA\"\\n                     /db_xref=\"taxon:89017\"\\n     misc_feature    11..4325\\n                     /label=cas9-A\\n     primer_bind     3870..3894\\n                     /label=11C4-F\\n     primer_bind     complement(3870..3894)\\n                     /label=11C3-R\\n     primer_bind     4254..4273\\n                     /label=74-F\\n     terminator      4376..4801\\n                     /gene=\"rrnB\"\\n                     /label=rrnB\\n                     /experiment=\"experimental evidence, no additional details \\n                     recorded\"\\n     gene            4376..4801\\n                     /gene=\"rrnB\"\\n                     /label=rrnB\\n     misc_feature    5058..5363\\n                     /label=ccdB\\n     rep_origin      5582..6154\\n                     /gene=\"ori pUC\"\\n                     /label=ori pUC\\n     gene            5582..6154\\n                     /gene=\"ori pUC\"\\n                     /label=ori pUC\\n     rep_origin      6339..8893\\n                     /gene=\"ori pBL1\"\\n                     /label=ori pBL1\\n     gene            6339..8893\\n                     /gene=\"ori pBL1\"\\n                     /label=ori pBL1\\n     misc_feature    7742\\n                     /label=?????C-T\\n                     /label=? C T\\n     primer_bind     8787..8806\\n                     /label=9sgcx-F\\n     primer_bind     complement(8961..8974)\\n                     /label=11C4-R\\n     primer_bind     8975..9000\\n                     /label=11C3-F\\n     CDS             complement(8997..9656)\\n                     /codon_start=1\\n                     /gene=\"cat\"\\n                     /product=\"chloramphenicol acetyl transferase\"\\n                     /label=cat\\n                     /db_xref=\"GI:6562909\"\\n                     /db_xref=\"InterPro:IPR001707\"\\n                     /experiment=\"experimental evidence, no additional details \\n                     recorded\"\\n                     /protein_id=\"CAB62546.1\"\\n                     /translation=\"MEKKITGYTTVDISQWHRKEHFEAFQSVAQCTYNQTVQLDITAFL\\n                     KTVKKNKHKFYPAFIHILARLMNAHPEFRMAMKDGELVIWDSVHPCYTVFHEQTETFSS\\n                     LWSEYHDDFRQFLHIYSQDVACYGENLAYFPKGFIENMFFVSANPWVSFTSFDLNVANM\\n                     DNFFAPVFTMGKYYTQGDKVLMPLAIQVHHAVCDGFHVGRMLNELQQYCDEWQGGA\"\\n     gene            complement(8997..9656)\\n                     /gene=\"cat\"\\n                     /label=cat\\n     primer_bind     complement(9066..9085)\\n                     /label=11C5cx-R\\n     promoter        complement(9722..9816)\\n                     /gene=\"psiGA1\"\\n                     /label=psiGA1\\n                     /experiment=\"experimental evidence, no additional details \\n                     recorded\"\\n     gene            complement(9722..9816)\\n                     /gene=\"psiGA1\"\\n                     /label=psiGA1\\n     CDS             complement(9869..10840)\\n                     /codon_start=1\\n                     /gene=\"lacIq\"\\n                     /product=\"LacIq protein\"\\n                     /label=lacIq\\n                     /db_xref=\"GI:6562910\"\\n                     /protein_id=\"CAB62547.1\"\\n                     /translation=\"RPEESQFRVVNVKPVTLYDVAEYAGVSYQTVSRVVNQASHVSAKT\\n                     REKVEAAMAELNYIPNRVAQQLAGKQSLLIGVATSSLALHAPSQIVAAIKSRADQLGAS\\n                     VVVSMVERSGVEACKAAVHNLLAQRVSGLIINYPLDDQDAIAVEAACTNVPALFLDVSD\\n                     QTPINSIIFSHEDGTRLGVEHLVALGHQQIALLAGPLSSVSARLRLAGWHKYLTRNQIQ\\n                     PIAEREGDWSAMSGFQQTMQMLNEGIVPTAMLVANDQMALGAMRAITESGLRVGADISV\\n                     VGYDDTEDSSCYIPPLTTIKQDFRLLGQTTWTACCNSLRARR\"\\n     gene            complement(9869..10840)\\n                     /gene=\"lacIq\"\\n                     /label=lacIq\\nORIGIN\\n        1 aattaagctt aaaggagttg agaatggata agaaatactc aataggctta gatatcggca\\n       61 caaatagcgt cggatgggcg gtgatcactg atgaatataa ggttccgtct aaaaagttca\\n      121 aggttctggg aaatacagac cgccacagta tcaaaaaaaa tcttataggg gctcttttat\\n      181 ttgacagtgg agagacagcg gaagcgactc gtctcaaacg gacagctcgt agaaggtata\\n      241 cacgtcggaa gaatcgtatt tgttatctac aggagatttt ttcaaatgag atggcgaaag\\n      301 tagatgatag tttctttcat cgacttgaag agtctttttt ggtggaagaa gacaagaagc\\n      361 atgaacgtca tcctattttt ggaaatatag tagatgaagt tgcttatcat gagaaatatc\\n      421 caactatcta tcatctgcga aaaaaattgg tagattctac tgataaagcg gatttgcgct\\n      481 taatctattt ggccttagcg catatgatta agtttcgtgg tcattttttg attgagggag\\n      541 atttaaatcc tgataatagt gatgtggaca aactatttat ccagttggta caaacctaca\\n      601 atcaattatt tgaagaaaac cctattaacg caagtggagt agatgctaaa gcgattcttt\\n      661 ctgcacgatt gagtaaatca agacgattag aaaatctcat tgctcagctc cccggtgaga\\n      721 agaaaaatgg cttatttggg aatctcattg ctttgtcatt gggtttgacc cctaatttta\\n      781 aatcaaattt tgatttggca gaagatgcta aattacagct ttcaaaagat acttacgatg\\n      841 atgatttaga taatttattg gcgcaaattg gagatcaata tgctgatttg tttttggcag\\n      901 ctaagaattt atcagatgct attttacttt cagatatcct aagagtaaat actgaaataa\\n      961 ctaaggctcc cctatcagct tcaatgatta aacgctacga tgaacatcat caagacttga\\n     1021 ctcttttaaa agctttagtt cgacaacaac ttccagaaaa gtataaagaa atcttttttg\\n     1081 atcaatcaaa aaacggatat gcaggttata ttgatggggg agctagccaa gaagaatttt\\n     1141 ataaatttat caaaccaatt ttagaaaaaa tggatggtac tgaggaatta ttggtgaaac\\n     1201 taaatcgtga agatttgctg cgcaagcaac ggacctttga caacggctct attccccatc\\n     1261 aaattcactt gggtgagctg catgctattt tgagaagaca agaagacttt tatccatttt\\n     1321 taaaagacaa tcgtgagaag attgaaaaaa tcttgacttt tcgaattcct tattatgttg\\n     1381 gtccattggc gcgtggcaat agtcgttttg catggatgac tcggaagtct gaagaaacaa\\n     1441 ttaccccatg gaattttgaa gaagttgtcg ataaaggtgc ttcagctcaa tcatttattg\\n     1501 aacgcatgac aaactttgat aaaaatcttc caaatgaaaa agtactacca aaacatagtt\\n     1561 tgctttatga gtattttacg gtttataacg aattgacaaa ggtcaaatat gttactgaag\\n     1621 gaatgcgaaa accagcattt ctttcaggtg aacagaagaa agccattgtt gatttactct\\n     1681 tcaaaacaaa tcgaaaagta accgttaagc aattaaaaga agattatttc aaaaaaatag\\n     1741 aatgttttga tagtgttgaa atttcaggag ttgaagatag atttaatgct tcattaggta\\n     1801 cctaccatga tttgctaaaa attattaaag ataaagattt tttggataat gaagaaaatg\\n     1861 aagatatctt agaggatatt gttttaacat tgaccttatt tgaagatagg gagatgattg\\n     1921 aggaaagact taaaacatat gctcacctct ttgatgataa ggtgatgaaa cagcttaaac\\n     1981 gtcgccgtta tactggttgg ggacgtttgt ctcgaaaatt gattaatggt attagggata\\n     2041 agcaatctgg caaaacaata ttagattttt tgaaatcaga tggttttgcc aatcgcaatt\\n     2101 ttatgcagct gatccatgat gatagtttga catttaaaga agacattcaa aaagcacaag\\n     2161 tgtctggaca aggcgatagt ttacatgaac atattgcaaa tttagctggt agccctgcta\\n     2221 ttaaaaaagg tattttacag actgtaaaag ttgttgatga attggtcaaa gtaatggggc\\n     2281 ggcataagcc agaaaatatc gttattgaaa tggcacgtga aaatcagaca actcaaaagg\\n     2341 gccagaaaaa ttcgcgagag cgtatgaaac gaatcgaaga aggtatcaaa gaattaggaa\\n     2401 gtcagattct taaagagcat cctgttgaaa atactcaatt gcaaaatgaa aagctctatc\\n     2461 tctattatct ccaaaatgga agagacatgt atgtggacca agaattagat attaatcgtt\\n     2521 taagtgatta tgatgtcgat cacattgttc cacaaagttt ccttaaagac gattcaatag\\n     2581 acaataaggt cttaacgcgt tctgataaaa atcgtggtaa atcggataac gttccaagtg\\n     2641 aagaagtagt caaaaagatg aaaaactatt ggagacaact tctaaacgcc aagttaatca\\n     2701 ctcaacgtaa gtttgataat ttaacgaaag ctgaacgtgg aggtttgagt gaacttgata\\n     2761 aagctggttt tatcaaacgc caattggttg aaactcgcca aatcactaag catgtggcac\\n     2821 aaattttgga tagtcgcatg aatactaaat acgatgaaaa tgataaactt attcgagagg\\n     2881 ttaaagtgat taccttaaaa tctaaattag tttctgactt ccgaaaagat ttccaattct\\n     2941 ataaagtacg tgagattaac aattaccatc atgcccatga tgcgtatcta aatgccgtcg\\n     3001 ttggaactgc tttgattaag aaatatccaa aacttgaatc ggagtttgtc tatggtgatt\\n     3061 ataaagttta tgatgttcgt aaaatgattg ctaagtctga gcaagaaata ggcaaagcaa\\n     3121 ccgcaaaata tttcttttac tctaatatca tgaacttctt caaaacagaa attacacttg\\n     3181 caaatggaga gattcgcaaa cgccctctaa tcgaaactaa tggggaaact ggagaaattg\\n     3241 tctgggataa agggcgagat tttgccacag tgcgcaaagt attgtccatg ccccaagtca\\n     3301 atattgtcaa gaaaacagaa gtacagacag gcggattctc caaggagtca attttaccaa\\n     3361 aaagaaattc ggacaagctt attgctcgta aaaaagactg ggatccaaaa aaatatggtg\\n     3421 gttttgatag tccaacggta gcttattcag tcctagtggt tgctaaggtg gaaaaaggga\\n     3481 aatcgaagaa gttaaaatcc gttaaagagt tactagggat cacaattatg gaaagaagtt\\n     3541 cctttgaaaa aaatccgatt gactttttag aagctaaagg atataaggaa gttaaaaaag\\n     3601 acttaatcat taaactacct aaatatagtc tttttgagtt agaaaacggt cgtaaacgga\\n     3661 tgctggctag tgccggagaa ttacaaaaag gaaatgagct ggctctgcca agcaaatatg\\n     3721 tgaatttttt atatttagct agtcattatg aaaagttgaa gggtagtcca gaagataacg\\n     3781 aacaaaaaca attgtttgtg gagcagcata agcattattt agatgagatt attgagcaaa\\n     3841 tcagtgaatt ttctaagcgt gttattttag cagatgccaa tttagataaa gttcttagtg\\n     3901 catataacaa acatagagac aaaccaatac gtgaacaagc agaaaatatt attcatttat\\n     3961 ttacgttgac gaatcttgga gctcccgctg cttttaaata ttttgataca acaattgatc\\n     4021 gtaaacgata tacgtctaca aaagaagttt tagatgccac tcttatccat caatccatca\\n     4081 ctggtcttta tgaaacacgc attgatttga gtcagctagg aggtgactga gcatcaaata\\n     4141 aaacgaaagg ctcagtcgaa agactgggcc tttcgtttta tctgtctagg tttatacata\\n     4201 ggcgagtact ctgttatgga gtcagatctt agcggctctt aaggaaccga agcgttttag\\n     4261 agctagaaat agcaagttaa aataaggcta gtccgttatc aacttgaaaa agtggcaccg\\n     4321 agtcgctgca ggtcgactct agaggatccc cgggtaccga gctcgaattc agcttggctg\\n     4381 ttttggcgga tgagagaaga ttttcagcct gatacagatt aaatcagaac gcagaagcgg\\n     4441 tctgataaaa cagaatttgc ctggcggcag tagcgcggtg gtcccacctg accccatgcc\\n     4501 gaactcagaa gtgaaacgcc gtagcgccga tggtagtgtg gggtctgccc atgcgagagt\\n     4561 agggaactgc caggcatcaa ataaaacgaa aggctcagtc gaaagactgg gcctttcgtt\\n     4621 ttatctgttg tttgtcggtg aacgctctcc tgagtaggac aaatccgccg ggagcggatt\\n     4681 tgaacgttgc gaagcaacgg cccggagggt ggcgggcagg acgcccgcca taaactgcca\\n     4741 ggcatcaaat taagcagaag gccatcctga cggatggcct ttttgcgttt ctacaaactc\\n     4801 ttttgtttat ttttctaaat acattcaaat atgtatccgc tcatgagaca ataaccctga\\n     4861 taaatgcttc aataatattg aaaaaggaag agtatgagta ttcaacattt ccgtgtcgcc\\n     4921 cttattccct tttttgcggc attttgcctt cctgtttttg ctcacccaga aacgctggtg\\n     4981 aaagtaaaag atgctgaaga tcagttgggt gcacgagtgg gttacatcga actggatctc\\n     5041 aacagcggta agatcctatg cagtttaagg tttacaccta taaaagagag agccgttatc\\n     5101 gtctgtttgt ggatgtacag agtgatatta ttgacacgcc cgggcgacgg atggtgatcc\\n     5161 ccctggccag tgcacgtctg ctgtcagata aagtctcccg tgaactttac ccggtggtgc\\n     5221 atatcgggga tgaaagctgg cgcatgatga ccaccgatat ggccagtgtg ccggtatccg\\n     5281 ttatcgggga agaagtggct gatctcagcc accgcgaaaa tgacatcaaa aacgccatta\\n     5341 acctgatgtt ctggggaata taatgagagt tttcgccccg aagaacgttt tccaatgatg\\n     5401 agcacttttg cttcctcgct cactgactcg ctgcgctcgg tcgttcggct gcggcgagcg\\n     5461 gtatcagctc actcaaaggc ggtaatacgg ttatccacag aatcagggga taacgcagga\\n     5521 aagaacatgt gagcaaaagg ccagcaaaag gccaggaacc gtaaaaaggc cgcgttgctg\\n     5581 gcgtttttcc ataggctccg cccccctgac gagcatcaca aaaatcgacg ctcaagtcag\\n     5641 aggtggcgaa acccgacagg actataaaga taccaggcgt ttccccctgg aagctccctc\\n     5701 gtgcgctctc ctgttccgac cctgccgctt accggatacc tgtccgcctt tctcccttcg\\n     5761 ggaagcgtgg cgctttctca atgctcacgc tgtaggtatc tcagttcggt gtaggtcgtt\\n     5821 cgctccaagc tgggctgtgt gcacgaaccc cccgttcagc ccgaccgctg cgccttatcc\\n     5881 ggtaactatc gtcttgagtc caacccggta agacacgact tatcgccact ggcagcagcc\\n     5941 actggtaaca ggattagcag agcgaggtat gtaggcggtg ctacagagtt cttgaagtgg\\n     6001 tggcctaact acggctacac tagaaggaca gtatttggta tctgcgctct gctgaagcca\\n     6061 gttaccttcg gaaaaagagt tggtagctct tgatccggca aacaaaccac cgctggtagc\\n     6121 ggtggttttt ttgtttgcaa gcagcagatt acgcgcagaa aaaaaggatc tcaagaagat\\n     6181 cctttgatct tttctacggg gtctgacgct cagtggaacg aaaactcacg ttaagggatt\\n     6241 ttggtcatga gattatcaaa aaggatcttc acctagatcc ttttggggtg ggcgaagaac\\n     6301 tccagcatga gatccccgcg ctggaggatc atccagccat tcggggtcgt tcactggttc\\n     6361 ccctttctga tttctggcat agaagaaccc ccgtgaactg tgtggttccg ggggttgctg\\n     6421 atttttgcga gacttctcgc gcaattccct agcttaggtg aaaacaccat gaaacactag\\n     6481 ggaaacaccc atgaaacacc cattagggca gtagggcggc ttcttcgtct agggcttgca\\n     6541 tttgggcggt gatctggtct ttagcgtgtg aaagtgtgtc gtaggtggcg tgctcaatgc\\n     6601 actcgaacgt cacgtcattt accgggtcac ggtgggcaaa gagaactagt gggttagaca\\n     6661 ttgttttcct cgttgtcggt ggtggtgagc ttttctagcc gctcggtaaa cgcggcgatc\\n     6721 atgaactctt ggaggttttc accgttctgc atgcctgcgc gcttcatgtc ctcacgtagt\\n     6781 gccaaaggaa cgcgtgcggt gaccacgacg ggcttagcct ttgcctgcgc ttctagtgct\\n     6841 tcgatggtgg cttgtgcctg cgcttgctgc gcctgtagtg cctgttgagc ttcttgtagt\\n     6901 tgctgttcta gctgtgcctt ggttgccatg ctttaagact ctagtagctt tcctgcgata\\n     6961 tgtcatgcgc atgcgtagca aacattgtcc tgcaactcat tcattatgtg cagtgctcct\\n     7021 gttactagtc gtacatactc atatttacct agtctgcatg cagtgcatgc acatgcagtc\\n     7081 atgtcgtgct aatgtgtaaa acatgtacat gcagattgct gggggtgcag ggggcggagc\\n     7141 caccctgtcc atgcggggtg tggggcttgc cccgccggta cagacagtga gcaccggggc\\n     7201 acctagtcgc ggataccccc cctaggtatc ggacacgtaa ccctcccatg tcgatgcaaa\\n     7261 tctttaacat tgagtacggg taagctggca cgcatagcca agctaggcgg ccaccaaaca\\n     7321 ccactaaaaa ttaatagtcc ctagacaaga caaacccccg tgcgagctac caactcatat\\n     7381 gcacgggggc cacataaccc gaaggggttt caattgacaa ccatagcact agctaagaca\\n     7441 acgggcacaa cacccgcaca aactcgcact gcgcaacccc gcacaacatc gggtctaggt\\n     7501 aacactgagt aacactgaaa tagaagtgaa cacctctaag gaaccgcagg tcaatgaggg\\n     7561 ttctaaggtc actcgcgcta gggcgtggcg taggcaaaac gtcatgtaca agatcaccaa\\n     7621 tagtaaggct ctggcggggt gccataggtg gcgcagggac gaagctgttg cggtgtcctg\\n     7681 gtcgtctaac ggtgcttcgc agtttgaggg tctgcaaaac tctcactctc gctgggggtc\\n     7741 atctctggct gaattggaag tcatgggcga acgccgcatt gagctggcta ttgctactaa\\n     7801 gaatcacttg gcggcgggtg gcgcgctcat gatgtttgtg ggcactgttc gacacaaccg\\n     7861 ctcacagtca tttgcgcagg ttgaagcggg tattaagact gcgtactctt cgatggtgaa\\n     7921 aacatctcag tggaagaaag aacgtgcacg gtacggggtg gagcacacct atagtgacta\\n     7981 tgaggtcaca gactcttggg cgaacggttg gcacttgcac cgcaacatgc tgttgttctt\\n     8041 ggatcgtcca ctgtctgacg atgaactcaa ggcgtttgag gattccatgt tttcccgctg\\n     8101 gtctgctggt gtggttaagg ccggtatgga cgcgccactg cgtgagcacg gggtcaaact\\n     8161 tgatcaggtg tctacctggg gtggagacgc tgcgaaaatg gcaacctacc tcgctaaggg\\n     8221 catgtctcag gaactgactg gctccgctac taaaaccgcg tctaaggggt cgtacacgcc\\n     8281 gtttcagatg ttggatatgt tggccgatca aagcgacgcc ggcgaggata tggacgctgt\\n     8341 tttggtggct cggtggcgtg agtatgaggt tggttctaaa aacctgcgtt cgtcctggtc\\n     8401 acgtggggct aagcgtgctt tgggcattga ttacatagac gctgatgtac gtcgtgaaat\\n     8461 ggaagaagaa ctgtacaagc tcgccggtct ggaagcaccg gaacgggtcg aatcaacccg\\n     8521 cgttgctgtt gctttggtga agcccgatga ttggaaactg attcagtctg atttcgcggt\\n     8581 taggcagtac gttctcgatt gcgtggataa ggctaaggac gtggccgctg cgcaacgtgt\\n     8641 cgctaatgag gtgctggcaa gtctgggtgt ggattccacc ccgtgcatga tcgttatgga\\n     8701 tgatgtggac ttggacgcgg ttctgcctac tcatggggac gctactaagc gtgatctgaa\\n     8761 tgcggcggtg ttcgcgggta atgagcagac tattcttcgc acccactaaa agcggcataa\\n     8821 accccgttcg atattttgtg cgatgaattt atggtcaatg tcgcgggggc aaactatgat\\n     8881 gggtcttgtt gttggcgtcc cggaaaacga ttccgaagcc caacctttca tagaaggcgg\\n     8941 cggtggaata aatctcgtga tggcaggttg ggcgaccaat aactgcctta aaaaaattac\\n     9001 gccccgccct gccactcatc gcagtactgt tgtaattcat taagcattct gccgacatgg\\n     9061 aagccatcac agacggcatg atgaacctga atcgccagcg gcatcagcac cttgtcgcct\\n     9121 tgcgtataat atttgcccat ggtgaaaacg ggggcgaaga agttgtccat attggccacg\\n     9181 tttaaatcaa aactggtgaa actcacccag ggattggctg agacgaaaaa catattctca\\n     9241 ataaaccctt tagggaaata ggccaggttt tcaccgtaac acgccacatc ttgcgaatat\\n     9301 atgtgtagaa actgccggaa atcgtcgtgg tattcactcc agagcgatga aaacgtttca\\n     9361 gtttgctcat ggaaaacggt gtaacaaggg tgaacactat cccatatcac cagctcaccg\\n     9421 tctttcattg ccatacggaa ctccggatga gcattcatca ggcgggcaag aatgtgaata\\n     9481 aaggccggat aaaacttgtg cttatttttc tttacggtct ttaaaaaggc cgtaatatcc\\n     9541 agctgaacgg tctggttata ggtacattga gcaactgact gaaatgcctc aaaatgttct\\n     9601 ttacgatgcc attgggatat atcaacggtg gtatatccag tgattttttt ctccatttta\\n     9661 gcttccttag ctcctgaaaa tctcgtcgaa gctcggcgga tttgtcctac tcaagctgat\\n     9721 ccgacaaaat ccacacatta tcccaggtgt ccggatcggt caaatacgct gccagctcat\\n     9781 agaccgtatc caaagcatcc ggggctgatc cccggcgcca gggtggtttt tcttttcacc\\n     9841 agtgagacgg gcaacagctg attgcccttc accgcctggc cctgagagag ttgcagcaag\\n     9901 cggtccacgt ggtttgcccc agcaggcgaa aatcctgttt gatggtggtt aacggcggga\\n     9961 tataacatga gctgtcttcg gtatcgtcgt atcccactac cgagatatcc gcaccaacgc\\n    10021 gcagcccgga ctcggtaatg gcgcgcattg cgcccagcgc catctgatcg ttggcaacca\\n    10081 gcatcgcagt gggaacgatg ccctcattca gcatttgcat ggtttgttga aaaccggaca\\n    10141 tggcactcca gtcgccttcc cgttccgcta tcggctgaat ttgattgcga gtgagatatt\\n    10201 tatgccagcc agccagacgc agacgcgccg agacagaact taatgggccc gctaacagcg\\n    10261 cgatttgctg gtgacccaat gcgaccagat gctccacgcc cagtcgcgta ccgtcttcat\\n    10321 gggagaaaat aatactgttg atgggtgtct ggtcagagac atcaagaaat aacgccggaa\\n    10381 cattagtgca ggcagcttcc acagcaatgg catcctggtc atccagcgga tagttaatga\\n    10441 tcagcccact gacgcgttgc gcgagaagat tgtgcaccgc cgctttacag gcttcgacgc\\n    10501 cgcttcgttc taccatcgac accaccacgc tggcacccag ttgatcggcg cgagatttaa\\n    10561 tcgccgcgac aatttgcgac ggcgcgtgca gggccagact ggaggtggca acgccaatca\\n    10621 gcaacgactg tttgcccgcc agttgttgtg ccacgcggtt gggaatgtaa ttcagctccg\\n    10681 ccatcgccgc ttccactttt tcccgcgttt tcgcagaaac gtggctggcc tggttcacca\\n    10741 cgcgggaaac ggtctgataa gagacaccgg catactctgc gacatcgtat aacgttactg\\n    10801 gtttcacatt caccaccctg aattgactct cttccgggcg ctatcatgcc ataccgcgaa\\n    10861 aggttttgca ccattcgatg gtgtcaacgt aaatgccgct tcgccttcgc gcgcgaattg\\n    10921 caagctgatc cgggcttatc gactgcacgg tgcaccaatg cttctggcgt caggcagcca\\n    10981 tcggaagctg tggtatggct gtgcaggtcg taaatcactg cataattcgt gtcgctcaag\\n    11041 gcgcactccc gttctggata atgttttttg cgccgacatc ataacggttc tggcaaatat\\n    11101 tctgaaatga gctgttgaca attaatcatc ggctcgtata atgtgtggaa ttgtgagcgg\\n    11161 ataacaattt cacacaggaa acagaatt\\n//\\n'"
      ]
     },
     "execution_count": 12,
     "metadata": {},
     "output_type": "execute_result"
    }
   ],
   "source": []
  },
  {
   "cell_type": "code",
   "execution_count": null,
   "id": "5a606d7a",
   "metadata": {},
   "outputs": [],
   "source": []
  },
  {
   "cell_type": "code",
   "execution_count": null,
   "id": "93d4b294",
   "metadata": {},
   "outputs": [],
   "source": []
  },
  {
   "cell_type": "code",
   "execution_count": null,
   "id": "4949ddfe",
   "metadata": {},
   "outputs": [],
   "source": []
  },
  {
   "cell_type": "code",
   "execution_count": null,
   "id": "b0590a10",
   "metadata": {},
   "outputs": [],
   "source": []
  },
  {
   "cell_type": "code",
   "execution_count": null,
   "id": "d80272ce",
   "metadata": {},
   "outputs": [],
   "source": []
  },
  {
   "cell_type": "code",
   "execution_count": null,
   "id": "8d4f207c",
   "metadata": {},
   "outputs": [],
   "source": []
  },
  {
   "cell_type": "code",
   "execution_count": null,
   "id": "d846ee78",
   "metadata": {},
   "outputs": [],
   "source": [
    "# 1.read 编辑序列信息\n",
    "info_input_df = read_chopchopInput_add_uha_dha(genome_path,chopchop_input, uha_dha_params)"
   ]
  },
  {
   "cell_type": "code",
   "execution_count": 87,
   "id": "e68212c2",
   "metadata": {},
   "outputs": [],
   "source": [
    "# 3.提取用户选择的sgRNA\n",
    "sgRNA = p_d_seq.extract_sgRNA_from_chopchop(sgRNA_result_path)"
   ]
  },
  {
   "cell_type": "code",
   "execution_count": 88,
   "id": "dbec208b",
   "metadata": {},
   "outputs": [
    {
     "name": "stdout",
     "output_type": "stream",
     "text": [
      "{}\n",
      "{}\n",
      "{}\n",
      "{}\n",
      "{}\n",
      "{}\n",
      "{}\n",
      "{}\n",
      "{}\n",
      "{'PRIMER_LEFT_EXPLAIN': 'considered 8, ok 8', 'PRIMER_RIGHT_EXPLAIN': 'considered 408, low tm 132, not in any ok right region 172, ok 104', 'PRIMER_PAIR_EXPLAIN': 'considered 1, ok 1', 'PRIMER_LEFT_NUM_RETURNED': 1, 'PRIMER_RIGHT_NUM_RETURNED': 1, 'PRIMER_INTERNAL_NUM_RETURNED': 0, 'PRIMER_PAIR_NUM_RETURNED': 1, 'PRIMER_PAIR_0_PENALTY': 10.796287109339062, 'PRIMER_LEFT_0_PENALTY': 3.4730231907085454, 'PRIMER_RIGHT_0_PENALTY': 7.323263918630516, 'PRIMER_LEFT_0_SEQUENCE': 'GTTATTTCCGTGCGCGTTGGTGA', 'PRIMER_RIGHT_0_SEQUENCE': 'GCCTGCATTTATAAAGTGCTGACCC', 'PRIMER_LEFT_0': (0, 23), 'PRIMER_RIGHT_0': (1038, 25), 'PRIMER_LEFT_0_TM': 64.52697680929145, 'PRIMER_RIGHT_0_TM': 62.676736081369484, 'PRIMER_LEFT_0_GC_PERCENT': 52.17391304347826, 'PRIMER_RIGHT_0_GC_PERCENT': 48.0, 'PRIMER_LEFT_0_SELF_ANY_TH': 19.610968059260017, 'PRIMER_RIGHT_0_SELF_ANY_TH': 24.27068115227172, 'PRIMER_LEFT_0_SELF_END_TH': 5.11952728907761, 'PRIMER_RIGHT_0_SELF_END_TH': 15.625926837095221, 'PRIMER_LEFT_0_HAIRPIN_TH': 36.149651650343515, 'PRIMER_RIGHT_0_HAIRPIN_TH': 39.3011119927678, 'PRIMER_LEFT_0_END_STABILITY': 4.02, 'PRIMER_RIGHT_0_END_STABILITY': 4.46, 'PRIMER_PAIR_0_COMPL_ANY_TH': 0.0, 'PRIMER_PAIR_0_COMPL_END_TH': 0.0, 'PRIMER_PAIR_0_PRODUCT_SIZE': 1039}\n",
      "{}\n",
      "{'PRIMER_LEFT_EXPLAIN': 'considered 8, ok 8', 'PRIMER_RIGHT_EXPLAIN': 'considered 408, low tm 22, not in any ok right region 172, ok 214', 'PRIMER_PAIR_EXPLAIN': 'considered 1, ok 1', 'PRIMER_LEFT_NUM_RETURNED': 1, 'PRIMER_RIGHT_NUM_RETURNED': 1, 'PRIMER_INTERNAL_NUM_RETURNED': 0, 'PRIMER_PAIR_NUM_RETURNED': 1, 'PRIMER_PAIR_0_PENALTY': 3.078270799216739, 'PRIMER_LEFT_0_PENALTY': 3.0595622503428217, 'PRIMER_RIGHT_0_PENALTY': 0.018708548873917152, 'PRIMER_LEFT_0_SEQUENCE': 'CAAAGTGGTGGTGATGCGCTTCG', 'PRIMER_RIGHT_0_SEQUENCE': 'TGATCCTGCCGGTGAAGCGG', 'PRIMER_LEFT_0': (0, 23), 'PRIMER_RIGHT_0': (1028, 20), 'PRIMER_LEFT_0_TM': 65.05956225034282, 'PRIMER_RIGHT_0_TM': 64.98129145112608, 'PRIMER_LEFT_0_GC_PERCENT': 56.52173913043478, 'PRIMER_RIGHT_0_GC_PERCENT': 65.0, 'PRIMER_LEFT_0_SELF_ANY_TH': 17.329262194548335, 'PRIMER_RIGHT_0_SELF_ANY_TH': 16.30857360756403, 'PRIMER_LEFT_0_SELF_END_TH': 0.0, 'PRIMER_RIGHT_0_SELF_END_TH': 16.30857360756403, 'PRIMER_LEFT_0_HAIRPIN_TH': 0.0, 'PRIMER_RIGHT_0_HAIRPIN_TH': 36.32007900898992, 'PRIMER_LEFT_0_END_STABILITY': 3.79, 'PRIMER_RIGHT_0_END_STABILITY': 5.52, 'PRIMER_PAIR_0_COMPL_ANY_TH': 16.088027256334385, 'PRIMER_PAIR_0_COMPL_END_TH': 3.262359280960652, 'PRIMER_PAIR_0_PRODUCT_SIZE': 1029}\n",
      "{}\n",
      "{'PRIMER_LEFT_EXPLAIN': 'considered 8, low tm 2, ok 8', 'PRIMER_RIGHT_EXPLAIN': 'considered 408, high hairpin stability 3, not in any ok right region 172, ok 233', 'PRIMER_PAIR_EXPLAIN': 'considered 1, ok 1', 'PRIMER_LEFT_NUM_RETURNED': 1, 'PRIMER_RIGHT_NUM_RETURNED': 1, 'PRIMER_INTERNAL_NUM_RETURNED': 0, 'PRIMER_PAIR_NUM_RETURNED': 1, 'PRIMER_PAIR_0_PENALTY': 4.671901001554829, 'PRIMER_LEFT_0_PENALTY': 4.51246984845892, 'PRIMER_RIGHT_0_PENALTY': 0.15943115309590894, 'PRIMER_LEFT_0_SEQUENCE': 'CCTGAAATTTCCGTCATGCCGACC', 'PRIMER_RIGHT_0_SEQUENCE': 'CTGCGTGCAGGTCCCTGGTT', 'PRIMER_LEFT_0': (0, 24), 'PRIMER_RIGHT_0': (1022, 20), 'PRIMER_LEFT_0_TM': 64.48753015154108, 'PRIMER_RIGHT_0_TM': 65.15943115309591, 'PRIMER_LEFT_0_GC_PERCENT': 54.166666666666664, 'PRIMER_RIGHT_0_GC_PERCENT': 65.0, 'PRIMER_LEFT_0_SELF_ANY_TH': 15.483905306687745, 'PRIMER_RIGHT_0_SELF_ANY_TH': 13.998505944661474, 'PRIMER_LEFT_0_SELF_END_TH': 0.0, 'PRIMER_RIGHT_0_SELF_END_TH': 0.0, 'PRIMER_LEFT_0_HAIRPIN_TH': 42.07251419716505, 'PRIMER_RIGHT_0_HAIRPIN_TH': 43.77426119223003, 'PRIMER_LEFT_0_END_STABILITY': 4.79, 'PRIMER_RIGHT_0_END_STABILITY': 3.67, 'PRIMER_PAIR_0_COMPL_ANY_TH': 0.0, 'PRIMER_PAIR_0_COMPL_END_TH': 0.0, 'PRIMER_PAIR_0_PRODUCT_SIZE': 1023}\n",
      "{}\n",
      "{'PRIMER_LEFT_EXPLAIN': 'considered 8, ok 8', 'PRIMER_RIGHT_EXPLAIN': 'considered 408, low tm 1, high hairpin stability 57, not in any ok right region 172, ok 178', 'PRIMER_PAIR_EXPLAIN': 'considered 1, ok 1', 'PRIMER_LEFT_NUM_RETURNED': 1, 'PRIMER_RIGHT_NUM_RETURNED': 1, 'PRIMER_INTERNAL_NUM_RETURNED': 0, 'PRIMER_PAIR_NUM_RETURNED': 1, 'PRIMER_PAIR_0_PENALTY': 7.3210989619772135, 'PRIMER_LEFT_0_PENALTY': 4.05089504894022, 'PRIMER_RIGHT_0_PENALTY': 3.270203913036994, 'PRIMER_LEFT_0_SEQUENCE': 'GACTTCTTCTTCGCGCCCAA', 'PRIMER_RIGHT_0_SEQUENCE': 'CGAAGCAAGCGCGTGTAGATGA', 'PRIMER_LEFT_0': (0, 20), 'PRIMER_RIGHT_0': (1024, 22), 'PRIMER_LEFT_0_TM': 60.94910495105978, 'PRIMER_RIGHT_0_TM': 63.729796086963006, 'PRIMER_LEFT_0_GC_PERCENT': 55.0, 'PRIMER_RIGHT_0_GC_PERCENT': 54.54545454545455, 'PRIMER_LEFT_0_SELF_ANY_TH': 0.0, 'PRIMER_RIGHT_0_SELF_ANY_TH': 23.940233530563603, 'PRIMER_LEFT_0_SELF_END_TH': 0.0, 'PRIMER_RIGHT_0_SELF_END_TH': 0.0, 'PRIMER_LEFT_0_HAIRPIN_TH': 0.0, 'PRIMER_RIGHT_0_HAIRPIN_TH': 45.488676854316, 'PRIMER_LEFT_0_END_STABILITY': 4.12, 'PRIMER_RIGHT_0_END_STABILITY': 2.92, 'PRIMER_PAIR_0_COMPL_ANY_TH': 23.525035600698857, 'PRIMER_PAIR_0_COMPL_END_TH': 20.267342720304953, 'PRIMER_PAIR_0_PRODUCT_SIZE': 1025}\n",
      "{}\n",
      "{'PRIMER_LEFT_EXPLAIN': 'considered 8, high hairpin stability 2, ok 8', 'PRIMER_RIGHT_EXPLAIN': 'considered 408, low tm 27, not in any ok right region 172, ok 209', 'PRIMER_PAIR_EXPLAIN': 'considered 1, ok 1', 'PRIMER_LEFT_NUM_RETURNED': 1, 'PRIMER_RIGHT_NUM_RETURNED': 1, 'PRIMER_INTERNAL_NUM_RETURNED': 0, 'PRIMER_PAIR_NUM_RETURNED': 1, 'PRIMER_PAIR_0_PENALTY': 6.198941826581574, 'PRIMER_LEFT_0_PENALTY': 4.6075054315326724, 'PRIMER_RIGHT_0_PENALTY': 1.5914363950489019, 'PRIMER_LEFT_0_PROBLEMS': ' Hairpin stability too high;', 'PRIMER_LEFT_0_SEQUENCE': 'GCTGAGATCGAAAAGCGTGTTGCT', 'PRIMER_RIGHT_0_SEQUENCE': 'TGGCTGCTGGACAATTCGGGA', 'PRIMER_LEFT_0': (0, 24), 'PRIMER_RIGHT_0': (1031, 21), 'PRIMER_LEFT_0_TM': 64.39249456846733, 'PRIMER_RIGHT_0_TM': 64.4085636049511, 'PRIMER_LEFT_0_GC_PERCENT': 50.0, 'PRIMER_RIGHT_0_GC_PERCENT': 57.142857142857146, 'PRIMER_LEFT_0_SELF_ANY_TH': 0.0, 'PRIMER_RIGHT_0_SELF_ANY_TH': 0.0, 'PRIMER_LEFT_0_SELF_END_TH': 0.0, 'PRIMER_RIGHT_0_SELF_END_TH': 0.0, 'PRIMER_LEFT_0_HAIRPIN_TH': 63.099514384391625, 'PRIMER_RIGHT_0_HAIRPIN_TH': 0.0, 'PRIMER_LEFT_0_END_STABILITY': 3.91, 'PRIMER_RIGHT_0_END_STABILITY': 5.14, 'PRIMER_PAIR_0_COMPL_ANY_TH': 0.0, 'PRIMER_PAIR_0_COMPL_END_TH': 0.0, 'PRIMER_PAIR_0_PRODUCT_SIZE': 1032}\n",
      "{}\n",
      "{'PRIMER_LEFT_EXPLAIN': 'considered 8, low tm 4, ok 8', 'PRIMER_RIGHT_EXPLAIN': 'considered 408, low tm 39, not in any ok right region 172, ok 197', 'PRIMER_PAIR_EXPLAIN': 'considered 1, ok 1', 'PRIMER_LEFT_NUM_RETURNED': 1, 'PRIMER_RIGHT_NUM_RETURNED': 1, 'PRIMER_INTERNAL_NUM_RETURNED': 0, 'PRIMER_PAIR_NUM_RETURNED': 1, 'PRIMER_PAIR_0_PENALTY': 12.610259019731643, 'PRIMER_LEFT_0_PENALTY': 10.061720986376315, 'PRIMER_RIGHT_0_PENALTY': 2.548538033355328, 'PRIMER_LEFT_0_SEQUENCE': 'ATGACTAAAACACTTGGTTCCCT', 'PRIMER_RIGHT_0_SEQUENCE': 'AAGCTTGGGCCATTCCTGCT', 'PRIMER_LEFT_0': (0, 23), 'PRIMER_RIGHT_0': (1019, 20), 'PRIMER_LEFT_0_TM': 57.938279013623685, 'PRIMER_RIGHT_0_TM': 62.45146196664467, 'PRIMER_LEFT_0_GC_PERCENT': 39.130434782608695, 'PRIMER_RIGHT_0_GC_PERCENT': 55.0, 'PRIMER_LEFT_0_SELF_ANY_TH': 0.0, 'PRIMER_RIGHT_0_SELF_ANY_TH': 7.26366105581792, 'PRIMER_LEFT_0_SELF_END_TH': 0.0, 'PRIMER_RIGHT_0_SELF_END_TH': 9.764466054031118, 'PRIMER_LEFT_0_HAIRPIN_TH': 39.28793132834238, 'PRIMER_RIGHT_0_HAIRPIN_TH': 39.730566511905124, 'PRIMER_LEFT_0_END_STABILITY': 4.2, 'PRIMER_RIGHT_0_END_STABILITY': 4.24, 'PRIMER_PAIR_0_COMPL_ANY_TH': 0.0, 'PRIMER_PAIR_0_COMPL_END_TH': 0.0, 'PRIMER_PAIR_0_PRODUCT_SIZE': 1020}\n",
      "{}\n",
      "{'PRIMER_LEFT_EXPLAIN': 'considered 8, low tm 2, high hairpin stability 4, ok 8', 'PRIMER_RIGHT_EXPLAIN': 'considered 408, low tm 25, high hairpin stability 2, not in any ok right region 172, ok 209', 'PRIMER_PAIR_EXPLAIN': 'considered 1, ok 1', 'PRIMER_LEFT_NUM_RETURNED': 1, 'PRIMER_RIGHT_NUM_RETURNED': 1, 'PRIMER_INTERNAL_NUM_RETURNED': 0, 'PRIMER_PAIR_NUM_RETURNED': 1, 'PRIMER_PAIR_0_PENALTY': 3.835340222131606, 'PRIMER_LEFT_0_PENALTY': 3.0531575388139345, 'PRIMER_RIGHT_0_PENALTY': 0.7821826833176715, 'PRIMER_LEFT_0_PROBLEMS': ' Hairpin stability too high;', 'PRIMER_LEFT_0_SEQUENCE': 'CTACATGCGATTCTTGGTGCGCG', 'PRIMER_RIGHT_0_SEQUENCE': 'GGTGGTGTCCGAAAACCCGC', 'PRIMER_LEFT_0': (0, 23), 'PRIMER_RIGHT_0': (1023, 20), 'PRIMER_LEFT_0_TM': 64.94684246118607, 'PRIMER_RIGHT_0_TM': 64.21781731668233, 'PRIMER_LEFT_0_GC_PERCENT': 56.52173913043478, 'PRIMER_RIGHT_0_GC_PERCENT': 65.0, 'PRIMER_LEFT_0_SELF_ANY_TH': 0.0, 'PRIMER_RIGHT_0_SELF_ANY_TH': 0.0, 'PRIMER_LEFT_0_SELF_END_TH': 0.0, 'PRIMER_RIGHT_0_SELF_END_TH': 0.0, 'PRIMER_LEFT_0_HAIRPIN_TH': 51.224837733274626, 'PRIMER_RIGHT_0_HAIRPIN_TH': 35.4429864819399, 'PRIMER_LEFT_0_END_STABILITY': 6.86, 'PRIMER_RIGHT_0_END_STABILITY': 6.13, 'PRIMER_PAIR_0_COMPL_ANY_TH': 0.0, 'PRIMER_PAIR_0_COMPL_END_TH': 0.0, 'PRIMER_PAIR_0_PRODUCT_SIZE': 1024}\n",
      "{}\n",
      "{'PRIMER_LEFT_EXPLAIN': 'considered 8, low tm 4, high hairpin stability 1, ok 8', 'PRIMER_RIGHT_EXPLAIN': 'considered 408, low tm 47, high tm 3, not in any ok right region 172, ok 186', 'PRIMER_PAIR_EXPLAIN': 'considered 1, ok 1', 'PRIMER_LEFT_NUM_RETURNED': 1, 'PRIMER_RIGHT_NUM_RETURNED': 1, 'PRIMER_INTERNAL_NUM_RETURNED': 0, 'PRIMER_PAIR_NUM_RETURNED': 1, 'PRIMER_PAIR_0_PENALTY': 9.36879062420013, 'PRIMER_LEFT_0_PENALTY': 9.10487721337637, 'PRIMER_RIGHT_0_PENALTY': 0.2639134108237613, 'PRIMER_LEFT_0_PROBLEMS': ' Hairpin stability too high;', 'PRIMER_LEFT_0_SEQUENCE': 'GCTTTTAAGTTTTCTCGGTGATCCG', 'PRIMER_RIGHT_0_SEQUENCE': 'CGCGCACGCCTCATGGATTC', 'PRIMER_LEFT_0': (0, 25), 'PRIMER_RIGHT_0': (1036, 20), 'PRIMER_LEFT_0_TM': 60.89512278662363, 'PRIMER_RIGHT_0_TM': 64.73608658917624, 'PRIMER_LEFT_0_GC_PERCENT': 44.0, 'PRIMER_RIGHT_0_GC_PERCENT': 65.0, 'PRIMER_LEFT_0_SELF_ANY_TH': 0.0, 'PRIMER_RIGHT_0_SELF_ANY_TH': 8.74883535431286, 'PRIMER_LEFT_0_SELF_END_TH': 0.0, 'PRIMER_RIGHT_0_SELF_END_TH': 0.0, 'PRIMER_LEFT_0_HAIRPIN_TH': 55.99349097302695, 'PRIMER_RIGHT_0_HAIRPIN_TH': 37.98334977468494, 'PRIMER_LEFT_0_END_STABILITY': 4.18, 'PRIMER_RIGHT_0_END_STABILITY': 2.52, 'PRIMER_PAIR_0_COMPL_ANY_TH': 0.0, 'PRIMER_PAIR_0_COMPL_END_TH': 0.0, 'PRIMER_PAIR_0_PRODUCT_SIZE': 1037}\n",
      "{}\n",
      "{'PRIMER_LEFT_EXPLAIN': 'considered 8, low tm 1, ok 8', 'PRIMER_RIGHT_EXPLAIN': 'considered 408, low tm 54, not in any ok right region 172, ok 182', 'PRIMER_PAIR_EXPLAIN': 'considered 1, ok 1', 'PRIMER_LEFT_NUM_RETURNED': 1, 'PRIMER_RIGHT_NUM_RETURNED': 1, 'PRIMER_INTERNAL_NUM_RETURNED': 0, 'PRIMER_PAIR_NUM_RETURNED': 1, 'PRIMER_PAIR_0_PENALTY': 10.436286605489158, 'PRIMER_LEFT_0_PENALTY': 5.407095062055419, 'PRIMER_RIGHT_0_PENALTY': 5.02919154343374, 'PRIMER_LEFT_0_SEQUENCE': 'CTACCTATTTGCGCGGTACCACT', 'PRIMER_RIGHT_0_SEQUENCE': 'TCCACATTGTTCGTGATCGCTTCGA', 'PRIMER_LEFT_0': (0, 23), 'PRIMER_RIGHT_0': (1034, 25), 'PRIMER_LEFT_0_TM': 62.59290493794458, 'PRIMER_RIGHT_0_TM': 64.97080845656626, 'PRIMER_LEFT_0_GC_PERCENT': 52.17391304347826, 'PRIMER_RIGHT_0_GC_PERCENT': 48.0, 'PRIMER_LEFT_0_SELF_ANY_TH': 13.539476625797363, 'PRIMER_RIGHT_0_SELF_ANY_TH': 4.4829346765852165, 'PRIMER_LEFT_0_SELF_END_TH': 0.0, 'PRIMER_RIGHT_0_SELF_END_TH': 1.6655968014014206, 'PRIMER_LEFT_0_HAIRPIN_TH': 32.356514321702605, 'PRIMER_RIGHT_0_HAIRPIN_TH': 41.134684649373696, 'PRIMER_LEFT_0_END_STABILITY': 4.0, 'PRIMER_RIGHT_0_END_STABILITY': 3.71, 'PRIMER_PAIR_0_COMPL_ANY_TH': 0.0, 'PRIMER_PAIR_0_COMPL_END_TH': 0.0, 'PRIMER_PAIR_0_PRODUCT_SIZE': 1035}\n",
      "{}\n"
     ]
    }
   ],
   "source": [
    "# 4.设计源生同源臂引物\n",
    "uha_dha_primer_df = extract_uha_dha_primer(info_input_df, sgRNA)"
   ]
  },
  {
   "cell_type": "code",
   "execution_count": 89,
   "id": "97806e66",
   "metadata": {},
   "outputs": [
    {
     "name": "stdout",
     "output_type": "stream",
     "text": [
      "Index(['primer_f_seq_(5'-3')', 'primer_r_seq_(5'-3')', 'primer_f_Tm',\n",
      "       'primer_r_Tm', 'product_size', 'product_value', 'Name', 'Region',\n",
      "       'Type'],\n",
      "      dtype='object')\n"
     ]
    }
   ],
   "source": [
    "# 5.提取同源臂\n",
    "uha_dha_info_primer_df, uha_dha_df, uha_dha_sgRNA_df, info_df = extract_uha_dha(info_input_df,uha_dha_primer_df,sgRNA)"
   ]
  },
  {
   "cell_type": "markdown",
   "id": "7401c0ba",
   "metadata": {},
   "source": [
    "# 双质粒设计"
   ]
  },
  {
   "cell_type": "markdown",
   "id": "c588ecb4",
   "metadata": {},
   "source": [
    "## 构建两个新质粒"
   ]
  },
  {
   "cell_type": "code",
   "execution_count": 90,
   "id": "6eadf7cf",
   "metadata": {},
   "outputs": [
    {
     "name": "stdout",
     "output_type": "stream",
     "text": [
      "-1 -1\n",
      "-1 -1\n",
      "-1 -1\n",
      "-1 -1\n",
      "-1 -1\n",
      "-1 -1\n",
      "-1 -1\n",
      "-1 -1\n",
      "8643 9107\n",
      "-1 -1\n",
      "-1 -1\n",
      "-1 -1\n",
      "-1 -1\n",
      "8696 8716\n",
      "tag: 0 marker -1 -1\n",
      "-1 -1 8643 9107\n",
      "kjfdhsgjkhd\n",
      "-1 -1\n",
      "5057 5363\n",
      "-1 -1\n",
      "-1 -1\n",
      "-1 -1\n",
      "-1 -1\n",
      "-1 -1\n",
      "-1 -1\n",
      "tag: 0 marker -1 -1\n",
      "-1 -1 5057 5363\n",
      "kjfdhsgjkhd\n"
     ]
    }
   ],
   "source": [
    "no_ccdb_uha_dha_sgRNA_df,\\\n",
    "sgRNA_plasmid_backbone,\\\n",
    "promoter_seq,\\\n",
    "terminator_seq,\\\n",
    "sgRNA_promoter_terminator= p_d_seq.create_new_plasmid(no_ccdb_plasmid,uha_dha_sgRNA_df.copy(),ccdb_label, promoter_terminator_label, n_20_label)\n",
    "\n",
    "\n",
    "no_sgRNA_uha_dha_ccdb_df,\\\n",
    "ccdB_plasmid_backbone,\\\n",
    "ccdB_promoter_terminator_up_seq  = p_d_seq.create_new_plasmid(no_sgRNA_plasmid,uha_dha_sgRNA_df.copy(),ccdb_label, promoter_terminator_label, n_20_label)"
   ]
  },
  {
   "cell_type": "code",
   "execution_count": 8,
   "id": "dfe6ea23",
   "metadata": {},
   "outputs": [],
   "source": [
    "#酶切退火方式获得质粒和n20\n",
    "enzymeCutSeq_and_N20_df = two_plasmid_system_n20_enzyme_cut_seq(no_ccdb_uha_dha_sgRNA_df,promoter_seq,enzyme_df,enzyme_name)"
   ]
  },
  {
   "cell_type": "code",
   "execution_count": 9,
   "id": "63c4df18",
   "metadata": {},
   "outputs": [],
   "source": [
    "#选择引物设计类型\n",
    "#质粒引物的设计类型：1---用户指定范围，2----无需用户指定范围，3----用户指定额外引物"
   ]
  },
  {
   "cell_type": "code",
   "execution_count": 91,
   "id": "d6453722",
   "metadata": {},
   "outputs": [],
   "source": [
    "plasmid_primer_desgin_type = 1"
   ]
  },
  {
   "cell_type": "markdown",
   "id": "aa556102",
   "metadata": {},
   "source": [
    "## 给定质粒的区域设计引物"
   ]
  },
  {
   "cell_type": "code",
   "execution_count": 93,
   "id": "a3929e7f",
   "metadata": {},
   "outputs": [],
   "source": [
    "sgRNA_region_json = {'region1': '371,570', 'region2': '11307,200'}"
   ]
  },
  {
   "cell_type": "code",
   "execution_count": 95,
   "id": "7fe59987",
   "metadata": {},
   "outputs": [
    {
     "name": "stdout",
     "output_type": "stream",
     "text": [
      "-1 -1\n",
      "-1 -1\n",
      "-1 -1\n",
      "-1 -1\n",
      "-1 -1\n",
      "-1 -1\n",
      "-1 -1\n",
      "-1 -1\n",
      "8643 9107\n",
      "-1 -1\n",
      "-1 -1\n",
      "-1 -1\n",
      "-1 -1\n",
      "8696 8716\n",
      "tag: 0 marker -1 -1\n",
      "-1 -1 8643 9107\n",
      "kjfdhsgjkhd\n",
      "-1 -1\n",
      "5057 5363\n",
      "-1 -1\n",
      "-1 -1\n",
      "-1 -1\n",
      "-1 -1\n",
      "-1 -1\n",
      "-1 -1\n",
      "tag: 0 marker -1 -1\n",
      "-1 -1 5057 5363\n",
      "kjfdhsgjkhd\n"
     ]
    }
   ],
   "source": [
    "#将sgRNA质粒分割成：promoter_terminator_up_seq、promoter_seq、n20_coordinate_seq、terminator_seq、promoter_terminator_down_seq\n",
    "sgRNA_plasmid_seq, sgRNA_plasmid_region_seq = p_d_seq.plasmid_region_division_by_labels(no_ccdb_plasmid,\n",
    "                                                                                        ccdb_label,\n",
    "                                                                                        promoter_terminator_label,\n",
    "                                                                                        n_20_label)\n",
    "#将ccdb质粒分割成：ccdb_up_seq、ccdb、ccdb_down_seq\n",
    "ccdb_plasmid_seq, ccdb_plasmid_region_seq = p_d_seq.plasmid_region_division_by_labels(no_sgRNA_plasmid,\n",
    "                                                                                      ccdb_label,\n",
    "                                                                                      promoter_terminator_label,\n",
    "                                                                                      n_20_label)\n"
   ]
  },
  {
   "cell_type": "code",
   "execution_count": 120,
   "id": "b4b46c87",
   "metadata": {},
   "outputs": [
    {
     "name": "stdout",
     "output_type": "stream",
     "text": [
      "{'primer1': (2591, 2830), 'primer2': (171, 370)}\n"
     ]
    }
   ],
   "source": [
    "#针对sgRNA质粒的操作：\n",
    "#确定第一条引物的位置在质粒上的位置：先找到启动子终止子的绝对位置，再确定相对位置，再确定绝对位置\n",
    "promoter_terminator_seq = sgRNA_plasmid_region_seq['promoter_seq']+sgRNA_plasmid_region_seq['n20_coordinate_seq']+sgRNA_plasmid_region_seq['terminator_seq']\n",
    "promoter_terminator_start = sgRNA_plasmid_seq.find(promoter_terminator_seq)\n",
    "promoter_terminator_end = promoter_terminator_start + len(promoter_terminator_seq)\n",
    "first_primer_position_in_promoter_terminator = promoter_terminator_seq.find(sgRNA_plasmid_region_seq['terminator_seq'])\n",
    "first_primer_start_position = promoter_terminator_start + first_primer_position_in_promoter_terminator\n",
    "#将用户提供的质粒设计区域转换成，各个区域之间的最小，最大距离\n",
    "sgRNA_plasmid_seq_len = len(sgRNA_plasmid_seq)\n",
    "sgRNA_distance_dict = region_2_distance(sgRNA_plasmid_seq_len, sgRNA_region_json,first_primer_start_position)\n"
   ]
  },
  {
   "cell_type": "code",
   "execution_count": 121,
   "id": "e07a8480",
   "metadata": {},
   "outputs": [
    {
     "name": "stdout",
     "output_type": "stream",
     "text": [
      "570 8716 hdsfjkgfhjgjghfj\n"
     ]
    }
   ],
   "source": [
    "#针对区域设计引物，特殊处理第一条和最后一条引物\n",
    "sgRNA_plasmid_primer_result_list = p_d_seq.design_primer_by_region_in_plasmid(first_primer_start_position, sgRNA_plasmid_seq, sgRNA_distance_dict, 20)\n",
    "sgRNA_plasmid_primer_df =  su.result_primer_list_to_df(sgRNA_plasmid_primer_result_list)"
   ]
  },
  {
   "cell_type": "code",
   "execution_count": 122,
   "id": "71ef18a1",
   "metadata": {},
   "outputs": [
    {
     "data": {
      "text/html": [
       "<div>\n",
       "<style scoped>\n",
       "    .dataframe tbody tr th:only-of-type {\n",
       "        vertical-align: middle;\n",
       "    }\n",
       "\n",
       "    .dataframe tbody tr th {\n",
       "        vertical-align: top;\n",
       "    }\n",
       "\n",
       "    .dataframe thead th {\n",
       "        text-align: right;\n",
       "    }\n",
       "</style>\n",
       "<table border=\"1\" class=\"dataframe\">\n",
       "  <thead>\n",
       "    <tr style=\"text-align: right;\">\n",
       "      <th></th>\n",
       "      <th>Region</th>\n",
       "      <th>primer_f_seq_(5'-3')</th>\n",
       "      <th>primer_r_seq_(5'-3')</th>\n",
       "      <th>primer_f_Tm</th>\n",
       "      <th>primer_r_Tm</th>\n",
       "      <th>product_size</th>\n",
       "      <th>product_value</th>\n",
       "    </tr>\n",
       "  </thead>\n",
       "  <tbody>\n",
       "    <tr>\n",
       "      <th>0</th>\n",
       "      <td>1</td>\n",
       "      <td>GTTTTAGAGCTAGAAATAGCAAGT</td>\n",
       "      <td>CGCTGTCTCTCCACTGTCAA</td>\n",
       "      <td>54.971016</td>\n",
       "      <td>59.684749</td>\n",
       "      <td>2830</td>\n",
       "      <td>GTTTTAGAGCTAGAAATAGCAAGTTAAAATAAGGCTAGTCCGTTAT...</td>\n",
       "    </tr>\n",
       "    <tr>\n",
       "      <th>0</th>\n",
       "      <td>2</td>\n",
       "      <td>GAAGCGACTCGTCTCAAACGGACA</td>\n",
       "      <td>TGTCCACATCACTATTATCAGGA</td>\n",
       "      <td>65.080717</td>\n",
       "      <td>56.526896</td>\n",
       "      <td>370</td>\n",
       "      <td>GAAGCGACTCGTCTCAAACGGACAGCTCGTAGAAGGTATACACGTC...</td>\n",
       "    </tr>\n",
       "    <tr>\n",
       "      <th>0</th>\n",
       "      <td>3</td>\n",
       "      <td>AACTATTTATCCAGTTGGTACAAAC</td>\n",
       "      <td>TGAATTACACTGTACCTGTTGCGT</td>\n",
       "      <td>55.566353</td>\n",
       "      <td>60.741235</td>\n",
       "      <td>8126</td>\n",
       "      <td>GAAGCGACTCGTCTCAAACGGACAGCTCGTAGAAGGTATACACGTC...</td>\n",
       "    </tr>\n",
       "  </tbody>\n",
       "</table>\n",
       "</div>"
      ],
      "text/plain": [
       "   Region       primer_f_seq_(5'-3')      primer_r_seq_(5'-3')  primer_f_Tm  \\\n",
       "0       1   GTTTTAGAGCTAGAAATAGCAAGT      CGCTGTCTCTCCACTGTCAA    54.971016   \n",
       "0       2   GAAGCGACTCGTCTCAAACGGACA   TGTCCACATCACTATTATCAGGA    65.080717   \n",
       "0       3  AACTATTTATCCAGTTGGTACAAAC  TGAATTACACTGTACCTGTTGCGT    55.566353   \n",
       "\n",
       "   primer_r_Tm  product_size  \\\n",
       "0    59.684749          2830   \n",
       "0    56.526896           370   \n",
       "0    60.741235          8126   \n",
       "\n",
       "                                       product_value  \n",
       "0  GTTTTAGAGCTAGAAATAGCAAGTTAAAATAAGGCTAGTCCGTTAT...  \n",
       "0  GAAGCGACTCGTCTCAAACGGACAGCTCGTAGAAGGTATACACGTC...  \n",
       "0  GAAGCGACTCGTCTCAAACGGACAGCTCGTAGAAGGTATACACGTC...  "
      ]
     },
     "execution_count": 122,
     "metadata": {},
     "output_type": "execute_result"
    }
   ],
   "source": [
    "sgRNA_plasmid_primer_df"
   ]
  },
  {
   "cell_type": "code",
   "execution_count": 100,
   "id": "7f77c95b",
   "metadata": {},
   "outputs": [
    {
     "data": {
      "text/plain": [
       "11346"
      ]
     },
     "execution_count": 100,
     "metadata": {},
     "output_type": "execute_result"
    }
   ],
   "source": [
    "sgRNA_plasmid_seq_len"
   ]
  },
  {
   "cell_type": "code",
   "execution_count": 101,
   "id": "d2652a82",
   "metadata": {},
   "outputs": [
    {
     "data": {
      "text/plain": [
       "8716"
      ]
     },
     "execution_count": 101,
     "metadata": {},
     "output_type": "execute_result"
    }
   ],
   "source": [
    "first_primer_start_position"
   ]
  },
  {
   "cell_type": "code",
   "execution_count": 102,
   "id": "b814cd7c",
   "metadata": {},
   "outputs": [],
   "source": [
    "    distance_dict = {}\n",
    "    for k,v in sgRNA_region_json.items():\n",
    "        arr = v.split(',')\n",
    "        first = int(arr[0])\n",
    "        last = int(arr[1])\n",
    "        if first  > first_primer_start_position:\n",
    "            distance = first - first_primer_start_position\n",
    "        else:\n",
    "            distance = sgRNA_plasmid_seq_len - first_primer_start_position + first\n",
    "        distance_dict.update({distance:v})\n",
    "    sorted_distance = sorted(distance_dict.keys())"
   ]
  },
  {
   "cell_type": "code",
   "execution_count": 103,
   "id": "814d962e",
   "metadata": {},
   "outputs": [
    {
     "data": {
      "text/plain": [
       "[2591, 3001]"
      ]
     },
     "execution_count": 103,
     "metadata": {},
     "output_type": "execute_result"
    }
   ],
   "source": [
    "sorted_distance\n"
   ]
  },
  {
   "cell_type": "code",
   "execution_count": 104,
   "id": "2125f410",
   "metadata": {},
   "outputs": [
    {
     "data": {
      "text/plain": [
       "{3001: '371,570', 2591: '11307,200'}"
      ]
     },
     "execution_count": 104,
     "metadata": {},
     "output_type": "execute_result"
    }
   ],
   "source": [
    "distance_dict"
   ]
  },
  {
   "cell_type": "code",
   "execution_count": null,
   "id": "b774b0ff",
   "metadata": {},
   "outputs": [],
   "source": []
  },
  {
   "cell_type": "code",
   "execution_count": 118,
   "id": "98d74de5",
   "metadata": {},
   "outputs": [],
   "source": []
  },
  {
   "cell_type": "code",
   "execution_count": null,
   "id": "2def7f12",
   "metadata": {},
   "outputs": [],
   "source": []
  },
  {
   "cell_type": "code",
   "execution_count": null,
   "id": "d3d4a25b",
   "metadata": {},
   "outputs": [],
   "source": []
  },
  {
   "cell_type": "code",
   "execution_count": null,
   "id": "1fde6542",
   "metadata": {},
   "outputs": [],
   "source": []
  },
  {
   "cell_type": "code",
   "execution_count": null,
   "id": "5504f4d2",
   "metadata": {},
   "outputs": [],
   "source": []
  },
  {
   "cell_type": "code",
   "execution_count": 10,
   "id": "250e236d",
   "metadata": {},
   "outputs": [
    {
     "name": "stdout",
     "output_type": "stream",
     "text": [
      "-1 -1\n",
      "-1 -1\n",
      "-1 -1\n",
      "-1 -1\n",
      "-1 -1\n",
      "-1 -1\n",
      "-1 -1\n",
      "-1 -1\n",
      "8643 9107\n",
      "-1 -1\n",
      "-1 -1\n",
      "-1 -1\n",
      "-1 -1\n",
      "8696 8716\n",
      "tag: 0 marker -1 -1\n",
      "-1 -1 8643 9107\n",
      "kjfdhsgjkhd\n",
      "-1 -1\n",
      "5057 5363\n",
      "-1 -1\n",
      "-1 -1\n",
      "-1 -1\n",
      "-1 -1\n",
      "-1 -1\n",
      "-1 -1\n",
      "tag: 0 marker -1 -1\n",
      "-1 -1 5057 5363\n",
      "kjfdhsgjkhd\n"
     ]
    }
   ],
   "source": [
    "\n",
    "\n",
    "\n",
    "#针对ccdb载体质粒的操作：\n",
    "ccdb_start = ccdb_plasmid_seq.find(ccdb_plasmid_region_seq['ccdb'])\n",
    "ccdb_end = ccdb_start + len(ccdb_plasmid_region_seq['ccdb'])\n",
    "first_primer_start_position = ccdb_end\n",
    "ccdb_plasmid_seq_len = len(ccdb_plasmid_seq)\n",
    "ccdb_distance_dict = region_2_distance(ccdb_plasmid_seq_len, ccdb_region_json,first_primer_start_position)\n",
    "ccdb_plasmid_primer_result_list = p_d_seq.design_primer_by_region_in_plasmid(first_primer_start_position,ccdb_plasmid_seq, ccdb_distance_dict,len(ccdb_plasmid_region_seq['ccdb']))\n",
    "ccdb_plasmid_primer_df = su.result_primer_list_to_df(ccdb_plasmid_primer_result_list)\n",
    "\n",
    "#sgRNA质粒引物加接头\n",
    "sgRNA_plasmid_primer_joint_df = p_d_seq.sgRNA_sgRNAprimer_merge(uha_dha_sgRNA_df, sgRNA_plasmid_primer_df)\n",
    "sgRNA_primers_sum=len(sgRNA_plasmid_primer_df)\n",
    "sgRNA_plasmid_primer_joint_df = p_d_seq.add_joint_plasmid_primer(enzyme_df,\n",
    "                                                                 enzyme_name,\n",
    "                                                                 sgRNA_plasmid_primer_joint_df,\n",
    "                                                                 sgRNA_primers_sum,\n",
    "                                                                 primer_type='sgRNA')"
   ]
  },
  {
   "cell_type": "markdown",
   "id": "059f2799",
   "metadata": {},
   "source": [
    "## 给定质粒上的引物"
   ]
  },
  {
   "cell_type": "code",
   "execution_count": 16,
   "id": "6fee6fd2",
   "metadata": {},
   "outputs": [],
   "source": [
    "#根据给定sgRNA质粒设计\n",
    "uha_dha_sgRNA_df, sgRNA_plasmid_backbone, sgRNA_promoter_terminator, sgRNA_primer_json,enzyme_df,enzyme_name,n_20_label,ccdb_label,promoter_terminator_label"
   ]
  },
  {
   "cell_type": "code",
   "execution_count": 27,
   "id": "352dd8b2",
   "metadata": {},
   "outputs": [],
   "source": [
    "sgRNA_primer_position_json, sgRNA_failture_primer = p_d_seq.check_locate_primer(sgRNA_plasmid_backbone, sgRNA_primer_json)\n",
    "ccdb_primer_position_json, ccdb_failture_primer = p_d_seq.check_locate_primer(ccdB_plasmid_backbone, ccdb_primer_json)"
   ]
  },
  {
   "cell_type": "code",
   "execution_count": 28,
   "id": "dc37c5ee",
   "metadata": {},
   "outputs": [],
   "source": [
    "sgRNA_promoter_terminator_start = sgRNA_plasmid_backbone.find(sgRNA_promoter_terminator)"
   ]
  },
  {
   "cell_type": "code",
   "execution_count": null,
   "id": "18a18909",
   "metadata": {},
   "outputs": [],
   "source": [
    "sort_compose_primer(sgRNA_promoter_terminator_start,\n",
    "                    sgRNA_primer_json,\n",
    "                    sgRNA_primer_position_json,\n",
    "                    no_ccdb_plasmid,\n",
    "                    sgRNA_plasmid_backbone,\n",
    "                    n_20_label,\n",
    "                    ccdb_label,\n",
    "                    promoter_terminator_label)"
   ]
  },
  {
   "cell_type": "code",
   "execution_count": null,
   "id": "0430ca75",
   "metadata": {},
   "outputs": [],
   "source": []
  },
  {
   "cell_type": "code",
   "execution_count": 54,
   "id": "3cf3da79",
   "metadata": {},
   "outputs": [],
   "source": [
    "sgRNA_region_seq_json = {\n",
    "    'region1':\"tgtgtggaattgtgagcggataacaatttcacacaggaaacagaatt\",\n",
    "    'region2':\"aaagatgctgaagatcagttgggtgcacgagtgggttacatcgaactggatctcaacagcggtaagatccttgagagttttcgccccgaagaacgttttccaatgatgagcacttttgcttcctcgctcactgact\"\n",
    "}\n"
   ]
  },
  {
   "cell_type": "code",
   "execution_count": 55,
   "id": "b2bd5486",
   "metadata": {},
   "outputs": [],
   "source": [
    "\n",
    "sgRNA_gb_path = '/home/yanghe/program/edit_sequence_design/input/no-ccdb-pXMJ19-Cas9A-gRNA-crtYEb-Ts - ori.gb'\n",
    "ccdb_gb_path = '/home/yanghe/program/edit_sequence_design/input/no-sgRNA-pXMJ19-Cas9A-gRNA-crtYEb-Ts - ori.gb'\n",
    "\n",
    "\n",
    "def convert(gb_path,region_seq_json):\n",
    "    gb = SeqIO.read(gb_path, \"genbank\")\n",
    "    gb_seq = str(gb.seq).upper()\n",
    "    \n",
    "    region_cor_json = {}\n",
    "    for k,v in region_seq_json.items():\n",
    "        v = v.upper()\n",
    "        start = gb_seq.find(v)\n",
    "        end = start + len(v)\n",
    "        if len(gb_seq) < end:\n",
    "            end = end - len(gb_seq)\n",
    "        region_cor_json.update({k:f'{start},{end}'})\n",
    "        \n",
    "    return region_cor_json"
   ]
  },
  {
   "cell_type": "code",
   "execution_count": 56,
   "id": "7e1edaa0",
   "metadata": {},
   "outputs": [],
   "source": [
    "sgRNA_region_json = convert(sgRNA_gb_path,sgRNA_region_seq_json)"
   ]
  },
  {
   "cell_type": "code",
   "execution_count": 57,
   "id": "c5f7b1c0",
   "metadata": {},
   "outputs": [
    {
     "data": {
      "text/plain": [
       "{'region1': '11299,11346', 'region2': '4986,5122'}"
      ]
     },
     "execution_count": 57,
     "metadata": {},
     "output_type": "execute_result"
    }
   ],
   "source": [
    "sgRNA_region_json"
   ]
  },
  {
   "cell_type": "code",
   "execution_count": 20,
   "id": "b6eff414",
   "metadata": {},
   "outputs": [],
   "source": [
    "ccdb_region_json = convert(sgRNA_gb_path,ccdb_region_seq_json)"
   ]
  },
  {
   "cell_type": "code",
   "execution_count": 21,
   "id": "9b462cbb",
   "metadata": {},
   "outputs": [
    {
     "data": {
      "text/plain": [
       "{'region1': '-1,130', 'region2': '-1,152'}"
      ]
     },
     "execution_count": 21,
     "metadata": {},
     "output_type": "execute_result"
    }
   ],
   "source": [
    "ccdb_region_json"
   ]
  },
  {
   "cell_type": "code",
   "execution_count": 15,
   "id": "e76bd47b",
   "metadata": {},
   "outputs": [],
   "source": [
    "ccdb_gb_path = '/home/yanghe/program/edit_sequence_design/input/no-sgRNA-pXMJ19-Cas9A-gRNA-crtYEb-Ts - ori.gb'\n",
    "\n",
    "gb = SeqIO.read(ccdb_gb_path, \"genbank\")\n",
    "gb_seq = str(gb.seq)"
   ]
  },
  {
   "cell_type": "code",
   "execution_count": null,
   "id": "6c1a9c61",
   "metadata": {},
   "outputs": [],
   "source": [
    "TCATCGACTT"
   ]
  },
  {
   "cell_type": "code",
   "execution_count": 75,
   "id": "1895132f",
   "metadata": {},
   "outputs": [
    {
     "data": {
      "text/plain": [
       "'TAAAGTGTG'"
      ]
     },
     "execution_count": 75,
     "metadata": {},
     "output_type": "execute_result"
    }
   ],
   "source": [
    "su.revComp('ATTTCACAC')[::-1]"
   ]
  },
  {
   "cell_type": "code",
   "execution_count": 62,
   "id": "459585b2",
   "metadata": {},
   "outputs": [],
   "source": [
    "region_json = {'region1': 'ATTTCACAC'}"
   ]
  },
  {
   "cell_type": "code",
   "execution_count": 73,
   "id": "87255956",
   "metadata": {},
   "outputs": [],
   "source": [
    "region_json = {'region1': 'GTGTGAAAT'}"
   ]
  },
  {
   "cell_type": "code",
   "execution_count": 114,
   "id": "fa40eb7b",
   "metadata": {},
   "outputs": [],
   "source": [
    "region_json = {'region1': 'ATTTCACAC','region2':'dhbsjkhb'}"
   ]
  },
  {
   "cell_type": "code",
   "execution_count": 87,
   "id": "01dfe6fe",
   "metadata": {},
   "outputs": [
    {
     "data": {
      "text/plain": [
       "'CAATTTCACACAGGAAACAGAATTAATTAAGCTTAAAGGAGTTGAGAATGGATAAGAAATA'"
      ]
     },
     "execution_count": 87,
     "metadata": {},
     "output_type": "execute_result"
    }
   ],
   "source": []
  },
  {
   "cell_type": "code",
   "execution_count": 100,
   "id": "e836c5af",
   "metadata": {},
   "outputs": [
    {
     "data": {
      "text/plain": [
       "{'region1': '-1,-1'}"
      ]
     },
     "execution_count": 100,
     "metadata": {},
     "output_type": "execute_result"
    }
   ],
   "source": [
    "cor_json_plus"
   ]
  },
  {
   "cell_type": "code",
   "execution_count": null,
   "id": "2d8a122f",
   "metadata": {},
   "outputs": [],
   "source": []
  },
  {
   "cell_type": "code",
   "execution_count": 98,
   "id": "29fcab69",
   "metadata": {},
   "outputs": [],
   "source": [
    "gb_path =  '/home/yanghe/program/edit_sequence_design/input/no-sgRNA-pXMJ19-Cas9A-gRNA-crtYEb-Ts - ori.gb'\n",
    "\n",
    "cor_json_plus = convert_seq_cor(gb_path,region_json,strand='+')\n",
    "cor_json_min = convert_seq_cor(gb_path,region_json,strand='-')"
   ]
  },
  {
   "cell_type": "code",
   "execution_count": 115,
   "id": "2491f463",
   "metadata": {},
   "outputs": [],
   "source": [
    "\n",
    "aa = check_seq_in_gb(gb_path,region_json)   "
   ]
  },
  {
   "cell_type": "code",
   "execution_count": 116,
   "id": "5bce0122",
   "metadata": {},
   "outputs": [
    {
     "data": {
      "text/html": [
       "<div>\n",
       "<style scoped>\n",
       "    .dataframe tbody tr th:only-of-type {\n",
       "        vertical-align: middle;\n",
       "    }\n",
       "\n",
       "    .dataframe tbody tr th {\n",
       "        vertical-align: top;\n",
       "    }\n",
       "\n",
       "    .dataframe thead th {\n",
       "        text-align: right;\n",
       "    }\n",
       "</style>\n",
       "<table border=\"1\" class=\"dataframe\">\n",
       "  <thead>\n",
       "    <tr style=\"text-align: right;\">\n",
       "      <th></th>\n",
       "      <th>region1</th>\n",
       "      <th>region2</th>\n",
       "    </tr>\n",
       "  </thead>\n",
       "  <tbody>\n",
       "    <tr>\n",
       "      <th>0</th>\n",
       "      <td>ATTTCACAC</td>\n",
       "      <td>The sequence you provided is not on the plasmi...</td>\n",
       "    </tr>\n",
       "  </tbody>\n",
       "</table>\n",
       "</div>"
      ],
      "text/plain": [
       "     region1                                            region2\n",
       "0  ATTTCACAC  The sequence you provided is not on the plasmi..."
      ]
     },
     "execution_count": 116,
     "metadata": {},
     "output_type": "execute_result"
    }
   ],
   "source": [
    "UHA_ARGS\n",
    "SEQ_ALTERED_ARGS\n",
    "DHA_ARGS\n",
    "UP_SGRNA_ARGS\n",
    "DOWN_SGRNA_ARGS\n",
    "\n",
    "PLASMID_Q_ARGS\n",
    "GENOME_Q_ARGS"
   ]
  },
  {
   "cell_type": "code",
   "execution_count": 105,
   "id": "d743e609",
   "metadata": {},
   "outputs": [],
   "source": [
    "def check_seq_in_gb(gb_path,seq_json):\n",
    "    \n",
    "    cor_json_plus = convert_seq_cor(gb_path,seq_json,strand='+')\n",
    "    cor_json_min = convert_seq_cor(gb_path,seq_json,strand='-')\n",
    "    \n",
    "    for plus,minus in zip(cor_json_plus,cor_json_min):\n",
    "        if cor_json_plus[plus] =='-1,-1' and  cor_json_min[minus] == '-1,-1':\n",
    "            #序列不存在GB文件\n",
    "             region_json[plus] = 'The sequence you provided is not on the plasmid file'\n",
    "        elif cor_json_plus[plus]!='-1,-1' and cor_json_min[minus] == '-1,-1':\n",
    "            #序列在正义链\n",
    "            pass\n",
    "        elif cor_json_plus[plus]!='-1,-1' and cor_json_min[minus] == '-1,-1':\n",
    "            #序列在负义链\n",
    "            region_json[plus] = su.revComp(region_json[plus])\n",
    "        else:\n",
    "            pass\n",
    "    return seq_json"
   ]
  },
  {
   "cell_type": "code",
   "execution_count": 84,
   "id": "b105c3ce",
   "metadata": {},
   "outputs": [],
   "source": [
    "#只要不存在off-target，可义将一切序列转化成坐标\n",
    "def convert_seq_cor(gb_path,region_seq_json,strand='+'):\n",
    "    gb = SeqIO.read(gb_path, \"genbank\")\n",
    "    gb_seq = str(gb.seq).upper()\n",
    "    \n",
    "    if strand == '-':\n",
    "        gb_seq = su.revComp(gb_seq)\n",
    "    \n",
    "    region_cor_json = {}\n",
    "    for k,v in region_seq_json.items():\n",
    "        v = v.upper()\n",
    "        start = gb_seq.find(v)\n",
    "        end = start + len(v)\n",
    "        if start == -1:\n",
    "            i = 1\n",
    "            start_seq = ''\n",
    "            end_seq = ''\n",
    "            while True:\n",
    "                new_start = gb_seq.find(v[:i])\n",
    "                if new_start == -1:\n",
    "                    break\n",
    "                else:\n",
    "                    if gb_seq.find(v[i:]) == 0:\n",
    "                        start_seq = v[:i]\n",
    "                        end_seq = v[i:]\n",
    "                        print(start_seq,end_seq)\n",
    "                        break\n",
    "                    else:        \n",
    "                        i = i + 1\n",
    "                        if i == len(v):\n",
    "                            break\n",
    "            if start_seq == '' and end_seq == '':\n",
    "                start = -1\n",
    "                end = -1\n",
    "            else:\n",
    "                start = gb_seq.find(start_seq)\n",
    "                end = gb_seq.find(end_seq)\n",
    "                end = end + len(v)\n",
    "                \n",
    "        region_cor_json.update({k:f'{start},{end}'})\n",
    "        \n",
    "    return region_cor_json  "
   ]
  },
  {
   "cell_type": "code",
   "execution_count": null,
   "id": "559bf725",
   "metadata": {},
   "outputs": [],
   "source": []
  },
  {
   "cell_type": "code",
   "execution_count": null,
   "id": "b45adf82",
   "metadata": {},
   "outputs": [],
   "source": [
    "# 导入Biopython的SeqIO模块\n",
    "from Bio import SeqIO\n",
    "\n",
    "# 创建一个SeqRecord对象，表示DNA序列\n",
    "dna_record = SeqIO.SeqRecord(dna_seq)\n",
    "\n",
    "# 设置SeqRecord对象的属性\n",
    "dna_record.id = \"DNA1\"\n",
    "dna_record.name = \"DNA1\"\n",
    "dna_record.description = \"A sample DNA sequence with primers\"\n",
    "\n",
    "# 导入Biopython的SeqFeature模块\n",
    "from Bio import SeqFeature\n",
    "\n",
    "# 创建两个SeqFeature对象，表示引物序列在DNA序列上的位置和方向\n",
    "primer1_feature = SeqFeature.SeqFeature(SeqFeature.FeatureLocation(0, len(primer1)), type=\"primer_bind\", strand=+1)\n",
    "primer2_feature = SeqFeature.SeqFeature(SeqFeature.FeatureLocation(len(dna_seq) - len(primer2), len(dna_seq)), type=\"primer_bind\", strand=-1)\n",
    "\n",
    "# 把SeqFeature对象添加到SeqRecord对象的features列表中\n",
    "dna_record.features.append(primer1_feature)\n",
    "dna_record.features.append(primer2_feature)\n",
    "\n",
    "# 把SeqRecord对象写入一个新的gb文件中\n",
    "with open(\"output.gbk\", \"w\") as output_handle:\n",
    "    SeqIO.write(dna_record, output_handle, \"genbank\")"
   ]
  }
 ],
 "metadata": {
  "kernelspec": {
   "display_name": "Python 3 (ipykernel)",
   "language": "python",
   "name": "python3"
  },
  "language_info": {
   "codemirror_mode": {
    "name": "ipython",
    "version": 3
   },
   "file_extension": ".py",
   "mimetype": "text/x-python",
   "name": "python",
   "nbconvert_exporter": "python",
   "pygments_lexer": "ipython3",
   "version": "3.8.15"
  }
 },
 "nbformat": 4,
 "nbformat_minor": 5
}
